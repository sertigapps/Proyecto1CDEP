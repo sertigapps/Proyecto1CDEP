{
 "cells": [
  {
   "cell_type": "code",
   "execution_count": 1,
   "metadata": {},
   "outputs": [],
   "source": [
    "import requests\n",
    "import re\n",
    "from textblob import TextBlob"
   ]
  },
  {
   "cell_type": "code",
   "execution_count": 2,
   "metadata": {},
   "outputs": [],
   "source": [
    "response = requests.get('https://www.yelp.com/biz/contramar-ciudad-de-méxico?osq=Restaurants')"
   ]
  },
  {
   "cell_type": "code",
   "execution_count": 3,
   "metadata": {},
   "outputs": [],
   "source": [
    "htmlreviewtag = '<span class=\"lemon--span__373c0__3997G raw__373c0__3rKqk\" lang=\"en\">' \n",
    "htmlreviewtagend = '</span>'"
   ]
  },
  {
   "cell_type": "code",
   "execution_count": 4,
   "metadata": {},
   "outputs": [
    {
     "data": {
      "text/plain": [
       "'just reopened from quarantine. great service, amazing food especially tuna tostadas'"
      ]
     },
     "execution_count": 4,
     "metadata": {},
     "output_type": "execute_result"
    }
   ],
   "source": [
    "review = re.search(htmlreviewtag + '(.+?)' + htmlreviewtagend, response.text).group(1)\n",
    "review"
   ]
  },
  {
   "cell_type": "code",
   "execution_count": 5,
   "metadata": {},
   "outputs": [
    {
     "data": {
      "text/plain": [
       "[(231834, 231992),\n",
       " (249112, 250986),\n",
       " (271041, 272061),\n",
       " (293578, 294819),\n",
       " (318309, 320463),\n",
       " (342606, 343216),\n",
       " (366948, 369347),\n",
       " (391486, 392842),\n",
       " (414930, 415936),\n",
       " (437190, 438650),\n",
       " (460562, 461094),\n",
       " (482380, 483643),\n",
       " (504972, 505898),\n",
       " (529189, 529691),\n",
       " (553178, 553695),\n",
       " (575185, 576273),\n",
       " (597595, 599016),\n",
       " (616349, 616824),\n",
       " (635924, 638107),\n",
       " (661597, 662324)]"
      ]
     },
     "execution_count": 5,
     "metadata": {},
     "output_type": "execute_result"
    }
   ],
   "source": [
    "htmlCompleto = response.text\n",
    "indexList = [(element.start(0), element.end(0)) for element in re.finditer(htmlreviewtag + '(.+?)' + htmlreviewtagend, htmlCompleto)] \n",
    "indexList"
   ]
  },
  {
   "cell_type": "code",
   "execution_count": 7,
   "metadata": {},
   "outputs": [
    {
     "name": "stdout",
     "output_type": "stream",
     "text": [
      "just reopened from quarantine. great service, amazing food especially tuna tostadas\n",
      "---\n",
      "This came recommended by literally every single person I know that went to Mexico City. Definitely book your reservation in advance or come early. If you are traveling and here during the week, there&#39;s barley any line when we went and we had a reservation at 12. Definitely choose the patio table! <br><br>We opted for the tostada atun. Honestly I wish I did two orders. They come with four but I would have easily ate four. That&#39;s really all you need to get! <br><br>Being the Americans we are, we wanted to try more because were like, this won&#39;t fill me up and more like everyone else in the world, WE WERE ON VACATION! In addition to the tostada, we got the: contra ceviche, atun appetizer (which was as basically sashimi with some type of soy sauce dressing but want overly soy sauce) - that one was really good and the fish was extremely fresh. The ceviche left for something to be desired. It came with chips but I think the fish was so large and we ordered soooo much fish. We also got one of their daily specials which was the soft shell crab. It came with tortillas and wasn&#39;t the soft shell crab you&#39;re thinking about if you go to Asian restaurants. It&#39;s more like just the inside with some hard shells on the outside. Sadly no arms or anything like I love. This was filling and at that point I was like we ordered too much food.  Because we had one more dish (fish), it was the pastor fish tacos. They were ok. Maybe should have gone with beef? But honestly all you should get is the atun tostada and the atun sashimi. Definitely worth every penny. They know how to do tostadas here right. Everything else is good but don&#39;t pass those up! The service is excellent. Some speak English and some speak Spanish. Make sure you have your translator app just in case!\n",
      "---\n",
      "This place was paaaacked around 5p and we barely got a table in time. I&#39;d recommend coming by a bit earlier if possible.<br><br>We ordered the tuna tostada, contramar fish, clam ceviche, and an appetizer that was quite forgettable <br><br>The clam ceviche wasn&#39;t as good as I expected despite the rave, but definitely aesthetic. The fish was really good and we learned that it was a red snapper. I&#39;ve never had it cooked in that way and the waiter served it with such skill. The green portion tasted much better.<br><br>The tuna tostada was definitely my favorite. We only got four pieces but I thought I could eat the entire dish by myself. <br><br>We ended the night with a cheese flan which was absolutely delicious but extremely heavy. I don&#39;t think you&#39;ll need more than one for a group of four.<br><br>Service was great but the prices were slightly steep for CDMX, but definitely one of my favorite spots from the trip!\n",
      "---\n",
      "Incredible. For all the hype around this place, we were still surprised at how blown away we were. <br><br>First visit, we got the tuna tostadas, pescado al pastor tacos, green ceviche (special), their signature fish, and a fig tart for dessert. Every single thing was incredible. The tostadas and the ceviche were essentially perfect dishes -- it&#39;s hard to imagine food being better than either of these two items. We also were dying over the tacos, and couldn&#39;t believe how much we loved the tart. (My wife typically isn&#39;t crazy about figs, but we both mentioned that it felt like we were eating real, fresh figs for the first time.)<br><br>On the fish -- it was amazing, one of the best whole fish dishes we&#39;ve ever had. At the same time, we almost felt like it was beyond the point, given how insanely in love with everything else we were. If there was anything I&#39;d skip next time in favor of trying new things, it&#39;s probably this, as crazy as that sounds. (This really would be an amazing place to go with more than two people, so that you can order more variety and share everything.)<br><br>We will definitely be back on our next trip.\n",
      "---\n",
      "OK SO even though there is a possibility we could have gotten food poisoning from here.... I am still going to give it a 4 star total because food&amp;service were def 5 stars!<br><br>First off.. this place is PACKED it seems at all hours. Inside/outside you name it.<br>The bf made a reservation for an early dinn at 5pm on Monday, but since we were in the area early, they were able to seat us at 4:30. It is a very busy environment with lots of filled tables, a bar, and a semi open kitchen.<br>We knew for sure we wanted the tuna tostada and we asked our waiter for other recs. <br>They start you off with a bread basket with sides of salsa and onion/pepper mix (beware this one&#39;s hot!)<br><br>- Tuna tostada: AMAZEEEE . You must try this if you come to mexico city. The tuna is deliciously marinated in a sauce that almost seems soy sauce based? and topped with fried onions and avo! So so good. I could eat just this for dinner (unless it was the food poisoning culprit....)<br><br>- Shrimp aguachiles: This was our first time trying aguachiles, and it&#39;s similar to a ceviche but more green with cucumbers, lime, cilantro. The shrimp was really good! I&#39;ve never had it raw/cured/cooked like this. I think it&#39;s technically still raw but the lime juice cures it?? something like that. But it wasn&#39;t fishy at all and the sauce was very limey and refreshing<br><br>- Octopus and potatoes: I thought this was pretty good but my bf didn&#39;t like it lol. I&#39;m a fan of grilled octopus and I thought it was nicely cooked! Not rubbery like the one we had at Pujol. But it definitely lacked in flavor<br><br>- Contramar ceviche: I think we could&#39;ve done without this one, but my bf was still hungry after our first 3 dishes. The cod fish pieces are definitely big and the taste was great. DON&#39;T EAT THE PEPPERS !! very very hot. They look like yellow bellpeppers but they&#39;re not!<br><br>On top of the delicious food, our waiter was so nice and attentive! <br><br>The only problem was the after effects T.T <br>BUT i&#39;d still come back here lol\n",
      "---\n",
      "Contramar lived up to the hype! The service was INCREDIBLE. Every member of the staff, from the host to the waiters and busboys...we ALL so warm and friendly. The food was absolutely delicious. Fresh, simple and flavorful ingredients. We ordered: <br><br>Oysters on the half shell<br>Cocteles Camaron-Shrimp cocktail <br>Pulpos alla Gallega-Galicia style octopus<br>Pescado a la talla-famous red and green grilled snapper<br>Fig tarte<br><br>All I can say is WOW. What an outstanding dining experience. Contramar is NOT TO BE MISSED!!!\n",
      "---\n",
      "How do you properly recount a dream, because that&#39;s what it feels like talking about Contramar. This was one of our top to-try places in CDMX and we were so nervous that we wouldn&#39;t get a seat, but lo and behold, we came soon after opening and were able to put our name down for an hour and a half wait. Not bad as there&#39;s a bunch of shopping and cute vintage stores nearby. <br><br>For our meal, we pretty much went with the recommendations, tuna tostadas, the grilled octopus app, the half and half pescado and, what our hearts desired with the merengue dessert. We also enjoyed a bottle of white wine while seated outside. <br><br>Service was great, and admittedly I had never had a fish French-served before so I was pretty excited over that method. Our wine glasses were kept full as our stomachs filled up with these impossibly delicious dishes.<br><br>Tuna tostasdas- great refreshing way to start the meal. Believe it or not this was the only avocado I ate on the trip and what a damn shame because it was so creamy and perfectly ripe.<br><br>Octopus app - yes! Octopus is always the most contentious thing to order because most places mess up the damn thing. Contramar had a great way of spotlighting it, mixed in with potato and citrus and chili flavors, which were complementary and not overpowering. The octopus itself was grilled like a pro as you&#39;d expect from here.<br><br>The Half and Half pescado - holy crap yes. By this time my stomach was so full and my eyes were so big. I ate as much as I physically could. Both sides were incredible, but I think I preferd the red just a little more. I&#39;m still dreaming about this.<br><br>Dessert - the merengue: We were worried this would be too sweet but we were happy to find we we wrong. It was just the perfect amount of sweetness. We were moved to try it by the conical shaped cream covering the slice of cake. Those were probably the sweetest part of it. The cake was light and fluffy and there was some pudding like cream in between the conical cream and cake which was a pleasant surprise.<br><br>All and all, if you&#39;re visiting CDMX, or even a local (which most people at the restaurant seemed to be), Contramar is worth the visit. Netflix hasn&#39;t spoiled the place, but rather shined a spotlight on a well-deserving establishment.\n",
      "---\n",
      "I read a lot of contradictory reviews about this place but had to check it out as I was living 3 mins away from this place on my recent trip. <br><br>We did not have a reservation and they were booked pretty solid till end of Jan. We decided to show up and see if they could squeeze us in. And they did!!! I was utterly shocked and so pleasantly surprised. <br><br>They started us off with some nachos and bread and tortillas. The spicy guacamole that came with it was scrumptious. Our server suggested the margaritas and they were good. Mezcal based. <br><br>We Ordered the pescadillas  that looked like empanadas and was filled with stuffing. I don&#39;t really love fish but the shell was perfect. <br><br>The tuna tacos adobo style were spicy and flavorful. Lot of filling here too. <br><br>The ceviche was their star actually. Beautiful fresh flavors. Lot of meat too!<br><br>Their grilled red snapper comes based on weight. We ordered 600 Gms which was fine for two people. The Contramar special was half parsley, half adobo. Parsley one was my favorite. It was very minty and pesto-y. Nice soft fish grilled beautifully. <br><br>We ended with the fig dessert. Nice cheesy base and crisp pastry base. <br><br>Overall we had a good time. Definitely order the ceviche and fish!\n",
      "---\n",
      "I was supposed to love this seafood  place and let me tell you it was horrible from the get go. We got a table on a  rainy Monday  and the place was packed: there was not one Mexican local all tourists. THen we sat down and they wanted our order and literally hovered over us. THe staff is super friendly but it was rush ruSh rush ...<br>They hot Spicey topping served with the breads was so hot my friend who never gets overwhelmed was in fire and even asked about it and wa not warned.<br>We ordered queen scallops = <br>4 raw oysters      No big deal <br>Tuna tostado ( with out the mayo ) Dee Lish BBRT is was just tuna sha shami<br>And fish pescoral with was served with tortillas and a fish of onions and pineapple and parsley <br>Lame <br>Also I order clam chowder and thought was forgotten !!!<br>We finally did get it and ordinary  <br>The staff ran around and it was so opposite of relaxing and enjoy lunch. <br>Do not go\n",
      "---\n",
      "Not sure if I came on an off day, but I was not very impressed. Maybe it was overhyped before I came?<br><br>I made a reservation online, which was fairly easy. The restaurant was pretty much empty when we arrived but did quickly fill up. There are a lot of waitstaff so service is very prompt and fast. Prices here are obviously higher than most places in CDMX due to its popularity, especially after the show.<br><br>They are most famous for their Atun Tostada MX$287. The marinated tuna was good and tender, and the tostada was nice and crispy. The crispy leeks on there really do add great flavor and sweetness to each bite. You get 4 of these per order.<br><br>We also decided to try an aguachiles, which is basically like a ceviche. We ordered the octopus one MX$287 and was super disappointed. The octopus itself had no flavor...whatever the sauce was did not do enough. It was also more rubbery than I would have liked.<br><br>Lastly, we got the Tacos de pescado estilo Ensenada MX$205. These are fried fish tacos that are lightly battered. Also a disappointment, the fish was not flaky or tender...everything just tasted dry. It only had cabbage and sour cream on it, it probably needed a bunch of salsas.<br><br>I&#39;ve heard mixed reviews on their house specialty - the whole grilled fish but there is no way you can order that with just two people.<br><br>Maybe next time?\n",
      "---\n",
      "Tuna. Tostada. Wow.<br><br>First off, I walked in around lunch on a weekend and was able to snag a seat at the bar--score!<br><br>I ordered the tuna tostadas and a beer--didn&#39;t realize they give you 4 tostadas, which was more than enough food.<br><br>The tuna was heavenly and so fresh--unlike any tuna I have ever had before.<br><br>Pair that with the fact that after tax and tip, this meal was $20--and this is probably the best $20 I have ever spent.\n",
      "---\n",
      "This place was recommended by our hotel, our driver, Yelp/Tripadvisor ... and I really wanted to like this place but everything we had other than the crab tostadas, was honestly underwhelming.  I had expected the jumbo prawns to come out as grilled prawns, and instead we got giant shrimp cocktail with mayo.  While I&#39;m still fine with the preparation, it had an exceptionally shrimpy taste to it, which made me question it&#39;s freshness, but I ate all of it anyways.  I didn&#39;t feel well at the end of the meal and couldn&#39;t tell what was wrong, and by dinner time when we were having this nice fancy meal at Pujol (of all places too, ugh!), I made several visits to the restroom.  You can already tell where this is going - I had food poisoning, and I&#39;m certain it was because of these jumbo prawns because the other person I was dining with didn&#39;t have any of this and felt fine.  <br><br>Perhaps we didn&#39;t order the right thing, but either way - I question the freshness of the food here and am hesitant to go back.  If I ever work up the courage come back here, I&#39;d probably want to try the Contramar fish, which is a pretty popular item with most tables.\n",
      "---\n",
      "Definitely ordered way too much (obviously way too excited), but didn&#39;t feel disgustingly bloated in the end... And had zero regrets.<br><br>You MUST get the atun (tuna) tostadas. Unbelievable texture - crunchy and perfectly toasted tostada with a decent amount of tuna on top. Second favorite... Lies I wouldn&#39;t be able to choose from the Seafood stuffed Chile with Walnut sauce and Tacos Al pastor. The stuffed Chile is very unique so would recommend it just because I don&#39;t think you&#39;d find many other places.<br><br>Lastly the Fig tart!! I thought I didn&#39;t have the stomach for it anymore but then the waiter just dropped an entire tray of dessert options on our table (legit face full of desserts) and I just had to... And did not regret. Not very sweet so PERFECT for all end of meal seal.<br><br>Would recommend to EVERYONE.\n",
      "---\n",
      "Adding praise to that from hundreds of others...<br><br>The seafood soup is a bouillabaisse without saffron. It features the tenderest octopus this gal has ever enjoyed, along with morsels of white fish, shrimp and clams. This is destination soup. It is reason enough to block off a chunk of your day and head over there. <br><br>I&#39;m going to be dreaming about this soup, damn it. <br><br>People watching here is top shelf.\n",
      "---\n",
      "Service was excellent.<br><br>The contramar fish was just OK to be honest and a little bland. The waiter tried to suggest for us to get 500g per person, but that would have been way too much. We settled for about 650g. <br><br>The tuna tostadas were my favorite.<br><br>The bread basket given to us was very stale (or seemed that way). At the end of the day, food carries the most weight and I thought this place was just A-OK in that regard.\n",
      "---\n",
      "Contramar is on virtually every list of where to eat in Mexico City for good reason. I don&#39;t eat seafood so I didn&#39;t partake in their most famous offerings, particularly the octopus and the grilled whole fish. But I still had the most amazing time soaking up the beautiful atmosphere and stellar service. <br><br>Even my simple watercress salad was meticulously prepared. This is clearly not a restaurant that is resting on the laurels of its good reputation. The fig tart is a must. I have no idea where they get fresh figs seemingly year round, but the combination of sweet figs, creamy mascarpone, and crunchy crust won&#39;t be soon forgotten. The mezcal selection is also exceptional.<br><br>Logistics: They are only open 12-6:30pm most days, and it gets PACKED. In all likelihood, you will need to put your name on the list and they will give you a time to come back. Luckily, Contramar is in a pretty cute area of Roma Norte, so you should be able to find stuff to explore while you&#39;re waiting!\n",
      "---\n",
      "Contramar was my final meal on my trip to CDMX and it was a good one. We had a reservation at 5:30pm and were seated upon arrival. We ordered a bunch of dishes to share and left stuffed and happy. <br><br>[1] Tuna Tostada - topped with crispy leeks and chipotle mayonnaise. I was previously under the impression that I didn&#39;t really like tostadas but Contramar&#39;s Tostada Atun changed my mind. The fish and flavors were so fresh and the tostada had the perfect crunch to it. We had two orders with a total of eight pieces. <br><br>[2] Sauteed tacos Campechanos - sauteed shrimp and octopus in chile adobo. The octopus was cooked perfectly here. So often I come across mediocre octopus but Contramar knows what they&#39;re doing. <br><br>[3] Pescado a la talla (Contramar) - we chose the half/half option which was half red chili sauce and half parsley green sauce. Good sauces and tasty fish but the fish size we chose (700g) was a bit small for our party of three, we should have ordered the larger size.<br><br>[4] Ceviche Contramar - delicious and fresh ceviche with white fish. This was the best ceviche I had on this trip.  <br><br>Overall the ambiance was nice, service was very attentive and the food was fresh and perfectly cooked. Make a reservation if you can because this place gets very busy and is only open for limited hours.\n",
      "---\n",
      "So much YES!!!!!<br>Wow!!!! I wish wish wish they had a spot in LA! I would be a regular! The good  here is fresh, delicious, and pretty!! The salsas are to die for! This place was recommended by a few friends and was on the list of places to go to in Mexico City. And I must say, it lives up to the hype. We went for lunch, and loved the vibes. Just trust me, and all the other reviews-- GO HERE!!!!\n",
      "---\n",
      "Excellent food and excellent service. I&#39;m not huge into seafood, but the famous contramar grilled fish special won me over. Get a reservation here if you can. Otherwise, you can put your name down and head to a nearby bar for some drinks while waiting. I came as a party of two and we had about an hour wait. <br><br>The restaurant is packed but impeccable inside. They manage to cram a lot of tables next to each other, so I was happy that we had a window table. They start you off with some crispy tortilla type bread with green salsa and onions. Beware, the onions come with habanero peppers so they are spicy! <br><br>We order the tuna tostada (tostada atun) for appetizer, and it is just as good as all the other reviews say. Such a simple but flavor packed dish. Generous portion of tuna, with crispy onions adding a nice crunch! Really impressed with this dish. <br><br>For the grilled fish, you order by weight. We got the minimum weight possible and it was big enough for leftovers. After you order, the waiter brings out the raw fish to show you and confirm that the size is good - I thought the visualization was a great idea! Fish was delicious! Grilled perfectly with minimal bones. Half the fish had green chimichurri (I think) sauce, and the other had red adobo sauce. Both seasonings went great together. They also bring over beans and tortillas if you want to make a taco with it, but I wanted to concentrate on the fish alone. The servers help you get the fish from the serving plate to your own plate every time. I tried to do it myself once and our waited appeared out of nowhere to help me!<br><br>For dessert, we ordered the coconut flan and fig tart. They bring out the desserts so you can see it (really love all the visualizations at Contramar!) and decide what you want. Both were delicious. Coconut flan had lots of fruit chunks, and the fig tart was beautiful. The fig tart kind of tasted like a cheesecake, but not too sweet. <br><br>Mexico City is full of so many great food options, and I&#39;m so glad we took a visit to Contramar. I would definitely recommend this place!\n",
      "---\n",
      "Delightful. Food yummy. Service was good, and then it was great when he made a hilarious joke at the end. We were so overfull, but couldn&#39;t resist dessert. It was some white cake with meringue rolls on top and fresh strawberries on the side. The dessert exceeded our expectations. The tuna tostadas and the green and red sauced fish were very tasty. The only thing I didn&#39;t love was the sangria. I needed more fruit flavors. The light filled dining room makes for great photos. Make sure you check their hours. We stopped by and signed up for the waitlist. It took at least 1.5 hours for a table, so we went somewhere else to eat a snack first.\n",
      "---\n"
     ]
    }
   ],
   "source": [
    "for index in indexList:\n",
    "  inf = index[0]\n",
    "  sup = index[1]\n",
    "  review = htmlCompleto[inf + len(htmlreviewtag): sup -  len(htmlreviewtagend)]\n",
    "  print(review)\n",
    "  print('---')"
   ]
  },
  {
   "cell_type": "code",
   "execution_count": 8,
   "metadata": {},
   "outputs": [],
   "source": [
    "tagN = '<p class=\"lemon--p__373c0__3Qnnj text__373c0__2U54h text-color--mid__373c0__27i5f text-align--left__373c0__1Uy60 text-size--large__373c0__1j9OF\">'\n",
    "tagNEnd = ' reviews</p>'"
   ]
  },
  {
   "cell_type": "code",
   "execution_count": 9,
   "metadata": {},
   "outputs": [
    {
     "data": {
      "text/plain": [
       "'382'"
      ]
     },
     "execution_count": 9,
     "metadata": {},
     "output_type": "execute_result"
    }
   ],
   "source": [
    "totalReviews = re.search(tagN + '(.+?)' + tagNEnd, response.text).group(1)\n",
    "totalReviews"
   ]
  },
  {
   "cell_type": "code",
   "execution_count": 10,
   "metadata": {},
   "outputs": [
    {
     "data": {
      "text/plain": [
       "19"
      ]
     },
     "execution_count": 10,
     "metadata": {},
     "output_type": "execute_result"
    }
   ],
   "source": [
    "totalPags = int(totalReviews)/20\n",
    "totalPags = int(totalPags)\n",
    "totalPags"
   ]
  },
  {
   "cell_type": "code",
   "execution_count": 11,
   "metadata": {},
   "outputs": [],
   "source": [
    "allReviews = []\n",
    "\n",
    "for pageNum in range(0, int(totalReviews), 20):\n",
    "    URL = 'https://www.yelp.com/biz/contramar-ciudad-de-méxico?osq=Restaurants&start='+str(pageNum)\n",
    "    response = requests.get(URL)\n",
    "    initText = '<span class=\"lemon--span__373c0__3997G raw__373c0__3rKqk\" lang=\"en\">' \n",
    "    endText = '</span>'\n",
    "    try:\n",
    "        review = re.search(initText + '(.+?)' + endText, response.text).group(1)\n",
    "        indexList = [(element.start(0), element.end(0)) for element in re.finditer(initText + '(.+?)' + endText, response.text)] \n",
    "        completHtml = response.text\n",
    "        for index in indexList:\n",
    "            inf = index[0]\n",
    "            sup = index[1]\n",
    "            review = completHtml[inf + len(initText): sup -  len(endText)]\n",
    "            allReviews.append(review)\n",
    "    except:\n",
    "        pass"
   ]
  },
  {
   "cell_type": "code",
   "execution_count": 12,
   "metadata": {},
   "outputs": [],
   "source": [
    "for index, review in enumerate(allReviews):\n",
    "    review = review.replace('<br>', '')\n",
    "    review = review.replace('&#39;', \"'\")\n",
    "    review = review.replace(u'\\xa0', \" \")\n",
    "    review = review.lower()\n",
    "    review = review.rstrip('\\n')\n",
    "    allReviews[index] = review"
   ]
  },
  {
   "cell_type": "code",
   "execution_count": 13,
   "metadata": {},
   "outputs": [
    {
     "data": {
      "text/plain": [
       "'this place was recommended to us by many people who we otherwise respect. we made the reservation months in advance. we were running late, so we were sprinting through the streets of mexico city terrified that we would lose our coveted table. we arrived filled with excitement. it was....totally mediocre and one of the less flavorful meals we had in mexico. sure the tuna tostada is good - melt in your mouth high sushi quality, but by no means life changing. we had the shrimp tostada that was totally bland and had a mayo feel. we also got the bean tostada that was, again, totally bland. the meal was by far our most expensive on mexico and our most disappointing. the space is cool enough, but definitely not worth the hype.'"
      ]
     },
     "execution_count": 13,
     "metadata": {},
     "output_type": "execute_result"
    }
   ],
   "source": [
    "allReviews[200]"
   ]
  },
  {
   "cell_type": "code",
   "execution_count": 14,
   "metadata": {},
   "outputs": [
    {
     "data": {
      "text/plain": [
       "345"
      ]
     },
     "execution_count": 14,
     "metadata": {},
     "output_type": "execute_result"
    }
   ],
   "source": [
    "len(allReviews)"
   ]
  },
  {
   "cell_type": "code",
   "execution_count": 16,
   "metadata": {},
   "outputs": [],
   "source": [
    "polarities = []\n",
    "subjs = []\n",
    "label = []\n",
    "\n",
    "for review in allReviews:\n",
    "    sentimiento = TextBlob(review)\n",
    "    polarities.append(sentimiento.polarity)\n",
    "    subjs.append(sentimiento.subjectivity)\n",
    "\n",
    "    if (sentimiento.polarity > 0):\n",
    "        label.append('positivo')\n",
    "    elif (sentimiento.polarity < 0):\n",
    "        label.append('negativo')\n",
    "    else:\n",
    "        label.append('neutro')\n"
   ]
  },
  {
   "cell_type": "code",
   "execution_count": 17,
   "metadata": {},
   "outputs": [
    {
     "data": {
      "text/html": [
       "<div>\n",
       "<style scoped>\n",
       "    .dataframe tbody tr th:only-of-type {\n",
       "        vertical-align: middle;\n",
       "    }\n",
       "\n",
       "    .dataframe tbody tr th {\n",
       "        vertical-align: top;\n",
       "    }\n",
       "\n",
       "    .dataframe thead th {\n",
       "        text-align: right;\n",
       "    }\n",
       "</style>\n",
       "<table border=\"1\" class=\"dataframe\">\n",
       "  <thead>\n",
       "    <tr style=\"text-align: right;\">\n",
       "      <th></th>\n",
       "      <th>polaridad</th>\n",
       "      <th>subje</th>\n",
       "      <th>etiqueta</th>\n",
       "    </tr>\n",
       "  </thead>\n",
       "  <tbody>\n",
       "    <tr>\n",
       "      <th>0</th>\n",
       "      <td>0.466667</td>\n",
       "      <td>0.883333</td>\n",
       "      <td>positivo</td>\n",
       "    </tr>\n",
       "    <tr>\n",
       "      <th>1</th>\n",
       "      <td>0.291036</td>\n",
       "      <td>0.435072</td>\n",
       "      <td>positivo</td>\n",
       "    </tr>\n",
       "    <tr>\n",
       "      <th>2</th>\n",
       "      <td>0.186111</td>\n",
       "      <td>0.535317</td>\n",
       "      <td>positivo</td>\n",
       "    </tr>\n",
       "    <tr>\n",
       "      <th>3</th>\n",
       "      <td>0.281443</td>\n",
       "      <td>0.525843</td>\n",
       "      <td>positivo</td>\n",
       "    </tr>\n",
       "    <tr>\n",
       "      <th>4</th>\n",
       "      <td>0.345814</td>\n",
       "      <td>0.591208</td>\n",
       "      <td>positivo</td>\n",
       "    </tr>\n",
       "  </tbody>\n",
       "</table>\n",
       "</div>"
      ],
      "text/plain": [
       "   polaridad     subje  etiqueta\n",
       "0   0.466667  0.883333  positivo\n",
       "1   0.291036  0.435072  positivo\n",
       "2   0.186111  0.535317  positivo\n",
       "3   0.281443  0.525843  positivo\n",
       "4   0.345814  0.591208  positivo"
      ]
     },
     "execution_count": 17,
     "metadata": {},
     "output_type": "execute_result"
    }
   ],
   "source": [
    "import pandas as pd\n",
    "\n",
    "dataOut = pd.DataFrame({'polaridad': polarities, 'subje':subjs, 'etiqueta': label})\n",
    "dataOut.head()"
   ]
  },
  {
   "cell_type": "code",
   "execution_count": 31,
   "metadata": {},
   "outputs": [
    {
     "data": {
      "text/html": [
       "<div>\n",
       "<style scoped>\n",
       "    .dataframe tbody tr th:only-of-type {\n",
       "        vertical-align: middle;\n",
       "    }\n",
       "\n",
       "    .dataframe tbody tr th {\n",
       "        vertical-align: top;\n",
       "    }\n",
       "\n",
       "    .dataframe thead th {\n",
       "        text-align: right;\n",
       "    }\n",
       "</style>\n",
       "<table border=\"1\" class=\"dataframe\">\n",
       "  <thead>\n",
       "    <tr style=\"text-align: right;\">\n",
       "      <th></th>\n",
       "      <th>polaridad</th>\n",
       "      <th>subje</th>\n",
       "    </tr>\n",
       "  </thead>\n",
       "  <tbody>\n",
       "    <tr>\n",
       "      <th>count</th>\n",
       "      <td>345.000000</td>\n",
       "      <td>345.000000</td>\n",
       "    </tr>\n",
       "    <tr>\n",
       "      <th>mean</th>\n",
       "      <td>0.329279</td>\n",
       "      <td>0.569261</td>\n",
       "    </tr>\n",
       "    <tr>\n",
       "      <th>std</th>\n",
       "      <td>0.174633</td>\n",
       "      <td>0.120279</td>\n",
       "    </tr>\n",
       "    <tr>\n",
       "      <th>min</th>\n",
       "      <td>-0.418750</td>\n",
       "      <td>0.243750</td>\n",
       "    </tr>\n",
       "    <tr>\n",
       "      <th>25%</th>\n",
       "      <td>0.221332</td>\n",
       "      <td>0.500000</td>\n",
       "    </tr>\n",
       "    <tr>\n",
       "      <th>50%</th>\n",
       "      <td>0.318333</td>\n",
       "      <td>0.560902</td>\n",
       "    </tr>\n",
       "    <tr>\n",
       "      <th>75%</th>\n",
       "      <td>0.425000</td>\n",
       "      <td>0.622619</td>\n",
       "    </tr>\n",
       "    <tr>\n",
       "      <th>max</th>\n",
       "      <td>1.000000</td>\n",
       "      <td>1.000000</td>\n",
       "    </tr>\n",
       "  </tbody>\n",
       "</table>\n",
       "</div>"
      ],
      "text/plain": [
       "        polaridad       subje\n",
       "count  345.000000  345.000000\n",
       "mean     0.329279    0.569261\n",
       "std      0.174633    0.120279\n",
       "min     -0.418750    0.243750\n",
       "25%      0.221332    0.500000\n",
       "50%      0.318333    0.560902\n",
       "75%      0.425000    0.622619\n",
       "max      1.000000    1.000000"
      ]
     },
     "execution_count": 31,
     "metadata": {},
     "output_type": "execute_result"
    }
   ],
   "source": [
    "dataOut.describe()"
   ]
  },
  {
   "cell_type": "code",
   "execution_count": 27,
   "metadata": {},
   "outputs": [
    {
     "data": {
      "image/png": "[encoded data removed]",
      "text/plain": [
       "<Figure size 432x288 with 1 Axes>"
      ]
     },
     "metadata": {
      "needs_background": "light"
     },
     "output_type": "display_data"
    }
   ],
   "source": [
    "import matplotlib.pyplot as plt\n",
    "fig = plt.figure()\n",
    "ax = fig.add_axes([0,0,1,1])\n",
    "langs = ['Positivos', 'Negativos', 'Neutro']\n",
    "students = [len(dataOut[dataOut['etiqueta'] == 'positivo']),len(dataOut[dataOut['etiqueta'] == 'negativo']), len(dataOut[dataOut['etiqueta'] == 'neutro'])]\n",
    "ax.bar(langs,students)\n",
    "plt.show()"
   ]
  },
  {
   "cell_type": "code",
   "execution_count": 29,
   "metadata": {},
   "outputs": [
    {
     "data": {
      "image/png": "[encoded data removed]",
      "text/plain": [
       "<Figure size 720x504 with 1 Axes>"
      ]
     },
     "metadata": {
      "needs_background": "light"
     },
     "output_type": "display_data"
    }
   ],
   "source": [
    "fig = plt.figure(figsize =(10, 7)) \n",
    "ax = fig.add_axes([0, 0, 1, 1]) \n",
    "bp = ax.boxplot([dataOut['polaridad'], dataOut['subje']]) \n",
    "plt.show() "
   ]
  },
  {
   "cell_type": "markdown",
   "metadata": {},
   "source": [
    "# Conclusiones Comentarios\n",
    "Los resultados demuestran que el restaurante es bastante bueno ya que tienen muchos mas resultados positivos que negativos o neutros esto junto con el analisis de polaridad el cual tiene un promedio de 0.32 con la mayoria de outliers en la parte superior nos indica que la mayoria de personas escribio en una forma positiva, de igual forma la subjetividad se encuentra en el area media como visto en el boxplot por lo cual se asume que los reviews fueron subjetivos y no basados en opinion personal "
   ]
  },
  {
   "cell_type": "code",
   "execution_count": null,
   "metadata": {},
   "outputs": [],
   "source": []
  }
 ],
 "metadata": {
  "kernelspec": {
   "display_name": "Python 3",
   "language": "python",
   "name": "python3"
  },
  "language_info": {
   "codemirror_mode": {
    "name": "ipython",
    "version": 3
   },
   "file_extension": ".py",
   "mimetype": "text/x-python",
   "name": "python",
   "nbconvert_exporter": "python",
   "pygments_lexer": "ipython3",
   "version": "3.7.7"
  }
 },
 "nbformat": 4,
 "nbformat_minor": 4
}
