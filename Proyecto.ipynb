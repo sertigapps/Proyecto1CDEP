{
 "cells": [
  {
   "cell_type": "markdown",
   "metadata": {},
   "source": [
    "# Proyecto #1"
   ]
  },
  {
   "cell_type": "markdown",
   "metadata": {},
   "source": [
    "import numpy as np"
   ]
  },
  {
   "cell_type": "code",
   "execution_count": 2,
   "metadata": {},
   "outputs": [],
   "source": [
    "datos = np.load('proyecto_training_data.npy')"
   ]
  },
  {
   "cell_type": "markdown",
   "metadata": {},
   "source": [
    "# Conteo de Datos"
   ]
  },
  {
   "cell_type": "code",
   "execution_count": 9,
   "metadata": {},
   "outputs": [
    {
     "name": "stdout",
     "output_type": "stream",
     "text": [
      "1460\n"
     ]
    }
   ],
   "source": [
    "#Numero de datos\n",
    "print(len(datos))"
   ]
  },
  {
   "cell_type": "code",
   "execution_count": 22,
   "metadata": {},
   "outputs": [
    {
     "name": "stdout",
     "output_type": "stream",
     "text": [
      "1168\n"
     ]
    }
   ],
   "source": [
    "# Datos de Entrenamiento\n",
    "trainData = datos[:1168]\n",
    "# Numero de datos de Entrenamiento\n",
    "print(len(trainData))"
   ]
  },
  {
   "cell_type": "code",
   "execution_count": 23,
   "metadata": {},
   "outputs": [
    {
     "name": "stdout",
     "output_type": "stream",
     "text": [
      "292\n"
     ]
    }
   ],
   "source": [
    "#Datos de Validacion\n",
    "valData = datos[1168:]\n",
    "#Numero de datos de Validacion\n",
    "print(len(valData))"
   ]
  },
  {
   "cell_type": "code",
   "execution_count": 56,
   "metadata": {},
   "outputs": [
    {
     "name": "stdout",
     "output_type": "stream",
     "text": [
      "Media SalesPrice :   180590.27739726027\n",
      "Media OverallQual :   6.101027397260274\n",
      "Media 1stFlrSF :   1156.3236301369864\n",
      "Media TotRmsAbvGrd :   6.4854452054794525\n",
      "Media YearBuilt :   1971.451198630137\n",
      "Media LotFrontage :   69.94698544698545\n"
     ]
    }
   ],
   "source": [
    "#Vamos a definir un areglo para las variables que se tienen\n",
    "variables = ['SalesPrice','OverallQual','1stFlrSF','TotRmsAbvGrd','YearBuilt','LotFrontage']\n",
    "#Debido a que se tienen valores nan en la ultima columna decidi utilizar nanmean que ignora este tipo de datos\n",
    "mediaTrainData = np.nanmean(trainData, axis = 0)\n",
    "for i in range(0, 6):\n",
    "    print('Media ' + variables[i] + ' :   ' + str(mediaTrainData[i]))"
   ]
  },
  {
   "cell_type": "markdown",
   "metadata": {},
   "source": []
  },
  {
   "cell_type": "code",
   "execution_count": null,
   "metadata": {},
   "outputs": [],
   "source": []
  },
  {
   "cell_type": "code",
   "execution_count": null,
   "metadata": {},
   "outputs": [],
   "source": []
  }
 ],
 "metadata": {
  "kernelspec": {
   "display_name": "Python 3",
   "language": "python",
   "name": "python3"
  },
  "language_info": {
   "codemirror_mode": {
    "name": "ipython",
    "version": 3
   },
   "file_extension": ".py",
   "mimetype": "text/x-python",
   "name": "python",
   "nbconvert_exporter": "python",
   "pygments_lexer": "ipython3",
   "version": "3.7.4"
  }
 },
 "nbformat": 4,
 "nbformat_minor": 4
}
