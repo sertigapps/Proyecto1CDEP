{
 "cells": [
  {
   "cell_type": "code",
   "execution_count": 536,
   "metadata": {},
   "outputs": [
    {
     "name": "stdout",
     "output_type": "stream",
     "text": [
      "The tensorboard extension is already loaded. To reload it, use:\n",
      "  %reload_ext tensorboard\n"
     ]
    }
   ],
   "source": [
    "import numpy as np \n",
    "from sklearn.model_selection import train_test_split\n",
    "from sklearn.preprocessing import OneHotEncoder\n",
    "from sklearn.model_selection import cross_val_score\n",
    "from sklearn.metrics import f1_score\n",
    "from sklearn import svm\n",
    "from sklearn import tree\n",
    "import pandas as pd\n",
    "import pickle\n",
    "import csv\n",
    "from csv import writer\n",
    "import tensorflow.compat.v1 as tf \n",
    "from scipy.stats import norm\n",
    "%load_ext tensorboard\n",
    "import seaborn as sns"
   ]
  },
  {
   "cell_type": "code",
   "execution_count": 410,
   "metadata": {},
   "outputs": [],
   "source": [
    "def agregarComoFila(archivo, elementos):\n",
    "    with open(archivo, 'a+', newline='') as write_obj:\n",
    "        csv_writer = writer(write_obj)\n",
    "        csv_writer.writerow(elementos)\n",
    "datadf = pd.read_csv('data_titanic_proyecto.csv',index_col = 'PassengerId')"
   ]
  },
  {
   "cell_type": "code",
   "execution_count": 411,
   "metadata": {},
   "outputs": [
    {
     "data": {
      "text/html": [
       "<div>\n",
       "<style scoped>\n",
       "    .dataframe tbody tr th:only-of-type {\n",
       "        vertical-align: middle;\n",
       "    }\n",
       "\n",
       "    .dataframe tbody tr th {\n",
       "        vertical-align: top;\n",
       "    }\n",
       "\n",
       "    .dataframe thead th {\n",
       "        text-align: right;\n",
       "    }\n",
       "</style>\n",
       "<table border=\"1\" class=\"dataframe\">\n",
       "  <thead>\n",
       "    <tr style=\"text-align: right;\">\n",
       "      <th></th>\n",
       "      <th>Name</th>\n",
       "      <th>Age</th>\n",
       "      <th>SibSp</th>\n",
       "      <th>Parch</th>\n",
       "      <th>Ticket</th>\n",
       "      <th>Fare</th>\n",
       "      <th>Cabin</th>\n",
       "      <th>Embarked</th>\n",
       "      <th>passenger_class</th>\n",
       "      <th>passenger_sex</th>\n",
       "      <th>passenger_survived</th>\n",
       "    </tr>\n",
       "    <tr>\n",
       "      <th>PassengerId</th>\n",
       "      <th></th>\n",
       "      <th></th>\n",
       "      <th></th>\n",
       "      <th></th>\n",
       "      <th></th>\n",
       "      <th></th>\n",
       "      <th></th>\n",
       "      <th></th>\n",
       "      <th></th>\n",
       "      <th></th>\n",
       "      <th></th>\n",
       "    </tr>\n",
       "  </thead>\n",
       "  <tbody>\n",
       "    <tr>\n",
       "      <th>1</th>\n",
       "      <td>Braund, Mr. Owen Harris</td>\n",
       "      <td>22.0</td>\n",
       "      <td>1</td>\n",
       "      <td>0</td>\n",
       "      <td>A/5 21171</td>\n",
       "      <td>7.2500</td>\n",
       "      <td>NaN</td>\n",
       "      <td>S</td>\n",
       "      <td>Lower</td>\n",
       "      <td>M</td>\n",
       "      <td>N</td>\n",
       "    </tr>\n",
       "    <tr>\n",
       "      <th>2</th>\n",
       "      <td>Cumings, Mrs. John Bradley (Florence Briggs Th...</td>\n",
       "      <td>38.0</td>\n",
       "      <td>1</td>\n",
       "      <td>0</td>\n",
       "      <td>PC 17599</td>\n",
       "      <td>71.2833</td>\n",
       "      <td>C85</td>\n",
       "      <td>C</td>\n",
       "      <td>Upper</td>\n",
       "      <td>F</td>\n",
       "      <td>Y</td>\n",
       "    </tr>\n",
       "    <tr>\n",
       "      <th>3</th>\n",
       "      <td>Heikkinen, Miss. Laina</td>\n",
       "      <td>26.0</td>\n",
       "      <td>0</td>\n",
       "      <td>0</td>\n",
       "      <td>STON/O2. 3101282</td>\n",
       "      <td>7.9250</td>\n",
       "      <td>NaN</td>\n",
       "      <td>S</td>\n",
       "      <td>Lower</td>\n",
       "      <td>F</td>\n",
       "      <td>Y</td>\n",
       "    </tr>\n",
       "    <tr>\n",
       "      <th>4</th>\n",
       "      <td>Futrelle, Mrs. Jacques Heath (Lily May Peel)</td>\n",
       "      <td>35.0</td>\n",
       "      <td>1</td>\n",
       "      <td>0</td>\n",
       "      <td>113803</td>\n",
       "      <td>53.1000</td>\n",
       "      <td>C123</td>\n",
       "      <td>S</td>\n",
       "      <td>Upper</td>\n",
       "      <td>F</td>\n",
       "      <td>Y</td>\n",
       "    </tr>\n",
       "    <tr>\n",
       "      <th>5</th>\n",
       "      <td>Allen, Mr. William Henry</td>\n",
       "      <td>35.0</td>\n",
       "      <td>0</td>\n",
       "      <td>0</td>\n",
       "      <td>373450</td>\n",
       "      <td>8.0500</td>\n",
       "      <td>NaN</td>\n",
       "      <td>S</td>\n",
       "      <td>Lower</td>\n",
       "      <td>M</td>\n",
       "      <td>N</td>\n",
       "    </tr>\n",
       "  </tbody>\n",
       "</table>\n",
       "</div>"
      ],
      "text/plain": [
       "                                                          Name   Age  SibSp  \\\n",
       "PassengerId                                                                   \n",
       "1                                      Braund, Mr. Owen Harris  22.0      1   \n",
       "2            Cumings, Mrs. John Bradley (Florence Briggs Th...  38.0      1   \n",
       "3                                       Heikkinen, Miss. Laina  26.0      0   \n",
       "4                 Futrelle, Mrs. Jacques Heath (Lily May Peel)  35.0      1   \n",
       "5                                     Allen, Mr. William Henry  35.0      0   \n",
       "\n",
       "             Parch            Ticket     Fare Cabin Embarked passenger_class  \\\n",
       "PassengerId                                                                    \n",
       "1                0         A/5 21171   7.2500   NaN        S           Lower   \n",
       "2                0          PC 17599  71.2833   C85        C           Upper   \n",
       "3                0  STON/O2. 3101282   7.9250   NaN        S           Lower   \n",
       "4                0            113803  53.1000  C123        S           Upper   \n",
       "5                0            373450   8.0500   NaN        S           Lower   \n",
       "\n",
       "            passenger_sex passenger_survived  \n",
       "PassengerId                                   \n",
       "1                       M                  N  \n",
       "2                       F                  Y  \n",
       "3                       F                  Y  \n",
       "4                       F                  Y  \n",
       "5                       M                  N  "
      ]
     },
     "execution_count": 411,
     "metadata": {},
     "output_type": "execute_result"
    }
   ],
   "source": [
    "# Vamos a ver un resumen\n",
    "datadf.head()"
   ]
  },
  {
   "cell_type": "markdown",
   "metadata": {},
   "source": [
    "# Exploracion y Feature Engineering"
   ]
  },
  {
   "cell_type": "code",
   "execution_count": null,
   "metadata": {},
   "outputs": [],
   "source": []
  },
  {
   "cell_type": "code",
   "execution_count": 231,
   "metadata": {},
   "outputs": [
    {
     "data": {
      "text/plain": [
       "Name                    0\n",
       "Age                   177\n",
       "SibSp                   0\n",
       "Parch                   0\n",
       "Ticket                  0\n",
       "Fare                    0\n",
       "Cabin                 687\n",
       "Embarked                2\n",
       "passenger_class         0\n",
       "passenger_sex           0\n",
       "passenger_survived      0\n",
       "dtype: int64"
      ]
     },
     "execution_count": 231,
     "metadata": {},
     "output_type": "execute_result"
    }
   ],
   "source": [
    "# En la primera linea vemos que hay valores NAN\n",
    "# por lo cual vamos a buscar que columnas tienen valores vacios o null\n",
    "datadf.isnull().sum()"
   ]
  },
  {
   "cell_type": "code",
   "execution_count": 232,
   "metadata": {},
   "outputs": [],
   "source": [
    "# vamos a remplazar los valores\n",
    "datadf['Embarked'] = datadf['Embarked'].fillna('C')\n",
    "datadf['Age']      = datadf['Age'].fillna(datadf['Age'].median())\n",
    "datadf['Fare']     = datadf['Fare'].fillna(datadf['Fare'].median())\n",
    "datadf['Cabin']    = datadf['Cabin'].fillna('Z')\n",
    "datadf['Cabin']    = datadf['Cabin'].apply(lambda x: str(x)[0])"
   ]
  },
  {
   "cell_type": "code",
   "execution_count": 233,
   "metadata": {},
   "outputs": [
    {
     "data": {
      "text/plain": [
       "Name                  0\n",
       "Age                   0\n",
       "SibSp                 0\n",
       "Parch                 0\n",
       "Ticket                0\n",
       "Fare                  0\n",
       "Cabin                 0\n",
       "Embarked              0\n",
       "passenger_class       0\n",
       "passenger_sex         0\n",
       "passenger_survived    0\n",
       "dtype: int64"
      ]
     },
     "execution_count": 233,
     "metadata": {},
     "output_type": "execute_result"
    }
   ],
   "source": [
    "# Ahora vamos a revisar que no hayan mas nulos\n",
    "datadf.isnull().sum()"
   ]
  },
  {
   "cell_type": "code",
   "execution_count": 234,
   "metadata": {},
   "outputs": [
    {
     "data": {
      "text/plain": [
       "PassengerId\n",
       "1    N\n",
       "2    Y\n",
       "3    Y\n",
       "4    Y\n",
       "5    N\n",
       "Name: passenger_survived, dtype: object"
      ]
     },
     "execution_count": 234,
     "metadata": {},
     "output_type": "execute_result"
    }
   ],
   "source": [
    "# Un poco de analisis exploratorio\n",
    "datadf['passenger_survived'].head()"
   ]
  },
  {
   "cell_type": "code",
   "execution_count": 235,
   "metadata": {},
   "outputs": [
    {
     "data": {
      "text/plain": [
       "count     891\n",
       "unique      2\n",
       "top         N\n",
       "freq      549\n",
       "Name: passenger_survived, dtype: object"
      ]
     },
     "execution_count": 235,
     "metadata": {},
     "output_type": "execute_result"
    }
   ],
   "source": [
    "datadf['passenger_survived'].describe()"
   ]
  },
  {
   "cell_type": "code",
   "execution_count": 236,
   "metadata": {},
   "outputs": [
    {
     "data": {
      "text/plain": [
       "count    891.000000\n",
       "mean       0.383838\n",
       "std        0.486592\n",
       "min        0.000000\n",
       "25%        0.000000\n",
       "50%        0.000000\n",
       "75%        1.000000\n",
       "max        1.000000\n",
       "Name: passenger_survived, dtype: float64"
      ]
     },
     "execution_count": 236,
     "metadata": {},
     "output_type": "execute_result"
    }
   ],
   "source": [
    "# Vamos a pasarlo a 1 y 0\n",
    "\n",
    "datadf['passenger_survived'] = datadf['passenger_survived'].map({'Y':1,'N':0})\n",
    "datadf['passenger_survived'].describe()"
   ]
  },
  {
   "cell_type": "code",
   "execution_count": 237,
   "metadata": {},
   "outputs": [
    {
     "data": {
      "text/plain": [
       "array(['Z', 'C', 'E', 'G', 'D', 'A', 'B', 'F', 'T'], dtype=object)"
      ]
     },
     "execution_count": 237,
     "metadata": {},
     "output_type": "execute_result"
    }
   ],
   "source": [
    "datadf['Cabin'].unique()"
   ]
  },
  {
   "cell_type": "code",
   "execution_count": 238,
   "metadata": {},
   "outputs": [
    {
     "data": {
      "text/plain": [
       "<matplotlib.axes._subplots.AxesSubplot at 0x1a40a575d0>"
      ]
     },
     "execution_count": 238,
     "metadata": {},
     "output_type": "execute_result"
    },
    {
     "data": {
      "image/png": "[encoded data removed]",
      "text/plain": [
       "<Figure size 432x288 with 1 Axes>"
      ]
     },
     "metadata": {
      "needs_background": "light"
     },
     "output_type": "display_data"
    }
   ],
   "source": [
    "# Vamos a revisar la columna Cabin con passenger survived \n",
    "sns.barplot(x= 'Cabin', y = 'passenger_survived', data = datadf ,order = ['A', 'B', 'C', 'D', 'E', 'F', 'G', 'Z', 'T'])"
   ]
  },
  {
   "cell_type": "code",
   "execution_count": 239,
   "metadata": {},
   "outputs": [],
   "source": [
    "# Vemos que hay tres rangos de probabilidad por lo cual vamos a unificar en grupos de alto medio bajo\n",
    "# y X para los que no tengan\n",
    "datadf['Cabin'] = datadf['Cabin'].replace(['B', 'D', 'E'], 'H')   #Alto\n",
    "datadf['Cabin'] = datadf['Cabin'].replace(['F', 'C'], 'M')        #Medio\n",
    "datadf['Cabin'] = datadf['Cabin'].replace(['T', 'G', 'A',], 'L')  #Bajo\n",
    "datadf['Cabin'] = datadf['Cabin'].replace(['Z'],'X')"
   ]
  },
  {
   "cell_type": "code",
   "execution_count": 240,
   "metadata": {},
   "outputs": [
    {
     "data": {
      "text/plain": [
       "<matplotlib.axes._subplots.AxesSubplot at 0x1a40f1bf50>"
      ]
     },
     "execution_count": 240,
     "metadata": {},
     "output_type": "execute_result"
    },
    {
     "data": {
      "image/png": "[encoded data removed]",
      "text/plain": [
       "<Figure size 432x288 with 1 Axes>"
      ]
     },
     "metadata": {
      "needs_background": "light"
     },
     "output_type": "display_data"
    }
   ],
   "source": [
    "# Esto es mas manejable\n",
    "sns.barplot(x= 'Cabin', y = 'passenger_survived', data = datadf ,order = ['H', 'M', 'L'])"
   ]
  },
  {
   "cell_type": "code",
   "execution_count": 241,
   "metadata": {},
   "outputs": [],
   "source": [
    "# Vamos a unificar la columna SibSp = Siblings and Spor y Parent Children en la columna Familia y viajasolo\n",
    "datadf['Familia'] = datadf['SibSp'] + datadf['Parch'] + 1\n",
    "datadf['Solo']  = datadf['Familia'].apply(lambda x: 1 if x == 1 else 0)\n",
    "datadf.drop(['SibSp','Parch'],axis = 1, inplace = True)"
   ]
  },
  {
   "cell_type": "code",
   "execution_count": 242,
   "metadata": {},
   "outputs": [],
   "source": [
    "# Tambien vamos a unir en grupo familiar\n",
    "datadf.loc[datadf['Familia'] > 2, 'GrupoFam'] = 3\n",
    "datadf.loc[datadf['Familia'] == 1, 'GrupoFam'] = 1\n",
    "datadf.loc[datadf['Familia'] == 2, 'GrupoFam'] = 2"
   ]
  },
  {
   "cell_type": "code",
   "execution_count": 243,
   "metadata": {},
   "outputs": [],
   "source": [
    "# Ahora vamos a mapear los datos con labels\n",
    "datadf['Embarked'] = datadf['Embarked'].map({'C':1, 'S':2, 'Q':3})\n",
    "datadf['passenger_sex']      = datadf['passenger_sex'].map({'M': 1,'F':0})\n",
    "datadf['CabinGroup'] = datadf['Cabin'].map({'H': 0, 'M': 1, 'L': 2, 'X':3})"
   ]
  },
  {
   "cell_type": "code",
   "execution_count": 244,
   "metadata": {},
   "outputs": [],
   "source": [
    "# Consideramos que el nombre no deberia de influir en el modelo\n",
    "datadf.drop(['Name'],axis = 1, inplace = True)"
   ]
  },
  {
   "cell_type": "code",
   "execution_count": 245,
   "metadata": {},
   "outputs": [],
   "source": [
    "# Vamos a agrupar las edades\n",
    "datadf.loc[datadf['Age'] <= 16, 'AgeGroup'] = 1\n",
    "datadf.loc[(datadf['Age'] > 16) & (datadf['Age'] <= 40), 'AgeGroup'] = 2\n",
    "datadf.loc[(datadf['Age'] > 40) & (datadf['Age'] < 60), 'AgeGroup'] = 3\n",
    "datadf.loc[(datadf['Age'] >= 60), 'AgeGroup'] = 4"
   ]
  },
  {
   "cell_type": "code",
   "execution_count": 246,
   "metadata": {},
   "outputs": [
    {
     "data": {
      "text/html": [
       "<div>\n",
       "<style scoped>\n",
       "    .dataframe tbody tr th:only-of-type {\n",
       "        vertical-align: middle;\n",
       "    }\n",
       "\n",
       "    .dataframe tbody tr th {\n",
       "        vertical-align: top;\n",
       "    }\n",
       "\n",
       "    .dataframe thead th {\n",
       "        text-align: right;\n",
       "    }\n",
       "</style>\n",
       "<table border=\"1\" class=\"dataframe\">\n",
       "  <thead>\n",
       "    <tr style=\"text-align: right;\">\n",
       "      <th></th>\n",
       "      <th>Age</th>\n",
       "      <th>Ticket</th>\n",
       "      <th>Fare</th>\n",
       "      <th>Cabin</th>\n",
       "      <th>Embarked</th>\n",
       "      <th>passenger_class</th>\n",
       "      <th>passenger_sex</th>\n",
       "      <th>passenger_survived</th>\n",
       "      <th>Familia</th>\n",
       "      <th>Solo</th>\n",
       "      <th>GrupoFam</th>\n",
       "      <th>CabinGroup</th>\n",
       "      <th>AgeGroup</th>\n",
       "    </tr>\n",
       "    <tr>\n",
       "      <th>PassengerId</th>\n",
       "      <th></th>\n",
       "      <th></th>\n",
       "      <th></th>\n",
       "      <th></th>\n",
       "      <th></th>\n",
       "      <th></th>\n",
       "      <th></th>\n",
       "      <th></th>\n",
       "      <th></th>\n",
       "      <th></th>\n",
       "      <th></th>\n",
       "      <th></th>\n",
       "      <th></th>\n",
       "    </tr>\n",
       "  </thead>\n",
       "  <tbody>\n",
       "    <tr>\n",
       "      <th>1</th>\n",
       "      <td>22.0</td>\n",
       "      <td>A/5 21171</td>\n",
       "      <td>7.2500</td>\n",
       "      <td>X</td>\n",
       "      <td>2</td>\n",
       "      <td>Lower</td>\n",
       "      <td>1</td>\n",
       "      <td>0</td>\n",
       "      <td>2</td>\n",
       "      <td>0</td>\n",
       "      <td>2.0</td>\n",
       "      <td>3</td>\n",
       "      <td>2.0</td>\n",
       "    </tr>\n",
       "    <tr>\n",
       "      <th>2</th>\n",
       "      <td>38.0</td>\n",
       "      <td>PC 17599</td>\n",
       "      <td>71.2833</td>\n",
       "      <td>M</td>\n",
       "      <td>1</td>\n",
       "      <td>Upper</td>\n",
       "      <td>0</td>\n",
       "      <td>1</td>\n",
       "      <td>2</td>\n",
       "      <td>0</td>\n",
       "      <td>2.0</td>\n",
       "      <td>1</td>\n",
       "      <td>2.0</td>\n",
       "    </tr>\n",
       "    <tr>\n",
       "      <th>3</th>\n",
       "      <td>26.0</td>\n",
       "      <td>STON/O2. 3101282</td>\n",
       "      <td>7.9250</td>\n",
       "      <td>X</td>\n",
       "      <td>2</td>\n",
       "      <td>Lower</td>\n",
       "      <td>0</td>\n",
       "      <td>1</td>\n",
       "      <td>1</td>\n",
       "      <td>1</td>\n",
       "      <td>1.0</td>\n",
       "      <td>3</td>\n",
       "      <td>2.0</td>\n",
       "    </tr>\n",
       "    <tr>\n",
       "      <th>4</th>\n",
       "      <td>35.0</td>\n",
       "      <td>113803</td>\n",
       "      <td>53.1000</td>\n",
       "      <td>M</td>\n",
       "      <td>2</td>\n",
       "      <td>Upper</td>\n",
       "      <td>0</td>\n",
       "      <td>1</td>\n",
       "      <td>2</td>\n",
       "      <td>0</td>\n",
       "      <td>2.0</td>\n",
       "      <td>1</td>\n",
       "      <td>2.0</td>\n",
       "    </tr>\n",
       "    <tr>\n",
       "      <th>5</th>\n",
       "      <td>35.0</td>\n",
       "      <td>373450</td>\n",
       "      <td>8.0500</td>\n",
       "      <td>X</td>\n",
       "      <td>2</td>\n",
       "      <td>Lower</td>\n",
       "      <td>1</td>\n",
       "      <td>0</td>\n",
       "      <td>1</td>\n",
       "      <td>1</td>\n",
       "      <td>1.0</td>\n",
       "      <td>3</td>\n",
       "      <td>2.0</td>\n",
       "    </tr>\n",
       "  </tbody>\n",
       "</table>\n",
       "</div>"
      ],
      "text/plain": [
       "              Age            Ticket     Fare Cabin  Embarked passenger_class  \\\n",
       "PassengerId                                                                    \n",
       "1            22.0         A/5 21171   7.2500     X         2           Lower   \n",
       "2            38.0          PC 17599  71.2833     M         1           Upper   \n",
       "3            26.0  STON/O2. 3101282   7.9250     X         2           Lower   \n",
       "4            35.0            113803  53.1000     M         2           Upper   \n",
       "5            35.0            373450   8.0500     X         2           Lower   \n",
       "\n",
       "             passenger_sex  passenger_survived  Familia  Solo  GrupoFam  \\\n",
       "PassengerId                                                               \n",
       "1                        1                   0        2     0       2.0   \n",
       "2                        0                   1        2     0       2.0   \n",
       "3                        0                   1        1     1       1.0   \n",
       "4                        0                   1        2     0       2.0   \n",
       "5                        1                   0        1     1       1.0   \n",
       "\n",
       "             CabinGroup  AgeGroup  \n",
       "PassengerId                        \n",
       "1                     3       2.0  \n",
       "2                     1       2.0  \n",
       "3                     3       2.0  \n",
       "4                     1       2.0  \n",
       "5                     3       2.0  "
      ]
     },
     "execution_count": 246,
     "metadata": {},
     "output_type": "execute_result"
    }
   ],
   "source": [
    "datadf.head()"
   ]
  },
  {
   "cell_type": "code",
   "execution_count": 247,
   "metadata": {},
   "outputs": [],
   "source": [
    "# De la misma forma que el nombre consideramos que el Ticket depende directamente del\n",
    "# Fare por lo cual vamos a ignorar esa columna\n",
    "\n",
    "datadf.drop(['Ticket'],axis = 1, inplace = True)"
   ]
  },
  {
   "cell_type": "code",
   "execution_count": 248,
   "metadata": {},
   "outputs": [
    {
     "data": {
      "text/html": [
       "<div>\n",
       "<style scoped>\n",
       "    .dataframe tbody tr th:only-of-type {\n",
       "        vertical-align: middle;\n",
       "    }\n",
       "\n",
       "    .dataframe tbody tr th {\n",
       "        vertical-align: top;\n",
       "    }\n",
       "\n",
       "    .dataframe thead th {\n",
       "        text-align: right;\n",
       "    }\n",
       "</style>\n",
       "<table border=\"1\" class=\"dataframe\">\n",
       "  <thead>\n",
       "    <tr style=\"text-align: right;\">\n",
       "      <th></th>\n",
       "      <th>Age</th>\n",
       "      <th>Fare</th>\n",
       "      <th>Cabin</th>\n",
       "      <th>Embarked</th>\n",
       "      <th>passenger_class</th>\n",
       "      <th>passenger_sex</th>\n",
       "      <th>passenger_survived</th>\n",
       "      <th>Familia</th>\n",
       "      <th>Solo</th>\n",
       "      <th>GrupoFam</th>\n",
       "      <th>CabinGroup</th>\n",
       "      <th>AgeGroup</th>\n",
       "    </tr>\n",
       "    <tr>\n",
       "      <th>PassengerId</th>\n",
       "      <th></th>\n",
       "      <th></th>\n",
       "      <th></th>\n",
       "      <th></th>\n",
       "      <th></th>\n",
       "      <th></th>\n",
       "      <th></th>\n",
       "      <th></th>\n",
       "      <th></th>\n",
       "      <th></th>\n",
       "      <th></th>\n",
       "      <th></th>\n",
       "    </tr>\n",
       "  </thead>\n",
       "  <tbody>\n",
       "    <tr>\n",
       "      <th>1</th>\n",
       "      <td>22.0</td>\n",
       "      <td>7.2500</td>\n",
       "      <td>X</td>\n",
       "      <td>2</td>\n",
       "      <td>Lower</td>\n",
       "      <td>1</td>\n",
       "      <td>0</td>\n",
       "      <td>2</td>\n",
       "      <td>0</td>\n",
       "      <td>2.0</td>\n",
       "      <td>3</td>\n",
       "      <td>2.0</td>\n",
       "    </tr>\n",
       "    <tr>\n",
       "      <th>2</th>\n",
       "      <td>38.0</td>\n",
       "      <td>71.2833</td>\n",
       "      <td>M</td>\n",
       "      <td>1</td>\n",
       "      <td>Upper</td>\n",
       "      <td>0</td>\n",
       "      <td>1</td>\n",
       "      <td>2</td>\n",
       "      <td>0</td>\n",
       "      <td>2.0</td>\n",
       "      <td>1</td>\n",
       "      <td>2.0</td>\n",
       "    </tr>\n",
       "    <tr>\n",
       "      <th>3</th>\n",
       "      <td>26.0</td>\n",
       "      <td>7.9250</td>\n",
       "      <td>X</td>\n",
       "      <td>2</td>\n",
       "      <td>Lower</td>\n",
       "      <td>0</td>\n",
       "      <td>1</td>\n",
       "      <td>1</td>\n",
       "      <td>1</td>\n",
       "      <td>1.0</td>\n",
       "      <td>3</td>\n",
       "      <td>2.0</td>\n",
       "    </tr>\n",
       "    <tr>\n",
       "      <th>4</th>\n",
       "      <td>35.0</td>\n",
       "      <td>53.1000</td>\n",
       "      <td>M</td>\n",
       "      <td>2</td>\n",
       "      <td>Upper</td>\n",
       "      <td>0</td>\n",
       "      <td>1</td>\n",
       "      <td>2</td>\n",
       "      <td>0</td>\n",
       "      <td>2.0</td>\n",
       "      <td>1</td>\n",
       "      <td>2.0</td>\n",
       "    </tr>\n",
       "    <tr>\n",
       "      <th>5</th>\n",
       "      <td>35.0</td>\n",
       "      <td>8.0500</td>\n",
       "      <td>X</td>\n",
       "      <td>2</td>\n",
       "      <td>Lower</td>\n",
       "      <td>1</td>\n",
       "      <td>0</td>\n",
       "      <td>1</td>\n",
       "      <td>1</td>\n",
       "      <td>1.0</td>\n",
       "      <td>3</td>\n",
       "      <td>2.0</td>\n",
       "    </tr>\n",
       "  </tbody>\n",
       "</table>\n",
       "</div>"
      ],
      "text/plain": [
       "              Age     Fare Cabin  Embarked passenger_class  passenger_sex  \\\n",
       "PassengerId                                                                 \n",
       "1            22.0   7.2500     X         2           Lower              1   \n",
       "2            38.0  71.2833     M         1           Upper              0   \n",
       "3            26.0   7.9250     X         2           Lower              0   \n",
       "4            35.0  53.1000     M         2           Upper              0   \n",
       "5            35.0   8.0500     X         2           Lower              1   \n",
       "\n",
       "             passenger_survived  Familia  Solo  GrupoFam  CabinGroup  AgeGroup  \n",
       "PassengerId                                                                     \n",
       "1                             0        2     0       2.0           3       2.0  \n",
       "2                             1        2     0       2.0           1       2.0  \n",
       "3                             1        1     1       1.0           3       2.0  \n",
       "4                             1        2     0       2.0           1       2.0  \n",
       "5                             0        1     1       1.0           3       2.0  "
      ]
     },
     "execution_count": 248,
     "metadata": {},
     "output_type": "execute_result"
    }
   ],
   "source": [
    "datadf.head()"
   ]
  },
  {
   "cell_type": "code",
   "execution_count": 249,
   "metadata": {},
   "outputs": [
    {
     "data": {
      "text/html": [
       "<div>\n",
       "<style scoped>\n",
       "    .dataframe tbody tr th:only-of-type {\n",
       "        vertical-align: middle;\n",
       "    }\n",
       "\n",
       "    .dataframe tbody tr th {\n",
       "        vertical-align: top;\n",
       "    }\n",
       "\n",
       "    .dataframe thead th {\n",
       "        text-align: right;\n",
       "    }\n",
       "</style>\n",
       "<table border=\"1\" class=\"dataframe\">\n",
       "  <thead>\n",
       "    <tr style=\"text-align: right;\">\n",
       "      <th></th>\n",
       "      <th>Age</th>\n",
       "      <th>Fare</th>\n",
       "      <th>Embarked</th>\n",
       "      <th>passenger_sex</th>\n",
       "      <th>passenger_survived</th>\n",
       "      <th>Familia</th>\n",
       "      <th>Solo</th>\n",
       "      <th>GrupoFam</th>\n",
       "      <th>CabinGroup</th>\n",
       "      <th>AgeGroup</th>\n",
       "      <th>Cabin_H</th>\n",
       "      <th>Cabin_L</th>\n",
       "      <th>Cabin_M</th>\n",
       "      <th>Cabin_X</th>\n",
       "      <th>passenger_class_Lower</th>\n",
       "      <th>passenger_class_Middle</th>\n",
       "      <th>passenger_class_Upper</th>\n",
       "    </tr>\n",
       "    <tr>\n",
       "      <th>PassengerId</th>\n",
       "      <th></th>\n",
       "      <th></th>\n",
       "      <th></th>\n",
       "      <th></th>\n",
       "      <th></th>\n",
       "      <th></th>\n",
       "      <th></th>\n",
       "      <th></th>\n",
       "      <th></th>\n",
       "      <th></th>\n",
       "      <th></th>\n",
       "      <th></th>\n",
       "      <th></th>\n",
       "      <th></th>\n",
       "      <th></th>\n",
       "      <th></th>\n",
       "      <th></th>\n",
       "    </tr>\n",
       "  </thead>\n",
       "  <tbody>\n",
       "    <tr>\n",
       "      <th>1</th>\n",
       "      <td>22.0</td>\n",
       "      <td>7.2500</td>\n",
       "      <td>2</td>\n",
       "      <td>1</td>\n",
       "      <td>0</td>\n",
       "      <td>2</td>\n",
       "      <td>0</td>\n",
       "      <td>2.0</td>\n",
       "      <td>3</td>\n",
       "      <td>2.0</td>\n",
       "      <td>0</td>\n",
       "      <td>0</td>\n",
       "      <td>0</td>\n",
       "      <td>1</td>\n",
       "      <td>1</td>\n",
       "      <td>0</td>\n",
       "      <td>0</td>\n",
       "    </tr>\n",
       "    <tr>\n",
       "      <th>2</th>\n",
       "      <td>38.0</td>\n",
       "      <td>71.2833</td>\n",
       "      <td>1</td>\n",
       "      <td>0</td>\n",
       "      <td>1</td>\n",
       "      <td>2</td>\n",
       "      <td>0</td>\n",
       "      <td>2.0</td>\n",
       "      <td>1</td>\n",
       "      <td>2.0</td>\n",
       "      <td>0</td>\n",
       "      <td>0</td>\n",
       "      <td>1</td>\n",
       "      <td>0</td>\n",
       "      <td>0</td>\n",
       "      <td>0</td>\n",
       "      <td>1</td>\n",
       "    </tr>\n",
       "    <tr>\n",
       "      <th>3</th>\n",
       "      <td>26.0</td>\n",
       "      <td>7.9250</td>\n",
       "      <td>2</td>\n",
       "      <td>0</td>\n",
       "      <td>1</td>\n",
       "      <td>1</td>\n",
       "      <td>1</td>\n",
       "      <td>1.0</td>\n",
       "      <td>3</td>\n",
       "      <td>2.0</td>\n",
       "      <td>0</td>\n",
       "      <td>0</td>\n",
       "      <td>0</td>\n",
       "      <td>1</td>\n",
       "      <td>1</td>\n",
       "      <td>0</td>\n",
       "      <td>0</td>\n",
       "    </tr>\n",
       "    <tr>\n",
       "      <th>4</th>\n",
       "      <td>35.0</td>\n",
       "      <td>53.1000</td>\n",
       "      <td>2</td>\n",
       "      <td>0</td>\n",
       "      <td>1</td>\n",
       "      <td>2</td>\n",
       "      <td>0</td>\n",
       "      <td>2.0</td>\n",
       "      <td>1</td>\n",
       "      <td>2.0</td>\n",
       "      <td>0</td>\n",
       "      <td>0</td>\n",
       "      <td>1</td>\n",
       "      <td>0</td>\n",
       "      <td>0</td>\n",
       "      <td>0</td>\n",
       "      <td>1</td>\n",
       "    </tr>\n",
       "    <tr>\n",
       "      <th>5</th>\n",
       "      <td>35.0</td>\n",
       "      <td>8.0500</td>\n",
       "      <td>2</td>\n",
       "      <td>1</td>\n",
       "      <td>0</td>\n",
       "      <td>1</td>\n",
       "      <td>1</td>\n",
       "      <td>1.0</td>\n",
       "      <td>3</td>\n",
       "      <td>2.0</td>\n",
       "      <td>0</td>\n",
       "      <td>0</td>\n",
       "      <td>0</td>\n",
       "      <td>1</td>\n",
       "      <td>1</td>\n",
       "      <td>0</td>\n",
       "      <td>0</td>\n",
       "    </tr>\n",
       "  </tbody>\n",
       "</table>\n",
       "</div>"
      ],
      "text/plain": [
       "              Age     Fare  Embarked  passenger_sex  passenger_survived  \\\n",
       "PassengerId                                                               \n",
       "1            22.0   7.2500         2              1                   0   \n",
       "2            38.0  71.2833         1              0                   1   \n",
       "3            26.0   7.9250         2              0                   1   \n",
       "4            35.0  53.1000         2              0                   1   \n",
       "5            35.0   8.0500         2              1                   0   \n",
       "\n",
       "             Familia  Solo  GrupoFam  CabinGroup  AgeGroup  Cabin_H  Cabin_L  \\\n",
       "PassengerId                                                                    \n",
       "1                  2     0       2.0           3       2.0        0        0   \n",
       "2                  2     0       2.0           1       2.0        0        0   \n",
       "3                  1     1       1.0           3       2.0        0        0   \n",
       "4                  2     0       2.0           1       2.0        0        0   \n",
       "5                  1     1       1.0           3       2.0        0        0   \n",
       "\n",
       "             Cabin_M  Cabin_X  passenger_class_Lower  passenger_class_Middle  \\\n",
       "PassengerId                                                                    \n",
       "1                  0        1                      1                       0   \n",
       "2                  1        0                      0                       0   \n",
       "3                  0        1                      1                       0   \n",
       "4                  1        0                      0                       0   \n",
       "5                  0        1                      1                       0   \n",
       "\n",
       "             passenger_class_Upper  \n",
       "PassengerId                         \n",
       "1                                0  \n",
       "2                                1  \n",
       "3                                0  \n",
       "4                                1  \n",
       "5                                0  "
      ]
     },
     "execution_count": 249,
     "metadata": {},
     "output_type": "execute_result"
    }
   ],
   "source": [
    "# Ahora vamos a hacer one hot para Deshacernos de las ultimas dos clases categoricas Cabin y Group\n",
    "datadfonehot = pd.get_dummies(datadf, sparse=False)\n",
    "datadfonehot.head()"
   ]
  },
  {
   "cell_type": "code",
   "execution_count": 250,
   "metadata": {},
   "outputs": [
    {
     "data": {
      "text/plain": [
       "Age                       float64\n",
       "Fare                      float64\n",
       "Embarked                    int64\n",
       "passenger_sex               int64\n",
       "passenger_survived          int64\n",
       "Familia                     int64\n",
       "Solo                        int64\n",
       "GrupoFam                  float64\n",
       "CabinGroup                  int64\n",
       "AgeGroup                  float64\n",
       "Cabin_H                     uint8\n",
       "Cabin_L                     uint8\n",
       "Cabin_M                     uint8\n",
       "Cabin_X                     uint8\n",
       "passenger_class_Lower       uint8\n",
       "passenger_class_Middle      uint8\n",
       "passenger_class_Upper       uint8\n",
       "dtype: object"
      ]
     },
     "execution_count": 250,
     "metadata": {},
     "output_type": "execute_result"
    }
   ],
   "source": [
    "datadfonehot.dtypes"
   ]
  },
  {
   "cell_type": "code",
   "execution_count": 408,
   "metadata": {},
   "outputs": [],
   "source": [
    "npdatax = np.delete(np.array(datadfonehot), 4, axis=1)\n",
    "npdatay = np.array(datadfonehot)[:,4]\n",
    "npdatay = npdatay.astype('int')\n",
    "\n",
    "# Ahora vamos a separar la informacion de la siguiente forma\n",
    "# Entrenamiento 80%\n",
    "# Pruebas 20%\n",
    "x_train, x_test, y_train, y_test = train_test_split(\n",
    "     datadfonehot.loc[:, datadfonehot.columns != 'passenger_survived'], datadfonehot.loc[:, datadfonehot.columns == 'passenger_survived'], test_size=0.20, shuffle=True)\n",
    "# Ahora vamos a separar la informacion de entrenamiento de la siguiente forma\n",
    "# Entrenamiento 75%\n",
    "# Validacion 25%\n",
    "\n",
    "#Lo cual nos dara un resultado total de \n",
    "# Entrenamiento 60%\n",
    "# Validacion 20%\n",
    "# Pruebas 20%\n",
    "\n",
    "\n",
    "x_train, x_val, y_train, y_val = train_test_split(\n",
    "     x_train, y_train, test_size=0.25, shuffle=True)\n"
   ]
  },
  {
   "cell_type": "code",
   "execution_count": 223,
   "metadata": {},
   "outputs": [
    {
     "name": "stdout",
     "output_type": "stream",
     "text": [
      "534\n",
      "534\n",
      "178\n",
      "178\n",
      "179\n",
      "179\n"
     ]
    }
   ],
   "source": [
    "# Revisamos la cantidad en test y train\n",
    "print(len(x_train))\n",
    "print(len(y_train))\n",
    "print(len(x_val))\n",
    "print(len(y_val))\n",
    "print(len(x_test))\n",
    "print(len(y_test))"
   ]
  },
  {
   "cell_type": "markdown",
   "metadata": {},
   "source": [
    "# Decission Tree"
   ]
  },
  {
   "cell_type": "code",
   "execution_count": 136,
   "metadata": {},
   "outputs": [],
   "source": [
    "def entrenarDecissionTree(cr,sp, mf):\n",
    "    clf = tree.DecisionTreeClassifier(criterion=cr,splitter=sp, max_features=mf )\n",
    "    clf = clf.fit(x_train, y_train)\n",
    "    score = clf.score(x_val, y_val)\n",
    "    filename = 'DecissionTree.sav'\n",
    "    pickle.dump(clf, open(filename, 'wb'))\n",
    "    agregarComoFila('DecissionTreeStats.csv',[cr,sp,mf,score])\n",
    "entrenarDecissionTree('gini','best',None)\n",
    "entrenarDecissionTree('entropy','best',None)\n",
    "entrenarDecissionTree('gini','random',None)\n",
    "entrenarDecissionTree('entropy','random',None)\n",
    "for i in range(10):\n",
    "    entrenarDecissionTree('gini','best',i+1)\n",
    "    entrenarDecissionTree('entropy','best',i+1)\n",
    "    entrenarDecissionTree('gini','random',i+1)\n",
    "    entrenarDecissionTree('entropy','random',i+1)"
   ]
  },
  {
   "cell_type": "code",
   "execution_count": 150,
   "metadata": {},
   "outputs": [
    {
     "data": {
      "text/html": [
       "<div>\n",
       "<style scoped>\n",
       "    .dataframe tbody tr th:only-of-type {\n",
       "        vertical-align: middle;\n",
       "    }\n",
       "\n",
       "    .dataframe tbody tr th {\n",
       "        vertical-align: top;\n",
       "    }\n",
       "\n",
       "    .dataframe thead th {\n",
       "        text-align: right;\n",
       "    }\n",
       "</style>\n",
       "<table border=\"1\" class=\"dataframe\">\n",
       "  <thead>\n",
       "    <tr style=\"text-align: right;\">\n",
       "      <th></th>\n",
       "      <th>Criterion</th>\n",
       "      <th>Splitter</th>\n",
       "      <th>Max Features</th>\n",
       "      <th>Score</th>\n",
       "    </tr>\n",
       "  </thead>\n",
       "  <tbody>\n",
       "    <tr>\n",
       "      <th>51</th>\n",
       "      <td>gini</td>\n",
       "      <td>random</td>\n",
       "      <td>9.0</td>\n",
       "      <td>0.797753</td>\n",
       "    </tr>\n",
       "    <tr>\n",
       "      <th>49</th>\n",
       "      <td>gini</td>\n",
       "      <td>best</td>\n",
       "      <td>9.0</td>\n",
       "      <td>0.792135</td>\n",
       "    </tr>\n",
       "    <tr>\n",
       "      <th>38</th>\n",
       "      <td>entropy</td>\n",
       "      <td>best</td>\n",
       "      <td>6.0</td>\n",
       "      <td>0.792135</td>\n",
       "    </tr>\n",
       "    <tr>\n",
       "      <th>25</th>\n",
       "      <td>gini</td>\n",
       "      <td>best</td>\n",
       "      <td>3.0</td>\n",
       "      <td>0.792135</td>\n",
       "    </tr>\n",
       "    <tr>\n",
       "      <th>29</th>\n",
       "      <td>gini</td>\n",
       "      <td>best</td>\n",
       "      <td>4.0</td>\n",
       "      <td>0.786517</td>\n",
       "    </tr>\n",
       "  </tbody>\n",
       "</table>\n",
       "</div>"
      ],
      "text/plain": [
       "   Criterion Splitter  Max Features     Score\n",
       "51      gini   random           9.0  0.797753\n",
       "49      gini     best           9.0  0.792135\n",
       "38   entropy     best           6.0  0.792135\n",
       "25      gini     best           3.0  0.792135\n",
       "29      gini     best           4.0  0.786517"
      ]
     },
     "execution_count": 150,
     "metadata": {},
     "output_type": "execute_result"
    }
   ],
   "source": [
    "DecissionTreeStats = pd.read_csv('DecissionTreeStats.csv')\n",
    "DecissionTreeStats.sort_values(by=' Score', ascending= False).head()"
   ]
  },
  {
   "cell_type": "code",
   "execution_count": 151,
   "metadata": {},
   "outputs": [],
   "source": [
    "#De aqui decidimos que el mejor decision tree tiene las siguientes caracteristicas\n",
    "# Criterion = gini\n",
    "# Splitter = random\n",
    "# Max Features = 9\n",
    "entrenarDecissionTree('gini','random',9)"
   ]
  },
  {
   "cell_type": "markdown",
   "metadata": {},
   "source": [
    "# Support Vector Machine"
   ]
  },
  {
   "cell_type": "code",
   "execution_count": 166,
   "metadata": {},
   "outputs": [],
   "source": [
    "def entrenarSVM(k, cp, dg):\n",
    "    clsvm = svm.SVC(kernel=k, C=cp, degree = dg )\n",
    "    clsvm.fit(x_train, y_train)\n",
    "    score=clsvm.score(x_val, y_val)\n",
    "    filename = 'SVM.sav'\n",
    "    pickle.dump(clsvm, open(filename, 'wb'))\n",
    "    agregarComoFila('SVMStats.csv',[k,cp,dg,score])\n",
    "\n",
    "entrenarSVM('linear',1,1)\n",
    "entrenarSVM('linear',0.5,1)\n",
    "entrenarSVM('linear',0.1,1)\n",
    "entrenarSVM('poly',1,1)\n",
    "entrenarSVM('poly',1,2)\n",
    "entrenarSVM('poly',1,3)"
   ]
  },
  {
   "cell_type": "code",
   "execution_count": 165,
   "metadata": {},
   "outputs": [
    {
     "data": {
      "text/html": [
       "<div>\n",
       "<style scoped>\n",
       "    .dataframe tbody tr th:only-of-type {\n",
       "        vertical-align: middle;\n",
       "    }\n",
       "\n",
       "    .dataframe tbody tr th {\n",
       "        vertical-align: top;\n",
       "    }\n",
       "\n",
       "    .dataframe thead th {\n",
       "        text-align: right;\n",
       "    }\n",
       "</style>\n",
       "<table border=\"1\" class=\"dataframe\">\n",
       "  <thead>\n",
       "    <tr style=\"text-align: right;\">\n",
       "      <th></th>\n",
       "      <th>Kernel</th>\n",
       "      <th>C</th>\n",
       "      <th>Degree</th>\n",
       "      <th>Score</th>\n",
       "    </tr>\n",
       "  </thead>\n",
       "  <tbody>\n",
       "    <tr>\n",
       "      <th>0</th>\n",
       "      <td>linear</td>\n",
       "      <td>1.0</td>\n",
       "      <td>1</td>\n",
       "      <td>0.797753</td>\n",
       "    </tr>\n",
       "    <tr>\n",
       "      <th>1</th>\n",
       "      <td>linear</td>\n",
       "      <td>1.0</td>\n",
       "      <td>1</td>\n",
       "      <td>0.797753</td>\n",
       "    </tr>\n",
       "    <tr>\n",
       "      <th>2</th>\n",
       "      <td>linear</td>\n",
       "      <td>1.0</td>\n",
       "      <td>1</td>\n",
       "      <td>0.797753</td>\n",
       "    </tr>\n",
       "    <tr>\n",
       "      <th>3</th>\n",
       "      <td>linear</td>\n",
       "      <td>0.5</td>\n",
       "      <td>1</td>\n",
       "      <td>0.797753</td>\n",
       "    </tr>\n",
       "    <tr>\n",
       "      <th>4</th>\n",
       "      <td>linear</td>\n",
       "      <td>0.1</td>\n",
       "      <td>1</td>\n",
       "      <td>0.797753</td>\n",
       "    </tr>\n",
       "  </tbody>\n",
       "</table>\n",
       "</div>"
      ],
      "text/plain": [
       "   Kernel    C  Degree     Score\n",
       "0  linear  1.0       1  0.797753\n",
       "1  linear  1.0       1  0.797753\n",
       "2  linear  1.0       1  0.797753\n",
       "3  linear  0.5       1  0.797753\n",
       "4  linear  0.1       1  0.797753"
      ]
     },
     "execution_count": 165,
     "metadata": {},
     "output_type": "execute_result"
    }
   ],
   "source": [
    "DecissionTreeStats = pd.read_csv('SVMStats.csv')\n",
    "DecissionTreeStats.sort_values(by='Score', ascending= False).head()"
   ]
  },
  {
   "cell_type": "code",
   "execution_count": 167,
   "metadata": {},
   "outputs": [
    {
     "name": "stderr",
     "output_type": "stream",
     "text": [
      "/opt/anaconda2/envs/tf/lib/python3.7/site-packages/sklearn/utils/validation.py:760: DataConversionWarning: A column-vector y was passed when a 1d array was expected. Please change the shape of y to (n_samples, ), for example using ravel().\n",
      "  y = column_or_1d(y, warn=True)\n"
     ]
    }
   ],
   "source": [
    "#De aqui decidimos que el mejor decision tree tiene las siguientes caracteristicas\n",
    "# Kernel = Linear\n",
    "# C = 1\n",
    "# Degree = 1\n",
    "entrenarSVM('linear',1,1)"
   ]
  },
  {
   "cell_type": "markdown",
   "metadata": {},
   "source": [
    "# Regresion Logistica"
   ]
  },
  {
   "cell_type": "code",
   "execution_count": 384,
   "metadata": {},
   "outputs": [
    {
     "name": "stdout",
     "output_type": "stream",
     "text": [
      "Epoch 0 LOSS =  31.896385\n",
      "Epoch 1000 LOSS =  0.59184444\n",
      "Epoch 2000 LOSS =  0.51590914\n",
      "Epoch 3000 LOSS =  0.45842952\n",
      "Epoch 4000 LOSS =  0.40585434\n",
      "Epoch 5000 LOSS =  0.3569358\n",
      "Epoch 6000 LOSS =  0.3110248\n",
      "Epoch 7000 LOSS =  0.26766026\n",
      "Epoch 8000 LOSS =  0.22645414\n",
      "Epoch 9000 LOSS =  0.18708012\n",
      "0.7808988764044944\n"
     ]
    }
   ],
   "source": [
    "def logModel(epochs, lr, x, xlabels, nlabels , filas, cols , bs , lamb ):\n",
    "    tf.reset_default_graph()\n",
    "    x_train = tf.constant(x[:,:])\n",
    "    x_train = tf.cast(x_train, tf.float32)\n",
    "    y_tr = tf.one_hot(xlabels[:],nlabels)\n",
    "    ws = tf.Variable(tf.truncated_normal([cols, nlabels]))\n",
    "    log = tf.matmul(x_train, ws)\n",
    "    #Regularizacion\n",
    "    reg = tf.math.multiply(lamb, tf.math.reduce_sum(ws))\n",
    "    loss = tf.reduce_mean(tf.nn.softmax_cross_entropy_with_logits(labels = y_tr,logits=log))+reg\n",
    "    error_summary = tf.summary.scalar(name=\"LOSS\", tensor=loss)\n",
    "    grads = tf.gradients(loss, ws)\n",
    "    newws =  tf.subtract(ws ,tf.multiply(lr , grads[0] ))\n",
    "    updatews = tf.assign(ws, newws)\n",
    "    \n",
    "    init = tf.global_variables_initializer()\n",
    "    with tf.Session() as sess:\n",
    "        writer = tf.summary.FileWriter(('.graphs/graphs_'+str(lr)+str(epochs)), sess.graph)\n",
    "        sess.run(init)\n",
    "        for epoch in range(epochs): \n",
    "            e_summary = sess.run(error_summary)\n",
    "            sess.run(updatews) \n",
    "            if epoch % (epochs * 0.1) == 0:\n",
    "                print('Epoch', epoch , 'LOSS = ', loss.eval())\n",
    "            \n",
    "            writer.add_summary(e_summary,epoch)\n",
    "        return(ws.eval())\n",
    "def entrenarRegresionLog(ep,lr,bs,lamb):\n",
    "    modeloreglog = logModel(10000,0.001,np.array(x_train),np.array(y_train),\n",
    "        2,534,16,1,0.03  )\n",
    "    logitspred = np.matmul(np.array(x_val[0:]),modeloreglog)\n",
    "    predict = np.argmax(logitspred, axis=1) \n",
    "    score = np.sum(predict == np.array(y_val[0:])[:,0])/len(predict)\n",
    "    agregarComoFila('RegLogStats.csv',[ep,lr,bs,lamb,score])\n",
    "    np.savetxt(\"modeloreg.csv\", modeloreglog, delimiter=\",\")\n",
    "    print(score)\n",
    "entrenarRegresionLog(10000,0.001,32,0.03)"
   ]
  },
  {
   "cell_type": "code",
   "execution_count": 389,
   "metadata": {},
   "outputs": [
    {
     "data": {
      "text/html": [
       "<div>\n",
       "<style scoped>\n",
       "    .dataframe tbody tr th:only-of-type {\n",
       "        vertical-align: middle;\n",
       "    }\n",
       "\n",
       "    .dataframe tbody tr th {\n",
       "        vertical-align: top;\n",
       "    }\n",
       "\n",
       "    .dataframe thead th {\n",
       "        text-align: right;\n",
       "    }\n",
       "</style>\n",
       "<table border=\"1\" class=\"dataframe\">\n",
       "  <thead>\n",
       "    <tr style=\"text-align: right;\">\n",
       "      <th></th>\n",
       "      <th>Ep</th>\n",
       "      <th>lr</th>\n",
       "      <th>bs</th>\n",
       "      <th>lamb</th>\n",
       "      <th>Score</th>\n",
       "    </tr>\n",
       "  </thead>\n",
       "  <tbody>\n",
       "    <tr>\n",
       "      <th>10</th>\n",
       "      <td>10000</td>\n",
       "      <td>0.001</td>\n",
       "      <td>32</td>\n",
       "      <td>0.03</td>\n",
       "      <td>0.786517</td>\n",
       "    </tr>\n",
       "    <tr>\n",
       "      <th>13</th>\n",
       "      <td>10000</td>\n",
       "      <td>0.001</td>\n",
       "      <td>32</td>\n",
       "      <td>0.03</td>\n",
       "      <td>0.780899</td>\n",
       "    </tr>\n",
       "    <tr>\n",
       "      <th>9</th>\n",
       "      <td>10000</td>\n",
       "      <td>0.001</td>\n",
       "      <td>32</td>\n",
       "      <td>0.03</td>\n",
       "      <td>0.769663</td>\n",
       "    </tr>\n",
       "    <tr>\n",
       "      <th>0</th>\n",
       "      <td>10000</td>\n",
       "      <td>0.001</td>\n",
       "      <td>32</td>\n",
       "      <td>0.03</td>\n",
       "      <td>0.758427</td>\n",
       "    </tr>\n",
       "    <tr>\n",
       "      <th>3</th>\n",
       "      <td>1000</td>\n",
       "      <td>0.001</td>\n",
       "      <td>32</td>\n",
       "      <td>0.04</td>\n",
       "      <td>0.747191</td>\n",
       "    </tr>\n",
       "  </tbody>\n",
       "</table>\n",
       "</div>"
      ],
      "text/plain": [
       "       Ep     lr  bs  lamb     Score\n",
       "10  10000  0.001  32  0.03  0.786517\n",
       "13  10000  0.001  32  0.03  0.780899\n",
       "9   10000  0.001  32  0.03  0.769663\n",
       "0   10000  0.001  32  0.03  0.758427\n",
       "3    1000  0.001  32  0.04  0.747191"
      ]
     },
     "execution_count": 389,
     "metadata": {},
     "output_type": "execute_result"
    }
   ],
   "source": [
    "DecissionTreeStats = pd.read_csv('RegLogStats.csv')\n",
    "DecissionTreeStats.sort_values(by='Score', ascending= False).head()"
   ]
  },
  {
   "cell_type": "code",
   "execution_count": 388,
   "metadata": {},
   "outputs": [
    {
     "name": "stdout",
     "output_type": "stream",
     "text": [
      "0.7808988764044944\n"
     ]
    }
   ],
   "source": [
    "modeloreglog = np.genfromtxt('modeloreg.csv', delimiter=',')\n",
    "logitspred = np.matmul(np.array(x_val[0:]),modeloreglog)\n",
    "predict = np.argmax(logitspred, axis=1) \n",
    "score = np.sum(predict == np.array(y_val[0:])[:,0])/len(predict)\n",
    "print(score)"
   ]
  },
  {
   "cell_type": "markdown",
   "metadata": {},
   "source": [
    "# Naive Bayes"
   ]
  },
  {
   "cell_type": "code",
   "execution_count": 498,
   "metadata": {},
   "outputs": [
    {
     "data": {
      "text/plain": [
       "0.7471910112359551"
      ]
     },
     "execution_count": 498,
     "metadata": {},
     "output_type": "execute_result"
    }
   ],
   "source": [
    "def normalizar(data):\n",
    "    mu = np.mean(data)\n",
    "    sigma = np.std(data)\n",
    "    dist = norm(mu, sigma)\n",
    "    return dist\n",
    "def probInd(X, ant, dists):\n",
    "    prod = np.prod(np.array([d.pdf(z) for (d, z) in zip(dists, X)]))\n",
    "    return ant * prod\n",
    "\n",
    "Y0 = x_train[y_train['passenger_survived'] == 0]\n",
    "Y1 = x_train[y_train['passenger_survived'] == 1]\n",
    "\n",
    "probAnt0 = len(Y0) / len(x_train)\n",
    "probAnt1 = len(Y1) / len(x_train)\n",
    "normalizador = lambda t: normalizar(t)\n",
    "normY0 = np.array([normalizador(xi) for xi in np.array(Y0).transpose()])\n",
    "normY1 = np.array([normalizador(xi) for xi in np.array(Y1).transpose()])\n",
    "#np.array(x_train)[0]\n",
    "#Prob0\n",
    "def predictBayes(x,pAnt0,pAnt1,norm0,norm1):\n",
    "    p0 = probInd(x, pAnt0, norm0)\n",
    "    p1 = probInd(x, pAnt1, norm1)\n",
    "    if p0>p1:\n",
    "        return 0\n",
    "    else:\n",
    "        return 1\n",
    "\n",
    "\n",
    "predictor = lambda t: predictBayes(t,probAnt0,probAnt1,normY0,normY1)\n",
    "predicciones =  np.array([predictor(xi) for xi in np.array(x_val)])\n",
    "score = np.sum(predicciones == np.array(y_val[0:])[:,0])/len(predicciones)\n",
    "bayes = {\n",
    "    'pA0' : probAnt0,\n",
    "    'pA1' : probAnt1,\n",
    "    'nY0' : normY0,\n",
    "    'nY1' : normY1,\n",
    "}\n",
    "with open( 'bayes.pkl', 'wb') as f:\n",
    "    pickle.dump(bayes, f, pickle.HIGHEST_PROTOCOL)\n",
    "score"
   ]
  },
  {
   "cell_type": "markdown",
   "metadata": {},
   "source": [
    "## Con esto se concluye el entrenamiento y creacion de los 4 modelos a utilizar\n",
    "## Ahora vamos a realizar nuestra Evaluacion Final\n"
   ]
  },
  {
   "cell_type": "code",
   "execution_count": 544,
   "metadata": {},
   "outputs": [
    {
     "data": {
      "text/plain": [
       "[['Score Decission Tree', 0.8591549295774648],\n",
       " ['Score SVM', 0.717557251908397],\n",
       " ['Score Logistic', 0.6666666666666667],\n",
       " ['Score NaiveB', 0.5178571428571429],\n",
       " ['Score Essemble', 0.8153846153846154]]"
      ]
     },
     "execution_count": 544,
     "metadata": {},
     "output_type": "execute_result"
    }
   ],
   "source": [
    "dfEvalFinal = pd.DataFrame({'DecissionTree': [],\n",
    "                   'SVM': [],\n",
    "                   'Logistic': [],\n",
    "                   'NaiveB': [],\n",
    "                   'Essemble': [],\n",
    "                   'ValorReal': []})\n",
    "predDecission = clf.predict(np.array(x_test))\n",
    "predSVM = clsvm.predict(np.array(x_test))\n",
    "predBayes =  np.array([predictor(xi) for xi in np.array(x_test)])\n",
    "logitspred = np.matmul(np.array(x_test[0:]),modeloreglog)\n",
    "predLog = np.argmax(logitspred, axis=1) \n",
    "for i in range(len(x_test)):\n",
    "    defVal = 0\n",
    "    # Esta parte es importante ya que estamos definiendo que si mas de 2 predictores dicen que sobrevivio\n",
    "    # Tomaremos el valor como que sobrevivio\n",
    "    # Ahora si hay un empate se tomara la decision del DecissionTree ya que fue el modelo que mejor resultados tuvo\n",
    "    # en cuando a True Positives\n",
    "    if ( predDecission[i] + predSVM[i] + predLog[i] + predBayes[i] == 2 ) :\n",
    "        defVal = predDecission[i]\n",
    "    if ( predDecission[i] + predSVM[i] + predLog[i] + predBayes[i] > 2 ) :\n",
    "        defVal = 1\n",
    "    dfEvalFinal.loc[i] = [predDecission[i],predSVM[i],predLog[i],predBayes[i],defVal,np.array(y_test)[i][0]]\n",
    "dfEvalFinal\n",
    "scoresF1 = [\n",
    "    ['Score Decission Tree',f1_score(np.array(dfEvalFinal)[:,0] , np.array(y_test[0:])[:,0])],\n",
    "    ['Score SVM',f1_score(np.array(dfEvalFinal)[:,1] , np.array(y_test[0:])[:,0])],\n",
    "    ['Score Logistic',f1_score(np.array(dfEvalFinal)[:,2] , np.array(y_test[0:])[:,0])],\n",
    "    ['Score NaiveB',f1_score(np.array(dfEvalFinal)[:,3] , np.array(y_test[0:])[:,0])],\n",
    "    ['Score Essemble',f1_score(np.array(dfEvalFinal)[:,4] , np.array(y_test[0:])[:,0])],\n",
    "]\n",
    "scoresF1"
   ]
  },
  {
   "cell_type": "markdown",
   "metadata": {},
   "source": [
    "# Como nos damos cuenta nuestro Essemble tiene un F1 SCORE DE 0.81"
   ]
  },
  {
   "cell_type": "code",
   "execution_count": 545,
   "metadata": {},
   "outputs": [
    {
     "data": {
      "text/plain": [
       "[['Score Decission Tree', 0.888268156424581],\n",
       " ['Score SVM', 0.7932960893854749],\n",
       " ['Score Logistic', 0.7877094972067039],\n",
       " ['Score NaiveB', 0.6983240223463687],\n",
       " ['Score Essemble', 0.8659217877094972]]"
      ]
     },
     "execution_count": 545,
     "metadata": {},
     "output_type": "execute_result"
    }
   ],
   "source": [
    "scoresTP = [\n",
    "    ['Score Decission Tree',np.sum(np.array(dfEvalFinal)[:,0] == np.array(y_test[0:])[:,0])/len(predDecission)],\n",
    "    ['Score SVM',np.sum(np.array(dfEvalFinal)[:,1] == np.array(y_test[0:])[:,0])/len(predDecission)],\n",
    "    ['Score Logistic',np.sum(np.array(dfEvalFinal)[:,2] == np.array(y_test[0:])[:,0])/len(predDecission)],\n",
    "    ['Score NaiveB',np.sum(np.array(dfEvalFinal)[:,3] == np.array(y_test[0:])[:,0])/len(predDecission)],\n",
    "    ['Score Essemble',np.sum(np.array(dfEvalFinal)[:,4] == np.array(y_test[0:])[:,0])/len(predDecission)],\n",
    "]\n",
    "scoresTP"
   ]
  },
  {
   "cell_type": "markdown",
   "metadata": {},
   "source": [
    "# Como nos damos cuenta nuestro Essemble tiene un Precission de 0.86"
   ]
  },
  {
   "cell_type": "markdown",
   "metadata": {},
   "source": [
    "# Conclusiones\n",
    "- El Feature engineering es muy importante ya que inicialmente trate de hacer dummy de todas las variables sin analizar lo cual se encuentra en el archivo TrainBad y mis resultados no fueron los esperados, y la regresion logistica me dio muchos problemas \n",
    "- Naive Bayes es un algoritmo relativamente sencillo con gran poder de prediccion en comparacion con su complejidad\n",
    "- Eliminar los valores vacios en un dataset antes de analizarlos es muy importante y tiene un gran impacto en su rendimiento\n",
    "- Las herramientas que scickit_learn incluye son muy versatiles y bastante poderosas en cuanto a resultados\n",
    "- La regularizacion en mi regresion logistica me ayudo bastante para acercarme al 80% que estabamos buscando y fue relativamente facil de agregar una vez ya se habia realizado el proceso de la regresion logistica normal"
   ]
  },
  {
   "cell_type": "code",
   "execution_count": null,
   "metadata": {},
   "outputs": [],
   "source": []
  }
 ],
 "metadata": {
  "kernelspec": {
   "display_name": "Python 3",
   "language": "python",
   "name": "python3"
  },
  "language_info": {
   "codemirror_mode": {
    "name": "ipython",
    "version": 3
   },
   "file_extension": ".py",
   "mimetype": "text/x-python",
   "name": "python",
   "nbconvert_exporter": "python",
   "pygments_lexer": "ipython3",
   "version": "3.7.7"
  }
 },
 "nbformat": 4,
 "nbformat_minor": 4
}
