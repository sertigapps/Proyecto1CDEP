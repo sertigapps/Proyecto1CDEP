{
 "cells": [
  {
   "cell_type": "markdown",
   "metadata": {},
   "source": [
    "# Problema 2"
   ]
  },
  {
   "cell_type": "code",
   "execution_count": 38,
   "metadata": {},
   "outputs": [],
   "source": [
    "import re"
   ]
  },
  {
   "cell_type": "code",
   "execution_count": 40,
   "metadata": {},
   "outputs": [
    {
     "name": "stdout",
     "output_type": "stream",
     "text": [
      "Dia Promedio\n",
      "16\n",
      "Año Promedio\n",
      "2017\n",
      "Mes Promedio\n",
      "6\n"
     ]
    }
   ],
   "source": [
    "mdict = {\n",
    "  \"Jan\": 1,\n",
    "  \"Feb\": 2,\n",
    "  \"Mar\": 3,\n",
    "  \"Apr\": 4,\n",
    "  \"May\": 5,\n",
    "  \"Jun\": 6,\n",
    "  \"Jul\": 7,\n",
    "  \"Aug\": 8,\n",
    "  \"Sep\": 9,\n",
    "  \"Oct\": 10,\n",
    "  \"Nov\": 11,\n",
    "  \"Dec\": 12\n",
    "}\n",
    "counter = 1\n",
    "dTotal = 0\n",
    "aTotal = 0\n",
    "mTotal = 0\n",
    "for i in range(20):\n",
    "    f = open(\"Datos/D\"+str(i+1)+\".txt\", \"r\")\n",
    "    file = f.read()\n",
    "    dates = file.split('\\n')\n",
    "    for j in range(len(dates)-1):\n",
    "        vals = re.split('\\/|\\-|\\.',dates[j])\n",
    "        if len(vals)>3:\n",
    "            print(dates[j])\n",
    "        dTotal += int(vals[0])\n",
    "        aTotal += int(vals[2])\n",
    "        if vals[1] in mdict:\n",
    "            mTotal += int(mdict[vals[1]])\n",
    "        else:\n",
    "            mTotal += int(vals[1])\n",
    "        counter+=1\n",
    "print('Dia Promedio')\n",
    "print(round(dTotal/counter))\n",
    "print('Año Promedio')\n",
    "print(round(aTotal/counter))\n",
    "print('Mes Promedio')\n",
    "print(round(mTotal/counter))"
   ]
  },
  {
   "cell_type": "code",
   "execution_count": null,
   "metadata": {},
   "outputs": [],
   "source": []
  }
 ],
 "metadata": {
  "kernelspec": {
   "display_name": "Python 3",
   "language": "python",
   "name": "python3"
  },
  "language_info": {
   "codemirror_mode": {
    "name": "ipython",
    "version": 3
   },
   "file_extension": ".py",
   "mimetype": "text/x-python",
   "name": "python",
   "nbconvert_exporter": "python",
   "pygments_lexer": "ipython3",
   "version": "3.7.7"
  }
 },
 "nbformat": 4,
 "nbformat_minor": 4
}
