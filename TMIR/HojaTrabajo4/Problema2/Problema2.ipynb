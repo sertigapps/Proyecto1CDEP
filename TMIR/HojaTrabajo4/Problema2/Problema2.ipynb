{
 "cells": [
  {
   "cell_type": "code",
   "execution_count": 1,
   "metadata": {},
   "outputs": [],
   "source": [
    "import requests\n",
    "import re\n",
    "from textblob import TextBlob"
   ]
  },
  {
   "cell_type": "code",
   "execution_count": 13,
   "metadata": {},
   "outputs": [],
   "source": [
    "response = requests.get('https://www.tripadvisor.com.mx/Hotel_Review-g662606-d283869-Reviews-or5-Jardines_de_Nivaria_Adrian_Hoteles-Costa_Adeje_Adeje_Tenerife_Canary_Islands.html')"
   ]
  },
  {
   "cell_type": "code",
   "execution_count": 14,
   "metadata": {},
   "outputs": [
    {
     "data": {
      "text/plain": [
       "'Es el cuarto año que pasamos unos días de descanso en este maravilloso Hotel, donde te sientes como en casa. Destacar al personal del mismo que es lo mas valioso. Tanto el desayuno como la cena son perfectos en cantidad, calidad y servicio. Agradecer a Miguel, Alejandro, David, Giulio... su atención durante nuestros desayunos y cenas, sin olvidarme de Carmen Garcia siempre sonriendo y pendiente de que no falte de nada.  Gracias a Carmen por su atención en el servicio de toallas. Gracias Sonia (relaciones) por su amabilidad en todo momento. Se me olvidan personas que no puedo nombrar por desconocer sus nombres,  gracias a todos los que nos habéis atendido con tanta profesionalidad en todo momento.'"
      ]
     },
     "execution_count": 14,
     "metadata": {},
     "output_type": "execute_result"
    }
   ],
   "source": [
    "htmlreviewtag = '<q class=\"IRsGHoPm\"><span>' \n",
    "htmlreviewtagend = '</span></q>'\n",
    "review = re.search(htmlreviewtag + '(.+?)' + htmlreviewtagend, response.text).group(1)\n",
    "review"
   ]
  },
  {
   "cell_type": "code",
   "execution_count": 58,
   "metadata": {},
   "outputs": [
    {
     "name": "stdout",
     "output_type": "stream",
     "text": [
      "0123456789101112131415161718192021222324252627282930313233343536373839404142434445464748495051525354555657585960616263646566676869707172737475767778798081828384858687888990919293949596979899100101102103104105106107108109110111112113114115116117118119120121122123124125126127128129130131132133134135136137138139140141142143144145146147148149150151152153154155156157158159160161162163164165166167168169170171172173174175176177178179180181182183184185186187188189190191192193194195196197198199200201202203204205206207208209210211212213214215216217218219220221222223224225226227228229230231232233234235236237238239240241242243244245246247248249250251252253254255256257258259260261262263264265266267268269270271272273274275276277278279280281282283284285286287288289290291292293294295296297298299300301302303304305306307308309310311"
     ]
    },
    {
     "data": {
      "text/plain": [
       "1560"
      ]
     },
     "execution_count": 58,
     "metadata": {},
     "output_type": "execute_result"
    }
   ],
   "source": [
    "allReviews = []\n",
    "i = 0\n",
    "while( i < 312):\n",
    "    URL = 'https://www.tripadvisor.com/Hotel_Review#par#-g45963-d111709-Reviews-Luxor_Hotel_Casino-Las_Vegas_Nevada.html'\n",
    "    if i == 0:\n",
    "        URL = URL.replace('#par#','')\n",
    "    else:\n",
    "        l = i * 5\n",
    "        par = '-orass'+str(l)\n",
    "        URL = URL.replace('#par#',par)\n",
    "    response = requests.get(URL)\n",
    "    initText = '<q class=\"IRsGHoPm\"><span>' \n",
    "    endText = '</span></q>'\n",
    "    try:\n",
    "        review = re.search(htmlreviewtag + '(.+?)' + htmlreviewtagend, response.text).group(1)\n",
    "        indexList = [(element.start(0), element.end(0)) for element in re.finditer(htmlreviewtag + '(.+?)' + htmlreviewtagend, response.text)] \n",
    "        completHtml = response.text\n",
    "        for index in indexList:\n",
    "            inf = index[0]\n",
    "            sup = index[1]\n",
    "            review = completHtml[inf + len(htmlreviewtag): sup -  len(htmlreviewtagend)]\n",
    "            allReviews.append(review)\n",
    "        print( str(i), end = '')\n",
    "    except:\n",
    "        pass\n",
    "    i += 1\n",
    "len(allReviews)"
   ]
  },
  {
   "cell_type": "code",
   "execution_count": 59,
   "metadata": {},
   "outputs": [],
   "source": [
    "polarities = []\n",
    "subjs = []\n",
    "label = []\n",
    "\n",
    "for review in allReviews:\n",
    "    sentimiento = TextBlob(review)\n",
    "    polarities.append(sentimiento.polarity)\n",
    "    subjs.append(sentimiento.subjectivity)\n",
    "\n",
    "    if (sentimiento.polarity > 0):\n",
    "        label.append('positivo')\n",
    "    elif (sentimiento.polarity < 0):\n",
    "        label.append('negativo')\n",
    "    else:\n",
    "        label.append('neutro')"
   ]
  },
  {
   "cell_type": "code",
   "execution_count": 60,
   "metadata": {},
   "outputs": [
    {
     "data": {
      "text/html": [
       "<div>\n",
       "<style scoped>\n",
       "    .dataframe tbody tr th:only-of-type {\n",
       "        vertical-align: middle;\n",
       "    }\n",
       "\n",
       "    .dataframe tbody tr th {\n",
       "        vertical-align: top;\n",
       "    }\n",
       "\n",
       "    .dataframe thead th {\n",
       "        text-align: right;\n",
       "    }\n",
       "</style>\n",
       "<table border=\"1\" class=\"dataframe\">\n",
       "  <thead>\n",
       "    <tr style=\"text-align: right;\">\n",
       "      <th></th>\n",
       "      <th>polaridad</th>\n",
       "      <th>subje</th>\n",
       "      <th>etiqueta</th>\n",
       "    </tr>\n",
       "  </thead>\n",
       "  <tbody>\n",
       "    <tr>\n",
       "      <th>0</th>\n",
       "      <td>-0.033333</td>\n",
       "      <td>0.621667</td>\n",
       "      <td>negativo</td>\n",
       "    </tr>\n",
       "    <tr>\n",
       "      <th>1</th>\n",
       "      <td>0.099610</td>\n",
       "      <td>0.342338</td>\n",
       "      <td>positivo</td>\n",
       "    </tr>\n",
       "    <tr>\n",
       "      <th>2</th>\n",
       "      <td>-0.141975</td>\n",
       "      <td>0.253086</td>\n",
       "      <td>negativo</td>\n",
       "    </tr>\n",
       "    <tr>\n",
       "      <th>3</th>\n",
       "      <td>-0.078979</td>\n",
       "      <td>0.558333</td>\n",
       "      <td>negativo</td>\n",
       "    </tr>\n",
       "    <tr>\n",
       "      <th>4</th>\n",
       "      <td>0.269494</td>\n",
       "      <td>0.394345</td>\n",
       "      <td>positivo</td>\n",
       "    </tr>\n",
       "  </tbody>\n",
       "</table>\n",
       "</div>"
      ],
      "text/plain": [
       "   polaridad     subje  etiqueta\n",
       "0  -0.033333  0.621667  negativo\n",
       "1   0.099610  0.342338  positivo\n",
       "2  -0.141975  0.253086  negativo\n",
       "3  -0.078979  0.558333  negativo\n",
       "4   0.269494  0.394345  positivo"
      ]
     },
     "execution_count": 60,
     "metadata": {},
     "output_type": "execute_result"
    }
   ],
   "source": [
    "import pandas as pd\n",
    "\n",
    "dataOut = pd.DataFrame({'polaridad': polarities, 'subje':subjs, 'etiqueta': label})\n",
    "dataOut.head()"
   ]
  },
  {
   "cell_type": "code",
   "execution_count": 61,
   "metadata": {},
   "outputs": [
    {
     "data": {
      "text/html": [
       "<div>\n",
       "<style scoped>\n",
       "    .dataframe tbody tr th:only-of-type {\n",
       "        vertical-align: middle;\n",
       "    }\n",
       "\n",
       "    .dataframe tbody tr th {\n",
       "        vertical-align: top;\n",
       "    }\n",
       "\n",
       "    .dataframe thead th {\n",
       "        text-align: right;\n",
       "    }\n",
       "</style>\n",
       "<table border=\"1\" class=\"dataframe\">\n",
       "  <thead>\n",
       "    <tr style=\"text-align: right;\">\n",
       "      <th></th>\n",
       "      <th>polaridad</th>\n",
       "      <th>subje</th>\n",
       "    </tr>\n",
       "  </thead>\n",
       "  <tbody>\n",
       "    <tr>\n",
       "      <th>count</th>\n",
       "      <td>1560.000000</td>\n",
       "      <td>1560.000000</td>\n",
       "    </tr>\n",
       "    <tr>\n",
       "      <th>mean</th>\n",
       "      <td>0.022963</td>\n",
       "      <td>0.433954</td>\n",
       "    </tr>\n",
       "    <tr>\n",
       "      <th>std</th>\n",
       "      <td>0.146620</td>\n",
       "      <td>0.136705</td>\n",
       "    </tr>\n",
       "    <tr>\n",
       "      <th>min</th>\n",
       "      <td>-0.141975</td>\n",
       "      <td>0.253086</td>\n",
       "    </tr>\n",
       "    <tr>\n",
       "      <th>25%</th>\n",
       "      <td>-0.078979</td>\n",
       "      <td>0.342338</td>\n",
       "    </tr>\n",
       "    <tr>\n",
       "      <th>50%</th>\n",
       "      <td>-0.033333</td>\n",
       "      <td>0.394345</td>\n",
       "    </tr>\n",
       "    <tr>\n",
       "      <th>75%</th>\n",
       "      <td>0.099610</td>\n",
       "      <td>0.558333</td>\n",
       "    </tr>\n",
       "    <tr>\n",
       "      <th>max</th>\n",
       "      <td>0.269494</td>\n",
       "      <td>0.621667</td>\n",
       "    </tr>\n",
       "  </tbody>\n",
       "</table>\n",
       "</div>"
      ],
      "text/plain": [
       "         polaridad        subje\n",
       "count  1560.000000  1560.000000\n",
       "mean      0.022963     0.433954\n",
       "std       0.146620     0.136705\n",
       "min      -0.141975     0.253086\n",
       "25%      -0.078979     0.342338\n",
       "50%      -0.033333     0.394345\n",
       "75%       0.099610     0.558333\n",
       "max       0.269494     0.621667"
      ]
     },
     "execution_count": 61,
     "metadata": {},
     "output_type": "execute_result"
    }
   ],
   "source": [
    "dataOut.describe()"
   ]
  },
  {
   "cell_type": "code",
   "execution_count": 62,
   "metadata": {},
   "outputs": [
    {
     "data": {
      "image/png": "[encoded data removed]",
      "text/plain": [
       "<Figure size 432x288 with 1 Axes>"
      ]
     },
     "metadata": {
      "needs_background": "light"
     },
     "output_type": "display_data"
    }
   ],
   "source": [
    "import matplotlib.pyplot as plt\n",
    "fig = plt.figure()\n",
    "ax = fig.add_axes([0,0,1,1])\n",
    "langs = ['Positivos', 'Negativos', 'Neutro']\n",
    "students = [len(dataOut[dataOut['etiqueta'] == 'positivo']),len(dataOut[dataOut['etiqueta'] == 'negativo']), len(dataOut[dataOut['etiqueta'] == 'neutro'])]\n",
    "ax.bar(langs,students)\n",
    "plt.show()"
   ]
  },
  {
   "cell_type": "code",
   "execution_count": 63,
   "metadata": {},
   "outputs": [
    {
     "data": {
      "image/png": "[encoded data removed]",
      "text/plain": [
       "<Figure size 720x504 with 1 Axes>"
      ]
     },
     "metadata": {
      "needs_background": "light"
     },
     "output_type": "display_data"
    }
   ],
   "source": [
    "fig = plt.figure(figsize =(10, 7)) \n",
    "ax = fig.add_axes([0, 0, 1, 1]) \n",
    "bp = ax.boxplot([dataOut['polaridad'], dataOut['subje']]) \n",
    "plt.show() "
   ]
  },
  {
   "cell_type": "code",
   "execution_count": null,
   "metadata": {},
   "outputs": [],
   "source": []
  },
  {
   "cell_type": "code",
   "execution_count": null,
   "metadata": {},
   "outputs": [],
   "source": []
  }
 ],
 "metadata": {
  "kernelspec": {
   "display_name": "Python 3",
   "language": "python",
   "name": "python3"
  },
  "language_info": {
   "codemirror_mode": {
    "name": "ipython",
    "version": 3
   },
   "file_extension": ".py",
   "mimetype": "text/x-python",
   "name": "python",
   "nbconvert_exporter": "python",
   "pygments_lexer": "ipython3",
   "version": "3.7.7"
  }
 },
 "nbformat": 4,
 "nbformat_minor": 4
}
