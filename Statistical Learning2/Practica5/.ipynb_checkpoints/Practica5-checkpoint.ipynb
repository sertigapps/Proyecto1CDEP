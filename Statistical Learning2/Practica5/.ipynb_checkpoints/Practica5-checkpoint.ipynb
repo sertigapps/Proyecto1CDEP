{
 "cells": [
  {
   "cell_type": "markdown",
   "metadata": {},
   "source": [
    "# Back-Propagation XOR"
   ]
  },
  {
   "cell_type": "code",
   "execution_count": 146,
   "metadata": {},
   "outputs": [],
   "source": [
    "import numpy as np\n",
    "import matplotlib.pyplot as plt\n",
    "class BackPNN(object):\n",
    "    def __init__(self, capas = [2 , 10, 1], activaciones=['sigmoid', 'sigmoid']):\n",
    "        assert(len(capas) == len(activaciones)+1)\n",
    "        self.capas = capas\n",
    "        self.activaciones = activaciones\n",
    "        self.ws = []\n",
    "        self.biases = []\n",
    "        for i in range(len(capas)-1):\n",
    "            self.ws.append(np.random.randn(capas[i+1], capas[i]))\n",
    "            self.biases.append(np.random.randn(capas[i+1], 1))\n",
    "        print(self.ws)\n",
    "    @staticmethod\n",
    "    def getFuncion(nombre):\n",
    "        if(nombre == 'sigmoid'):\n",
    "            return lambda x : np.exp(x)/(1+np.exp(x))\n",
    "        elif(nombre == 'linear'):\n",
    "            return lambda x : x\n",
    "        elif(nombre == 'relu'):\n",
    "            def relu(x):\n",
    "                y = np.copy(x)\n",
    "                y[y<0] = 0\n",
    "                return y\n",
    "            return relu\n",
    "        else:\n",
    "            #print('Desconocida')\n",
    "            return lambda x: x\n",
    "    \n",
    "    def feedforward(self, x):\n",
    "        a = np.copy(x)\n",
    "        z_s = []\n",
    "        a_s = [a]\n",
    "        for i in range(len(self.ws)):\n",
    "            funcion_activacion = self.getFuncion(self.activaciones[i])\n",
    "            z_s.append(self.ws[i].dot(a) + self.biases[i])\n",
    "            a = funcion_activacion(z_s[-1])\n",
    "            a_s.append(a)\n",
    "        return (z_s, a_s)\n",
    "    def backpropagation(self,y, z_s, a_s):\n",
    "        dw = []  # dC/dW\n",
    "        db = []  # dC/dB\n",
    "        deltas = [None] * len(self.ws) \n",
    "        # insert the last layer error\n",
    "        deltas[-1] = ((y-a_s[-1])*(self.getDerivadaFuncion(self.activaciones[-1]))(z_s[-1]))\n",
    "        # Perform BackPropagation\n",
    "        for i in reversed(range(len(deltas)-1)):\n",
    "            deltas[i] = self.ws[i+1].T.dot(deltas[i+1])*(self.getDerivadaFuncion(self.activaciones[i])(z_s[i]))        \n",
    "            batch_size = y.shape[1]\n",
    "            db = [d.dot(np.ones((batch_size,1)))/float(batch_size) for d in deltas]\n",
    "            dw = [d.dot(a_s[i].T)/float(batch_size) for i,d in enumerate(deltas)]\n",
    "        return dw, db\n",
    "    @staticmethod\n",
    "    def getDerivadaFuncion(nombre):\n",
    "        if(nombre == 'sigmoid'):\n",
    "            sig = lambda x : np.exp(x)/(1+np.exp(x))\n",
    "            return lambda x :sig(x)*(1-sig(x)) \n",
    "        elif(nombre == 'linear'):\n",
    "            return lambda x: 1\n",
    "        elif(nombre == 'relu'):\n",
    "            def relu_diff(x):\n",
    "                y = np.copy(x)\n",
    "                y[y>=0] = 1\n",
    "                y[y<0] = 0\n",
    "                return y\n",
    "            return relu_diff\n",
    "        else:\n",
    "            #print('Desconocida')\n",
    "            return lambda x: 1\n",
    "    \n",
    "    def entrenar(self, x, y, batch_size=10, epochs=100, lr = 0.01):\n",
    "        error = []\n",
    "        for e in range(epochs): \n",
    "            i=0\n",
    "            while(i<len(y)):\n",
    "                x_batch = x[i:i+batch_size]\n",
    "                y_batch = y[i:i+batch_size]\n",
    "                i = i+batch_size\n",
    "                z_s, a_s = self.feedforward(x_batch)\n",
    "                dw, db = self.backpropagation(y_batch, z_s, a_s)\n",
    "                self.ws = [w+lr*dweight for w,dweight in  zip(self.ws, dw)]\n",
    "                self.biases = [w+lr*dbias for w,dbias in  zip(self.biases, db)]\n",
    "                #if e % 1000 == 0:\n",
    "                    #print(\"loss = {}\".format(np.linalg.norm(a_s[-1]-y_batch) ))\n",
    "                error.append(np.linalg.norm(a_s[-1]-y_batch) )\n",
    "        return error"
   ]
  },
  {
   "cell_type": "markdown",
   "metadata": {},
   "source": [
    "# Experimento 1 relu"
   ]
  },
  {
   "cell_type": "code",
   "execution_count": 148,
   "metadata": {},
   "outputs": [
    {
     "name": "stdout",
     "output_type": "stream",
     "text": [
      "[array([[ 0.18170086, -1.18321348],\n",
      "       [-0.76765518, -0.12102093]]), array([[-0.20274797,  0.23579242]])]\n"
     ]
    },
    {
     "data": {
      "image/png": "[encoded data removed]",
      "text/plain": [
       "<Figure size 432x288 with 1 Axes>"
      ]
     },
     "metadata": {
      "needs_background": "light"
     },
     "output_type": "display_data"
    },
    {
     "name": "stdout",
     "output_type": "stream",
     "text": [
      "[[0.         1.07167456 0.         0.8899737 ]\n",
      " [0.         0.         0.48555858 0.6065795 ]]\n",
      "[[0. 0. 0. 0.]]\n",
      "[[1 1 0 0]\n",
      " [1 0 1 0]]\n"
     ]
    }
   ],
   "source": [
    "nn = BackPNN([2, 2, 1],activaciones=['relu', 'relu'])\n",
    "\n",
    "y = np.array([[1,0,0,1]])\n",
    "X = np.array([ [1,1],[1,0],[0,1],[0,0] ]).T\n",
    "    \n",
    "errores = nn.entrenar(X, y, epochs=10000, batch_size=4, lr = 1.5)\n",
    "_, a_s = nn.feedforward(X)\n",
    "plt.scatter(range(0,10000), errores)\n",
    "plt.show()\n",
    "print(a_s[-2])\n",
    "print(a_s[-1])\n",
    "print(a_s[-3])"
   ]
  },
  {
   "cell_type": "markdown",
   "metadata": {},
   "source": [
    "# Experimento 2 relu"
   ]
  },
  {
   "cell_type": "code",
   "execution_count": 149,
   "metadata": {},
   "outputs": [
    {
     "name": "stdout",
     "output_type": "stream",
     "text": [
      "[array([[-0.17767744, -1.05991526],\n",
      "       [-0.67369383,  1.21990663]]), array([[-0.46230985, -2.37067447]])]\n"
     ]
    },
    {
     "data": {
      "image/png": "[encoded data removed]",
      "text/plain": [
       "<Figure size 432x288 with 1 Axes>"
      ]
     },
     "metadata": {
      "needs_background": "light"
     },
     "output_type": "display_data"
    },
    {
     "name": "stdout",
     "output_type": "stream",
     "text": [
      "[[0.         0.35532362 0.         0.53300106]\n",
      " [2.15787034 0.93796371 2.83156418 1.61165754]]\n",
      "[[0. 0. 0. 0.]]\n",
      "[[1 1 0 0]\n",
      " [1 0 1 0]]\n"
     ]
    }
   ],
   "source": [
    "nn = BackPNN([2, 2, 1],activaciones=['relu', 'relu'])\n",
    "\n",
    "y = np.array([[1,0,0,1]])\n",
    "X = np.array([ [1,1],[1,0],[0,1],[0,0] ]).T\n",
    "    \n",
    "errores = nn.entrenar(X, y, epochs=10000, batch_size=4, lr = 1.5)\n",
    "_, a_s = nn.feedforward(X)\n",
    "plt.scatter(range(0,10000), errores)\n",
    "plt.show()\n",
    "print(a_s[-2])\n",
    "print(a_s[-1])\n",
    "print(a_s[-3])"
   ]
  },
  {
   "cell_type": "markdown",
   "metadata": {},
   "source": [
    "# Experimento 3 relu"
   ]
  },
  {
   "cell_type": "code",
   "execution_count": 151,
   "metadata": {},
   "outputs": [
    {
     "name": "stdout",
     "output_type": "stream",
     "text": [
      "[array([[-0.65738795, -0.53833691],\n",
      "       [ 0.73749452,  1.52782307]]), array([[-0.94540937,  0.03053004]])]\n"
     ]
    },
    {
     "data": {
      "image/png": "[encoded data removed]",
      "text/plain": [
       "<Figure size 432x288 with 1 Axes>"
      ]
     },
     "metadata": {
      "needs_background": "light"
     },
     "output_type": "display_data"
    },
    {
     "name": "stdout",
     "output_type": "stream",
     "text": [
      "[[0.41888819 0.71369042 0.79525433 1.09005656]\n",
      " [1.87671805 0.35701805 1.14536788 0.        ]]\n",
      "[[0. 0. 0. 0.]]\n",
      "[[1 1 0 0]\n",
      " [1 0 1 0]]\n"
     ]
    }
   ],
   "source": [
    "nn = BackPNN([2, 2, 1],activaciones=['relu', 'relu'])\n",
    "\n",
    "y = np.array([[1,0,0,1]])\n",
    "X = np.array([ [1,1],[1,0],[0,1],[0,0] ]).T\n",
    "    \n",
    "errores = nn.entrenar(X, y, epochs=10000, batch_size=4, lr = 1.5)\n",
    "_, a_s = nn.feedforward(X)\n",
    "plt.scatter(range(0,10000), errores)\n",
    "plt.show()\n",
    "print(a_s[-2])\n",
    "print(a_s[-1])\n",
    "print(a_s[-3])"
   ]
  },
  {
   "cell_type": "markdown",
   "metadata": {},
   "source": [
    "# Experimento 4 relu"
   ]
  },
  {
   "cell_type": "code",
   "execution_count": 152,
   "metadata": {},
   "outputs": [
    {
     "name": "stdout",
     "output_type": "stream",
     "text": [
      "[array([[ 0.02294033, -1.33047803],\n",
      "       [-1.18183176, -0.19195082]]), array([[-0.26497356,  0.91833602]])]\n"
     ]
    },
    {
     "data": {
      "image/png": "[encoded data removed]",
      "text/plain": [
       "<Figure size 432x288 with 1 Axes>"
      ]
     },
     "metadata": {
      "needs_background": "light"
     },
     "output_type": "display_data"
    },
    {
     "name": "stdout",
     "output_type": "stream",
     "text": [
      "[[1.88213447 2.99652828 1.67874423 2.79313804]\n",
      " [0.         0.         0.         0.        ]]\n",
      "[[0. 0. 0. 0.]]\n",
      "[[1 1 0 0]\n",
      " [1 0 1 0]]\n"
     ]
    }
   ],
   "source": [
    "nn = BackPNN([2, 2, 1],activaciones=['relu', 'relu'])\n",
    "\n",
    "y = np.array([[1,0,0,1]])\n",
    "X = np.array([ [1,1],[1,0],[0,1],[0,0] ]).T\n",
    "    \n",
    "errores = nn.entrenar(X, y, epochs=10000, batch_size=4, lr = 1.5)\n",
    "_, a_s = nn.feedforward(X)\n",
    "plt.scatter(range(0,10000), errores)\n",
    "plt.show()\n",
    "print(a_s[-2])\n",
    "print(a_s[-1])\n",
    "print(a_s[-3])"
   ]
  },
  {
   "cell_type": "markdown",
   "metadata": {},
   "source": [
    "# Experimento 5 relu"
   ]
  },
  {
   "cell_type": "code",
   "execution_count": 156,
   "metadata": {},
   "outputs": [
    {
     "name": "stdout",
     "output_type": "stream",
     "text": [
      "[array([[-0.13239217,  0.75734239],\n",
      "       [ 0.27481499,  2.0954909 ]]), array([[1.46670612, 0.50127996]])]\n"
     ]
    },
    {
     "data": {
      "image/png": "[encoded data removed]",
      "text/plain": [
       "<Figure size 432x288 with 1 Axes>"
      ]
     },
     "metadata": {
      "needs_background": "light"
     },
     "output_type": "display_data"
    },
    {
     "name": "stdout",
     "output_type": "stream",
     "text": [
      "[[0. 0. 0. 0.]\n",
      " [0. 0. 0. 0.]]\n",
      "[[0. 0. 0. 0.]]\n",
      "[[1 1 0 0]\n",
      " [1 0 1 0]]\n"
     ]
    }
   ],
   "source": [
    "nn = BackPNN([2, 2, 1],activaciones=['relu', 'relu'])\n",
    "\n",
    "y = np.array([[1,0,0,1]])\n",
    "X = np.array([ [1,1],[1,0],[0,1],[0,0] ]).T\n",
    "    \n",
    "errores = nn.entrenar(X, y, epochs=10000, batch_size=4, lr = 1.5)\n",
    "_, a_s = nn.feedforward(X)\n",
    "plt.scatter(range(0,10000), errores)\n",
    "plt.show()\n",
    "print(a_s[-2])\n",
    "print(a_s[-1])\n",
    "print(a_s[-3])"
   ]
  },
  {
   "cell_type": "markdown",
   "metadata": {},
   "source": [
    "# Experimento 1 Sigmoid"
   ]
  },
  {
   "cell_type": "code",
   "execution_count": 157,
   "metadata": {},
   "outputs": [
    {
     "name": "stdout",
     "output_type": "stream",
     "text": [
      "[array([[-1.48308802, -0.73014411],\n",
      "       [-0.54210417,  0.48611057]]), array([[ 1.18084119, -0.27136624]])]\n"
     ]
    },
    {
     "data": {
      "image/png": "[encoded data removed]",
      "text/plain": [
       "<Figure size 432x288 with 1 Axes>"
      ]
     },
     "metadata": {
      "needs_background": "light"
     },
     "output_type": "display_data"
    },
    {
     "name": "stdout",
     "output_type": "stream",
     "text": [
      "[[4.22591159e-05 2.19295132e-02 2.37916124e-02 9.28212935e-01]\n",
      " [8.28392772e-02 9.07256310e-01 9.08628249e-01 9.99072385e-01]]\n",
      "[[0.97613608 0.01920751 0.01930203 0.98186227]]\n",
      "[[1 1 0 0]\n",
      " [1 0 1 0]]\n"
     ]
    }
   ],
   "source": [
    "nn = BackPNN([2, 2, 1],activaciones=['sigmoid', 'sigmoid'])\n",
    "\n",
    "y = np.array([[1,0,0,1]])\n",
    "X = np.array([ [1,1],[1,0],[0,1],[0,0] ]).T\n",
    "    \n",
    "errores = nn.entrenar(X, y, epochs=10000, batch_size=4, lr = 1.5)\n",
    "_, a_s = nn.feedforward(X)\n",
    "plt.scatter(range(0,10000), errores)\n",
    "plt.show()\n",
    "print(a_s[-2])\n",
    "print(a_s[-1])\n",
    "print(a_s[-3])"
   ]
  },
  {
   "cell_type": "markdown",
   "metadata": {},
   "source": [
    "# Experimento 2 Sigmoid"
   ]
  },
  {
   "cell_type": "code",
   "execution_count": 158,
   "metadata": {},
   "outputs": [
    {
     "name": "stdout",
     "output_type": "stream",
     "text": [
      "[array([[-0.08115095,  0.43718291],\n",
      "       [ 0.23708255, -0.00156348]]), array([[ 2.2048178 , -0.55718664]])]\n"
     ]
    },
    {
     "data": {
      "image/png": "[encoded data removed]",
      "text/plain": [
       "<Figure size 432x288 with 1 Axes>"
      ]
     },
     "metadata": {
      "needs_background": "light"
     },
     "output_type": "display_data"
    },
    {
     "name": "stdout",
     "output_type": "stream",
     "text": [
      "[[9.05478514e-01 6.93621511e-02 6.93463426e-02 5.79399349e-04]\n",
      " [9.99914580e-01 9.66418913e-01 9.66398336e-01 6.60373684e-02]]\n",
      "[[0.9799776  0.01951233 0.01951305 0.97739061]]\n",
      "[[1 1 0 0]\n",
      " [1 0 1 0]]\n"
     ]
    }
   ],
   "source": [
    "nn = BackPNN([2, 2, 1],activaciones=['sigmoid', 'sigmoid'])\n",
    "\n",
    "y = np.array([[1,0,0,1]])\n",
    "X = np.array([ [1,1],[1,0],[0,1],[0,0] ]).T\n",
    "    \n",
    "errores = nn.entrenar(X, y, epochs=10000, batch_size=4, lr = 1.5)\n",
    "_, a_s = nn.feedforward(X)\n",
    "plt.scatter(range(0,10000), errores)\n",
    "plt.show()\n",
    "print(a_s[-2])\n",
    "print(a_s[-1])\n",
    "print(a_s[-3])"
   ]
  },
  {
   "cell_type": "markdown",
   "metadata": {},
   "source": [
    "# Experimento 3 Sigmoid"
   ]
  },
  {
   "cell_type": "code",
   "execution_count": 159,
   "metadata": {},
   "outputs": [
    {
     "name": "stdout",
     "output_type": "stream",
     "text": [
      "[array([[-1.69650304, -0.64935101],\n",
      "       [-0.63441446,  0.63029569]]), array([[-0.28397277,  1.96245728]])]\n"
     ]
    },
    {
     "data": {
      "image/png": "[encoded data removed]",
      "text/plain": [
       "<Figure size 432x288 with 1 Axes>"
      ]
     },
     "metadata": {
      "needs_background": "light"
     },
     "output_type": "display_data"
    },
    {
     "name": "stdout",
     "output_type": "stream",
     "text": [
      "[[4.12799468e-02 2.58538699e-04 9.17916490e-01 6.29370736e-02]\n",
      " [9.61908335e-01 4.04729041e-02 9.99964453e-01 9.79161385e-01]]\n",
      "[[0.98164341 0.02237417 0.01911879 0.98069329]]\n",
      "[[1 1 0 0]\n",
      " [1 0 1 0]]\n"
     ]
    }
   ],
   "source": [
    "nn = BackPNN([2, 2, 1],activaciones=['sigmoid', 'sigmoid'])\n",
    "\n",
    "y = np.array([[1,0,0,1]])\n",
    "X = np.array([ [1,1],[1,0],[0,1],[0,0] ]).T\n",
    "    \n",
    "errores = nn.entrenar(X, y, epochs=10000, batch_size=4, lr = 1.5)\n",
    "_, a_s = nn.feedforward(X)\n",
    "plt.scatter(range(0,10000), errores)\n",
    "plt.show()\n",
    "print(a_s[-2])\n",
    "print(a_s[-1])\n",
    "print(a_s[-3])"
   ]
  },
  {
   "cell_type": "markdown",
   "metadata": {},
   "source": [
    "# Experimento 4 Sigmoid"
   ]
  },
  {
   "cell_type": "code",
   "execution_count": 160,
   "metadata": {},
   "outputs": [
    {
     "name": "stdout",
     "output_type": "stream",
     "text": [
      "[array([[-0.89220695,  0.1136645 ],\n",
      "       [-2.58180485, -0.47704404]]), array([[-0.4884341 ,  1.20974975]])]\n"
     ]
    },
    {
     "data": {
      "image/png": "[encoded data removed]",
      "text/plain": [
       "<Figure size 432x288 with 1 Axes>"
      ]
     },
     "metadata": {
      "needs_background": "light"
     },
     "output_type": "display_data"
    },
    {
     "name": "stdout",
     "output_type": "stream",
     "text": [
      "[[8.34211073e-02 9.05347649e-01 9.08263125e-01 9.99039854e-01]\n",
      " [3.97352255e-05 2.03643494e-02 2.43413212e-02 9.28833042e-01]]\n",
      "[[0.97614672 0.01910548 0.01930922 0.98195038]]\n",
      "[[1 1 0 0]\n",
      " [1 0 1 0]]\n"
     ]
    }
   ],
   "source": [
    "nn = BackPNN([2, 2, 1],activaciones=['sigmoid', 'sigmoid'])\n",
    "\n",
    "y = np.array([[1,0,0,1]])\n",
    "X = np.array([ [1,1],[1,0],[0,1],[0,0] ]).T\n",
    "    \n",
    "errores = nn.entrenar(X, y, epochs=10000, batch_size=4, lr = 1.5)\n",
    "_, a_s = nn.feedforward(X)\n",
    "plt.scatter(range(0,10000), errores)\n",
    "plt.show()\n",
    "print(a_s[-2])\n",
    "print(a_s[-1])\n",
    "print(a_s[-3])"
   ]
  },
  {
   "cell_type": "markdown",
   "metadata": {},
   "source": [
    "# Experimento 5 Sigmoid"
   ]
  },
  {
   "cell_type": "code",
   "execution_count": 161,
   "metadata": {},
   "outputs": [
    {
     "name": "stdout",
     "output_type": "stream",
     "text": [
      "[array([[-0.49601978, -1.35873879],\n",
      "       [-0.11880558, -0.54273507]]), array([[-0.61069581,  0.44660963]])]\n"
     ]
    },
    {
     "data": {
      "image/png": "[encoded data removed]",
      "text/plain": [
       "<Figure size 432x288 with 1 Axes>"
      ]
     },
     "metadata": {
      "needs_background": "light"
     },
     "output_type": "display_data"
    },
    {
     "name": "stdout",
     "output_type": "stream",
     "text": [
      "[[3.33447238e-02 9.38377274e-01 8.88060886e-05 3.77277036e-02]\n",
      " [9.53770099e-01 9.99828700e-01 5.67530257e-02 9.44512285e-01]]\n",
      "[[0.98161511 0.0193388  0.0236541  0.97926139]]\n",
      "[[1 1 0 0]\n",
      " [1 0 1 0]]\n"
     ]
    }
   ],
   "source": [
    "nn = BackPNN([2, 2, 1],activaciones=['sigmoid', 'sigmoid'])\n",
    "\n",
    "y = np.array([[1,0,0,1]])\n",
    "X = np.array([ [1,1],[1,0],[0,1],[0,0] ]).T\n",
    "    \n",
    "errores = nn.entrenar(X, y, epochs=10000, batch_size=4, lr = 1.5)\n",
    "_, a_s = nn.feedforward(X)\n",
    "plt.scatter(range(0,10000), errores)\n",
    "plt.show()\n",
    "print(a_s[-2])\n",
    "print(a_s[-1])\n",
    "print(a_s[-3])"
   ]
  },
  {
   "cell_type": "markdown",
   "metadata": {},
   "source": [
    "# Conclusiones\n",
    "- La representacion intermedia utilizando relu no me dio los resultados esperados \n",
    "- Dependiendo de la inicializacion el error no se logro reducir\n",
    "- Implemente sigmoid para confirmar el funcionamiento de la red neuronal y funciono correctamente"
   ]
  },
  {
   "cell_type": "code",
   "execution_count": null,
   "metadata": {},
   "outputs": [],
   "source": []
  }
 ],
 "metadata": {
  "kernelspec": {
   "display_name": "Python 3",
   "language": "python",
   "name": "python3"
  },
  "language_info": {
   "codemirror_mode": {
    "name": "ipython",
    "version": 3
   },
   "file_extension": ".py",
   "mimetype": "text/x-python",
   "name": "python",
   "nbconvert_exporter": "python",
   "pygments_lexer": "ipython3",
   "version": "3.7.7"
  }
 },
 "nbformat": 4,
 "nbformat_minor": 4
}
