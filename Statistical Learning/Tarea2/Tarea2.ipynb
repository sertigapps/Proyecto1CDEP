{
 "cells": [
  {
   "cell_type": "markdown",
   "metadata": {},
   "source": [
    "# Tarea #2 Statistical Learning"
   ]
  },
  {
   "cell_type": "code",
   "execution_count": 348,
   "metadata": {},
   "outputs": [],
   "source": [
    "import numpy as np \n",
    "import tensorflow.compat.v1 as tf \n",
    "import matplotlib.pyplot as plt \n",
    "datos = np.load('proyecto_training_data.npy')\n",
    "%load_ext tensorboard"
   ]
  },
  {
   "cell_type": "code",
   "execution_count": 335,
   "metadata": {},
   "outputs": [
    {
     "name": "stdout",
     "output_type": "stream",
     "text": [
      "[[2.08500e+05 7.00000e+00]\n",
      " [1.81500e+05 6.00000e+00]\n",
      " [2.23500e+05 7.00000e+00]\n",
      " ...\n",
      " [2.66500e+05 7.00000e+00]\n",
      " [1.42125e+05 5.00000e+00]\n",
      " [1.47500e+05 5.00000e+00]]\n"
     ]
    }
   ],
   "source": [
    "data = datos[:,0:2]\n",
    "print(data)"
   ]
  },
  {
   "cell_type": "code",
   "execution_count": 147,
   "metadata": {},
   "outputs": [
    {
     "data": {
      "image/png": "[encoded data removed]",
      "text/plain": [
       "<Figure size 432x288 with 1 Axes>"
      ]
     },
     "metadata": {
      "needs_background": "light"
     },
     "output_type": "display_data"
    }
   ],
   "source": [
    "plt.scatter(data[:,1], data[:,0]) \n",
    "plt.xlabel('Overall') \n",
    "plt.ylabel('Precio') \n",
    "plt.title(\"Verificando correlacion\") \n",
    "plt.show() "
   ]
  },
  {
   "cell_type": "code",
   "execution_count": 363,
   "metadata": {},
   "outputs": [
    {
     "name": "stdout",
     "output_type": "stream",
     "text": [
      "Epoch 0 MSE =  19519472000.0\n",
      "Epoch 1000 MSE =  1185915100.0\n",
      "Epoch 2000 MSE =  1180586800.0\n",
      "Epoch 3000 MSE =  1180469900.0\n",
      "Epoch 4000 MSE =  1180467300.0\n",
      "Epoch 5000 MSE =  1180467100.0\n",
      "Epoch 6000 MSE =  1180467000.0\n",
      "Epoch 7000 MSE =  1180467000.0\n",
      "Epoch 8000 MSE =  1180467000.0\n",
      "Epoch 9000 MSE =  1180467000.0\n",
      "[[-96203.98 ]\n",
      " [ 45435.473]]\n",
      "Epoch 0 MSE =  19520379000.0\n",
      "Epoch 1000 MSE =  1194634200.0\n",
      "Epoch 2000 MSE =  1181275100.0\n",
      "Epoch 3000 MSE =  1180513400.0\n",
      "Epoch 4000 MSE =  1180469900.0\n",
      "Epoch 5000 MSE =  1180467500.0\n",
      "Epoch 6000 MSE =  1180467100.0\n",
      "Epoch 7000 MSE =  1180467000.0\n",
      "Epoch 8000 MSE =  1180466600.0\n",
      "Epoch 9000 MSE =  1180466600.0\n",
      "[[-96203.2 ]\n",
      " [ 45435.35]]\n",
      "Epoch 0 MSE =  19520303000.0\n",
      "Epoch 1000 MSE =  1217293200.0\n",
      "Epoch 2000 MSE =  1185925100.0\n",
      "Epoch 3000 MSE =  1181276000.0\n",
      "Epoch 4000 MSE =  1180587000.0\n",
      "Epoch 5000 MSE =  1180485100.0\n",
      "Epoch 6000 MSE =  1180470100.0\n",
      "Epoch 7000 MSE =  1180467500.0\n",
      "Epoch 8000 MSE =  1180467200.0\n",
      "Epoch 9000 MSE =  1180467100.0\n",
      "[[-96198.35 ]\n",
      " [ 45434.598]]\n",
      "Epoch 0 MSE =  19519027000.0\n",
      "Epoch 1000 MSE =  1276145500.0\n",
      "Epoch 2000 MSE =  1217309200.0\n",
      "Epoch 3000 MSE =  1194653400.0\n",
      "Epoch 4000 MSE =  1185930200.0\n",
      "Epoch 5000 MSE =  1182570800.0\n",
      "Epoch 6000 MSE =  1181277000.0\n",
      "Epoch 7000 MSE =  1180779300.0\n",
      "Epoch 8000 MSE =  1180587100.0\n",
      "Epoch 9000 MSE =  1180513700.0\n",
      "[[-95352.27 ]\n",
      " [ 45302.496]]\n",
      "Epoch 0 MSE =  19519461000.0\n",
      "Epoch 1000 MSE =  1406329500.0\n",
      "Epoch 2000 MSE =  1385775400.0\n",
      "Epoch 3000 MSE =  1367091300.0\n",
      "Epoch 4000 MSE =  1350108000.0\n",
      "Epoch 5000 MSE =  1334670300.0\n",
      "Epoch 6000 MSE =  1320637400.0\n",
      "Epoch 7000 MSE =  1307881700.0\n",
      "Epoch 8000 MSE =  1296287000.0\n",
      "Epoch 9000 MSE =  1285747300.0\n",
      "[[-33623.758]\n",
      " [ 35664.73 ]]\n",
      "Epoch 0 MSE =  19519357000.0\n",
      "Epoch 1000 MSE =  1367091600.0\n",
      "Epoch 2000 MSE =  1320635100.0\n",
      "Epoch 3000 MSE =  1285743100.0\n",
      "Epoch 4000 MSE =  1259536900.0\n",
      "Epoch 5000 MSE =  1239853800.0\n",
      "Epoch 6000 MSE =  1225071400.0\n",
      "Epoch 7000 MSE =  1213968000.0\n",
      "Epoch 8000 MSE =  1205628700.0\n",
      "Epoch 9000 MSE =  1199365100.0\n",
      "[[-72104.4  ]\n",
      " [ 41672.766]]\n",
      "Epoch 0 MSE =  19520230000.0\n",
      "Epoch 1000 MSE =  1334662400.0\n",
      "Epoch 2000 MSE =  1276155800.0\n",
      "Epoch 3000 MSE =  1239848400.0\n",
      "Epoch 4000 MSE =  1217317800.0\n",
      "Epoch 5000 MSE =  1203335600.0\n",
      "Epoch 6000 MSE =  1194658400.0\n",
      "Epoch 7000 MSE =  1189273600.0\n",
      "Epoch 8000 MSE =  1185932700.0\n",
      "Epoch 9000 MSE =  1183858700.0\n",
      "[[-86925.05 ]\n",
      " [ 43986.746]]\n",
      "Epoch 0 MSE =  19519380000.0\n",
      "Epoch 1000 MSE =  1307870800.0\n",
      "Epoch 2000 MSE =  1245791600.0\n",
      "Epoch 3000 MSE =  1213961300.0\n",
      "Epoch 4000 MSE =  1197640800.0\n",
      "Epoch 5000 MSE =  1189272800.0\n",
      "Epoch 6000 MSE =  1184981900.0\n",
      "Epoch 7000 MSE =  1182781800.0\n",
      "Epoch 8000 MSE =  1181654300.0\n",
      "Epoch 9000 MSE =  1181075600.0\n",
      "[[-92632.33]\n",
      " [ 44877.83]]\n",
      "Epoch 0 MSE =  19518614000.0\n",
      "Epoch 1000 MSE =  1285729000.0\n",
      "Epoch 2000 MSE =  1225059200.0\n",
      "Epoch 3000 MSE =  1199357700.0\n",
      "Epoch 4000 MSE =  1188469900.0\n",
      "Epoch 5000 MSE =  1183857500.0\n",
      "Epoch 6000 MSE =  1181903400.0\n",
      "Epoch 7000 MSE =  1181075200.0\n",
      "Epoch 8000 MSE =  1180724700.0\n",
      "Epoch 9000 MSE =  1180575900.0\n",
      "[[-94830.05]\n",
      " [ 45220.96]]\n",
      "Epoch 0 MSE =  19518720000.0\n",
      "Epoch 1000 MSE =  1277062900.0\n",
      "Epoch 2000 MSE =  1218018800.0\n",
      "Epoch 3000 MSE =  1195065300.0\n",
      "Epoch 4000 MSE =  1186142600.0\n",
      "Epoch 5000 MSE =  1182673800.0\n",
      "Epoch 6000 MSE =  1181324900.0\n",
      "Epoch 7000 MSE =  1180800800.0\n",
      "Epoch 8000 MSE =  1180596400.0\n",
      "Epoch 9000 MSE =  1180517400.0\n",
      "[[-95310.555]\n",
      " [ 45295.984]]\n"
     ]
    }
   ],
   "source": [
    "def linearModel(epochs, lr, data):\n",
    "    tf.reset_default_graph()\n",
    "    m, n = data.shape\n",
    "    xdata_mas_uno = np.c_[np.ones((m, 1)), data[:,1]]\n",
    "    X = tf.constant(xdata_mas_uno, dtype = tf.float32, name = 'X')\n",
    "    Y = tf.constant(data[:,0].reshape(-1, 1), dtype = tf.float32, name = 'y')\n",
    "    mb = tf.Variable(tf.random_uniform([n, 1], -1.0, 1.0), name = 'mb')\n",
    "    yhat = tf.matmul(X, mb, name = 'yhat')\n",
    "    error = 1/2*tf.reduce_mean(tf.square(tf.math.subtract(yhat , Y)), name = 'mse')\n",
    "    grads = tf.gradients(error, mb)\n",
    "    error_summary = tf.summary.scalar(name=\"MSE\", tensor=error)\n",
    "    newmb =  tf.subtract(mb ,tf.multiply(lr , grads[0] ))\n",
    "    updatemb = tf.assign(mb, newmb)\n",
    "    init = tf.global_variables_initializer()\n",
    "    with tf.Session() as sess:\n",
    "        writer = tf.summary.FileWriter(('.graphs/graphs_'+str(lr)+str(epochs)), sess.graph)\n",
    "        sess.run(init)\n",
    "        for epoch in range(epochs):\n",
    "            e_summary = sess.run(error_summary)\n",
    "            if epoch % 1000 == 0:\n",
    "                print('Epoch', epoch , 'MSE = ', error.eval())\n",
    "            sess.run(updatemb)\n",
    "            writer.add_summary(e_summary,epoch)\n",
    "        print(mb.eval())\n",
    "\n",
    "linearModel(10000,0.04,data)\n",
    "linearModel(10000,0.03,data)\n",
    "linearModel(10000,0.02,data)\n",
    "linearModel(10000,0.01,data)\n",
    "linearModel(10000,0.001,data)\n",
    "linearModel(10000,0.003,data)\n",
    "linearModel(10000,0.005,data)\n",
    "linearModel(10000,0.007,data)\n",
    "linearModel(10000,0.009,data)\n",
    "linearModel(10000,0.0099,data)"
   ]
  },
  {
   "cell_type": "markdown",
   "metadata": {},
   "source": [
    "# Grafo de TensorBoard\n",
    "![image info](./grafo.png)"
   ]
  },
  {
   "cell_type": "markdown",
   "metadata": {},
   "source": [
    "# Curva de aprendizaje para los modelos\n",
    "![image info](./scalar.png)"
   ]
  },
  {
   "cell_type": "markdown",
   "metadata": {},
   "source": [
    "# Conclusion\n",
    "En el caso de las pruebas realizadas los hiperparametros con mejor resultado fueron\n",
    "- Learning rate 0.03\n",
    "- Numero de iteraciones 10000\n",
    "\n",
    "Con los cuales se obtuvo un modelo de la siguiente forma\n",
    "\n",
    "Y = 45435.35 X - 96203.2\n",
    "\n",
    "Esto se apega al modelo obtenido en el proyecto anterior con sklear el cual fue el siguiente\n",
    "\n",
    "Y = 45411.998779159156 X - 96469.57131873982"
   ]
  }
 ],
 "metadata": {
  "kernelspec": {
   "display_name": "Python 3",
   "language": "python",
   "name": "python3"
  },
  "language_info": {
   "codemirror_mode": {
    "name": "ipython",
    "version": 3
   },
   "file_extension": ".py",
   "mimetype": "text/x-python",
   "name": "python",
   "nbconvert_exporter": "python",
   "pygments_lexer": "ipython3",
   "version": "3.7.4"
  }
 },
 "nbformat": 4,
 "nbformat_minor": 4
}
