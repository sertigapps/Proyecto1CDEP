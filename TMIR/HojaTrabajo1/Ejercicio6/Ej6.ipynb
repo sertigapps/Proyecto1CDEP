{
 "cells": [
  {
   "cell_type": "markdown",
   "metadata": {},
   "source": [
    "# Colores HSV\n",
    "El modelo de color RGB (rojo, verde, azul) es la forma más popular de mezclar y crear colores. Si hemos tenido alguna impresora comercial, hemos visto CMYK (cian, magenta, amarillo, Key). Es posible que haya notado HSV (tono, saturación, valor) en el selector de color de photoshop o algun editor de imagenes. Estos son esquemas que describen la forma en que los colores se combinan para crear el espectro que vemos.\n",
    "\n",
    "## HSV = HUE (MATIZ) SATURATION (SATURACION) VALUE (BRILLO)\n",
    "\n",
    "### MATIZ\n",
    "El tono es la porción de color del modelo, expresada como un número de 0 a 360 grados:\n",
    "\n",
    "- El rojo cae entre 0 y 60 grados.\n",
    "- El amarillo cae entre 61 y 120 grados.\n",
    "- El verde cae entre 121 y 180 grados.\n",
    "- El cian cae entre 181 y 240 grados.\n",
    "- El azul cae entre 241 y 300 grados.\n",
    "- Magenta cae entre 301 y 360 grados.\n",
    "\n",
    "### SATURACIÓN\n",
    "La saturación describe la cantidad de gris en un color particular, del 0 al 100 por ciento. La reducción de este componente hacia cero introduce más gris y produce un efecto desvanecido. A veces, la saturación aparece como un rango de 0 a 1, donde 0 es gris y 1 es un color primario.\n",
    "\n",
    "### VALOR (O BRILLO)\n",
    "El valor funciona junto con la saturación y describe el brillo o la intensidad del color, del 0 al 100 por ciento, donde 0 es completamente negro y 100 es el más brillante y revela la mayor cantidad de color.\n",
    "\n",
    "## Como Mapearlos"
   ]
  },
  {
   "cell_type": "code",
   "execution_count": null,
   "metadata": {},
   "outputs": [],
   "source": [
    "import colorsys\n",
    "colorsys.rgb_to_hsv(.3, .4, .2)\n",
    "(0.25, 0.5, 0.4)\n",
    "colorsys.hsv_to_rgb(0.25, 0.5, 0.4)\n",
    "(0.3, 0.4, 0.2)"
   ]
  },
  {
   "cell_type": "code",
   "execution_count": null,
   "metadata": {},
   "outputs": [],
   "source": []
  }
 ],
 "metadata": {
  "kernelspec": {
   "display_name": "Python 2",
   "language": "python",
   "name": "python2"
  },
  "language_info": {
   "codemirror_mode": {
    "name": "ipython",
    "version": 2
   },
   "file_extension": ".py",
   "mimetype": "text/x-python",
   "name": "python",
   "nbconvert_exporter": "python",
   "pygments_lexer": "ipython2",
   "version": "2.7.18"
  }
 },
 "nbformat": 4,
 "nbformat_minor": 2
}
