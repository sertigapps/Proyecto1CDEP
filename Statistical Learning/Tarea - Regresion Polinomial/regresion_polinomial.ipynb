{
 "cells": [
  {
   "cell_type": "code",
   "execution_count": 1,
   "metadata": {},
   "outputs": [],
   "source": [
    "import numpy as np\n",
    "import pandas as pd\n",
    "import math as mt\n",
    "from matplotlib import pyplot as plt\n",
    "from datetime import date\n",
    "from sklearn import  linear_model\n",
    "import tensorflow.compat.v1 as tf \n",
    "import seaborn as sns\n",
    "%load_ext tensorboard"
   ]
  },
  {
   "cell_type": "markdown",
   "metadata": {},
   "source": [
    "# Tarea 2 - Regresion Polinomial & Feature engineering\n",
    "\n",
    "### Parte 1 - Modelo exponencial de covid-19 usando feature-eng\n",
    "\n",
    "Usando el ejemplo de covid-19 en el notebook de feature-eng (https://colab.research.google.com/drive/1sJV2HG7tQgCGKES3-dIclzHQJ9qAWB3b?usp=sharing) crear un modelo de covid-19 para Guatemala.\n",
    "\n",
    "* Convertir la fecha a un entero \"número de día\", por ejemplo si se usan datos desde el 22 de abril, este es el día 0, el 23 es el día 1.\n",
    "* Aplicar regresión lineal sobre la variable \"Confirmed\" transformada.\n",
    "* Una vez entrenado el modelo usarlo para aproximar la cantidad de casos confirmados para el 6 de Junio. Se debe reportar la cantidad de casos, no la cantidad transformada obtenida."
   ]
  },
  {
   "cell_type": "code",
   "execution_count": 2,
   "metadata": {},
   "outputs": [
    {
     "data": {
      "text/html": [
       "<div>\n",
       "<style scoped>\n",
       "    .dataframe tbody tr th:only-of-type {\n",
       "        vertical-align: middle;\n",
       "    }\n",
       "\n",
       "    .dataframe tbody tr th {\n",
       "        vertical-align: top;\n",
       "    }\n",
       "\n",
       "    .dataframe thead th {\n",
       "        text-align: right;\n",
       "    }\n",
       "</style>\n",
       "<table border=\"1\" class=\"dataframe\">\n",
       "  <thead>\n",
       "    <tr style=\"text-align: right;\">\n",
       "      <th></th>\n",
       "      <th>Province/State</th>\n",
       "      <th>Country/Region</th>\n",
       "      <th>Lat</th>\n",
       "      <th>Long</th>\n",
       "      <th>Date</th>\n",
       "      <th>Confirmed</th>\n",
       "      <th>Deaths</th>\n",
       "      <th>Recovered</th>\n",
       "    </tr>\n",
       "  </thead>\n",
       "  <tbody>\n",
       "    <tr>\n",
       "      <th>0</th>\n",
       "      <td>NaN</td>\n",
       "      <td>Afghanistan</td>\n",
       "      <td>33.0000</td>\n",
       "      <td>65.0000</td>\n",
       "      <td>2020-01-22</td>\n",
       "      <td>0</td>\n",
       "      <td>0</td>\n",
       "      <td>0</td>\n",
       "    </tr>\n",
       "    <tr>\n",
       "      <th>1</th>\n",
       "      <td>NaN</td>\n",
       "      <td>Albania</td>\n",
       "      <td>41.1533</td>\n",
       "      <td>20.1683</td>\n",
       "      <td>2020-01-22</td>\n",
       "      <td>0</td>\n",
       "      <td>0</td>\n",
       "      <td>0</td>\n",
       "    </tr>\n",
       "    <tr>\n",
       "      <th>2</th>\n",
       "      <td>NaN</td>\n",
       "      <td>Algeria</td>\n",
       "      <td>28.0339</td>\n",
       "      <td>1.6596</td>\n",
       "      <td>2020-01-22</td>\n",
       "      <td>0</td>\n",
       "      <td>0</td>\n",
       "      <td>0</td>\n",
       "    </tr>\n",
       "    <tr>\n",
       "      <th>3</th>\n",
       "      <td>NaN</td>\n",
       "      <td>Andorra</td>\n",
       "      <td>42.5063</td>\n",
       "      <td>1.5218</td>\n",
       "      <td>2020-01-22</td>\n",
       "      <td>0</td>\n",
       "      <td>0</td>\n",
       "      <td>0</td>\n",
       "    </tr>\n",
       "    <tr>\n",
       "      <th>4</th>\n",
       "      <td>NaN</td>\n",
       "      <td>Angola</td>\n",
       "      <td>-11.2027</td>\n",
       "      <td>17.8739</td>\n",
       "      <td>2020-01-22</td>\n",
       "      <td>0</td>\n",
       "      <td>0</td>\n",
       "      <td>0</td>\n",
       "    </tr>\n",
       "  </tbody>\n",
       "</table>\n",
       "</div>"
      ],
      "text/plain": [
       "  Province/State Country/Region      Lat     Long       Date  Confirmed  \\\n",
       "0            NaN    Afghanistan  33.0000  65.0000 2020-01-22          0   \n",
       "1            NaN        Albania  41.1533  20.1683 2020-01-22          0   \n",
       "2            NaN        Algeria  28.0339   1.6596 2020-01-22          0   \n",
       "3            NaN        Andorra  42.5063   1.5218 2020-01-22          0   \n",
       "4            NaN         Angola -11.2027  17.8739 2020-01-22          0   \n",
       "\n",
       "   Deaths  Recovered  \n",
       "0       0          0  \n",
       "1       0          0  \n",
       "2       0          0  \n",
       "3       0          0  \n",
       "4       0          0  "
      ]
     },
     "execution_count": 2,
     "metadata": {},
     "output_type": "execute_result"
    }
   ],
   "source": [
    "covid19_data = pd.read_csv('./covid_19_clean_complete.csv')\n",
    "covid19_data[\"Date\"] = pd.to_datetime(covid19_data[\"Date\"],infer_datetime_format = True)\n",
    "covid19_data.head()"
   ]
  },
  {
   "cell_type": "code",
   "execution_count": 3,
   "metadata": {},
   "outputs": [
    {
     "data": {
      "text/html": [
       "<div>\n",
       "<style scoped>\n",
       "    .dataframe tbody tr th:only-of-type {\n",
       "        vertical-align: middle;\n",
       "    }\n",
       "\n",
       "    .dataframe tbody tr th {\n",
       "        vertical-align: top;\n",
       "    }\n",
       "\n",
       "    .dataframe thead th {\n",
       "        text-align: right;\n",
       "    }\n",
       "</style>\n",
       "<table border=\"1\" class=\"dataframe\">\n",
       "  <thead>\n",
       "    <tr style=\"text-align: right;\">\n",
       "      <th></th>\n",
       "      <th>Province/State</th>\n",
       "      <th>Country/Region</th>\n",
       "      <th>Lat</th>\n",
       "      <th>Long</th>\n",
       "      <th>Date</th>\n",
       "      <th>Confirmed</th>\n",
       "      <th>Deaths</th>\n",
       "      <th>Recovered</th>\n",
       "      <th>Days</th>\n",
       "    </tr>\n",
       "  </thead>\n",
       "  <tbody>\n",
       "    <tr>\n",
       "      <th>31536</th>\n",
       "      <td>NaN</td>\n",
       "      <td>Guatemala</td>\n",
       "      <td>-29.609988</td>\n",
       "      <td>28.233608</td>\n",
       "      <td>2020-05-21</td>\n",
       "      <td>2397</td>\n",
       "      <td>0</td>\n",
       "      <td>0</td>\n",
       "      <td>68</td>\n",
       "    </tr>\n",
       "    <tr>\n",
       "      <th>31537</th>\n",
       "      <td>NaN</td>\n",
       "      <td>Guatemala</td>\n",
       "      <td>-29.609988</td>\n",
       "      <td>28.233608</td>\n",
       "      <td>2020-05-22</td>\n",
       "      <td>2644</td>\n",
       "      <td>0</td>\n",
       "      <td>0</td>\n",
       "      <td>69</td>\n",
       "    </tr>\n",
       "    <tr>\n",
       "      <th>31538</th>\n",
       "      <td>NaN</td>\n",
       "      <td>Guatemala</td>\n",
       "      <td>-29.609988</td>\n",
       "      <td>28.233608</td>\n",
       "      <td>2020-05-23</td>\n",
       "      <td>2875</td>\n",
       "      <td>0</td>\n",
       "      <td>0</td>\n",
       "      <td>70</td>\n",
       "    </tr>\n",
       "    <tr>\n",
       "      <th>31539</th>\n",
       "      <td>NaN</td>\n",
       "      <td>Guatemala</td>\n",
       "      <td>-29.609988</td>\n",
       "      <td>28.233608</td>\n",
       "      <td>2020-05-24</td>\n",
       "      <td>3186</td>\n",
       "      <td>0</td>\n",
       "      <td>0</td>\n",
       "      <td>71</td>\n",
       "    </tr>\n",
       "    <tr>\n",
       "      <th>31540</th>\n",
       "      <td>NaN</td>\n",
       "      <td>Guatemala</td>\n",
       "      <td>-29.609988</td>\n",
       "      <td>28.233608</td>\n",
       "      <td>2020-05-25</td>\n",
       "      <td>3556</td>\n",
       "      <td>0</td>\n",
       "      <td>0</td>\n",
       "      <td>72</td>\n",
       "    </tr>\n",
       "  </tbody>\n",
       "</table>\n",
       "</div>"
      ],
      "text/plain": [
       "      Province/State Country/Region        Lat       Long       Date  \\\n",
       "31536            NaN      Guatemala -29.609988  28.233608 2020-05-21   \n",
       "31537            NaN      Guatemala -29.609988  28.233608 2020-05-22   \n",
       "31538            NaN      Guatemala -29.609988  28.233608 2020-05-23   \n",
       "31539            NaN      Guatemala -29.609988  28.233608 2020-05-24   \n",
       "31540            NaN      Guatemala -29.609988  28.233608 2020-05-25   \n",
       "\n",
       "       Confirmed  Deaths  Recovered  Days  \n",
       "31536       2397       0          0    68  \n",
       "31537       2644       0          0    69  \n",
       "31538       2875       0          0    70  \n",
       "31539       3186       0          0    71  \n",
       "31540       3556       0          0    72  "
      ]
     },
     "execution_count": 3,
     "metadata": {},
     "output_type": "execute_result"
    }
   ],
   "source": [
    "GT_confirmed = covid19_data[(covid19_data[\"Country/Region\"] == 'Guatemala') & (covid19_data[\"Confirmed\"] > 0)].copy()\n",
    "GT_confirmed['Days'] = pd.to_datetime(GT_confirmed['Date']).sub(pd.Timestamp('2020-03-14')).dt.days\n",
    "GT_confirmed.tail()"
   ]
  },
  {
   "cell_type": "code",
   "execution_count": 4,
   "metadata": {},
   "outputs": [
    {
     "data": {
      "text/plain": [
       "<matplotlib.collections.PathCollection at 0x1a4aba1c50>"
      ]
     },
     "execution_count": 4,
     "metadata": {},
     "output_type": "execute_result"
    },
    {
     "data": {
      "image/png": "[encoded data removed]",
      "text/plain": [
       "<Figure size 432x288 with 1 Axes>"
      ]
     },
     "metadata": {
      "needs_background": "light"
     },
     "output_type": "display_data"
    }
   ],
   "source": [
    "plt.scatter(GT_confirmed['Days'], GT_confirmed['Confirmed'])"
   ]
  },
  {
   "cell_type": "code",
   "execution_count": 5,
   "metadata": {},
   "outputs": [
    {
     "data": {
      "text/plain": [
       "<matplotlib.axes._subplots.AxesSubplot at 0x1a4ac32850>"
      ]
     },
     "execution_count": 5,
     "metadata": {},
     "output_type": "execute_result"
    },
    {
     "data": {
      "image/png": "[encoded data removed]",
      "text/plain": [
       "<Figure size 432x288 with 1 Axes>"
      ]
     },
     "metadata": {
      "needs_background": "light"
     },
     "output_type": "display_data"
    }
   ],
   "source": [
    "GT_confirmed[\"ln-confirmed\"] = np.log(GT_confirmed[\"Confirmed\"])\n",
    "GT_confirmed.plot.scatter(x = \"Days\",y=\"ln-confirmed\")"
   ]
  },
  {
   "cell_type": "code",
   "execution_count": 6,
   "metadata": {},
   "outputs": [
    {
     "name": "stdout",
     "output_type": "stream",
     "text": [
      "[[0.09141241]]\n",
      "[1.93160751]\n"
     ]
    }
   ],
   "source": [
    "curve_fit = np.polyfit(GT_confirmed[\"Days\"], GT_confirmed[\"ln-confirmed\"], 1)\n",
    "regresion = linear_model.LinearRegression()\n",
    "regresion.fit(np.array(GT_confirmed[\"Days\"]).reshape(-1,1),np.array( GT_confirmed[\"ln-confirmed\"]).reshape(-1,1))\n",
    "print(regresion.coef_)\n",
    "print(regresion.intercept_)"
   ]
  },
  {
   "cell_type": "code",
   "execution_count": 7,
   "metadata": {},
   "outputs": [
    {
     "data": {
      "text/plain": [
       "[<matplotlib.lines.Line2D at 0x1a4aca31d0>]"
      ]
     },
     "execution_count": 7,
     "metadata": {},
     "output_type": "execute_result"
    },
    {
     "data": {
      "image/png": "[encoded data removed]",
      "text/plain": [
       "<Figure size 432x288 with 1 Axes>"
      ]
     },
     "metadata": {
      "needs_background": "light"
     },
     "output_type": "display_data"
    }
   ],
   "source": [
    "GT_confirmed[\"Predict-ln-confirmed\"] = 1.9316 + 0.09141*GT_confirmed[\"Days\"]\n",
    "plt.plot(GT_confirmed[\"Days\"], GT_confirmed[\"Predict-ln-confirmed\"], \"o\")\n",
    "plt.plot(GT_confirmed[\"Days\"], GT_confirmed[\"ln-confirmed\"])"
   ]
  },
  {
   "cell_type": "code",
   "execution_count": 8,
   "metadata": {},
   "outputs": [
    {
     "name": "stdout",
     "output_type": "stream",
     "text": [
      "9.61004\n"
     ]
    },
    {
     "data": {
      "text/plain": [
       "14913.76662600675"
      ]
     },
     "execution_count": 8,
     "metadata": {},
     "output_type": "execute_result"
    }
   ],
   "source": [
    "PrediccionLN = 1.9316 + 0.09141*84\n",
    "print(PrediccionLN)\n",
    "Prediccion = mt.exp(PrediccionLN)\n",
    "Prediccion\n"
   ]
  },
  {
   "cell_type": "markdown",
   "metadata": {},
   "source": [
    "# Mi modelo dio una predicion de 14913 casos para el dia 6 de Junio"
   ]
  },
  {
   "cell_type": "markdown",
   "metadata": {},
   "source": [
    "### Parte 2 - Modelo polinomial de calidad de vinos"
   ]
  },
  {
   "cell_type": "markdown",
   "metadata": {},
   "source": [
    "Es permitido utilizar [sklearn.preprocessing.polynomialfeatures](https://scikit-learn.org/stable/modules/generated/sklearn.preprocessing.PolynomialFeatures.html)\n",
    "\n",
    "\n",
    "### Instrucciones\n",
    "\n",
    "1. Seleccionar y transformar(generando las combinaciones polinomiales para un polinomio de grado dos o tres a elección) las features que considere que son las mejores para predecir la calidad del vino, utilizar como minimo 2 features. Para seleccionar las features, hacer un analisis exploratorio por ejemplo(pero no limitado a ):  graficando y viendo la forma en que se comportan los datos.\n",
    "\n",
    " Por ejemplo, se tienen las features \"a\" y \"b\" y seleccionamos polinomio de grado 2, hacemos feature engineering para obtener :\n",
    " \n",
    " $[a,b,a^{2},b^{2},ab]$\n",
    " \n",
    " No olvidar el \"bias\" (parámetro multiplicado por 1) ,con lo cual el dataset puede quedar con las columnas:\n",
    " \n",
    " $[1,a,b,a^{2},b^{2},ab]$\n",
    "2. Una vez transformada la data aplicar regresion lineal con las features polinomiales usando Tensorflow.\n",
    "\n",
    "Requisitos adicionales:\n",
    "* Se debe agregar al notebook un screenshot del grafo de tensorboard, simplificando(usando  names , y name_scope como visto en clase).\n",
    "\n",
    "* Se debe generar un directorio de logs de tensorboard para cada corrida/experimento , con cada directorio identificando facilmente la configuración del experimento como visto en clase, por ejemplo para un experimento con learning rate = 0.1 , y polinomio grado 2  crear un directorio: lr=0.1_polinomio_grado=2. (Agregar al notebook un screenshot de estas gráficas)\n",
    "\n",
    "* Concluir en markdown cual es el mejor modelo para este caso basado en la comparativa entre curvas de costo/error en tensorboard."
   ]
  },
  {
   "cell_type": "code",
   "execution_count": 9,
   "metadata": {},
   "outputs": [],
   "source": [
    "dataVinos = pd.read_csv('winequality-red.csv')"
   ]
  },
  {
   "cell_type": "markdown",
   "metadata": {},
   "source": [
    "### Red Wine Quality Data\n",
    "\n",
    "Se aplicará regresión para crear un modelo de la calidad de vino en función de características del mismo, siendo 1 el peor vino y 10 el mejor.\n",
    "\n",
    "Variables de entrada:\n",
    "1. fixed acidity \n",
    "2. volatile acidity \n",
    "3. citric acid \n",
    "4. residual sugar \n",
    "5. chlorides \n",
    "6. free sulfur dioxide \n",
    "7. total sulfur dioxide \n",
    "8. density \n",
    "9. pH \n",
    "10. sulphates \n",
    "11. alcohol \n",
    "\n",
    "Varaible a predecir: \n",
    "12. quality (puntuacion  entre 0 y 10) \n",
    "\n"
   ]
  },
  {
   "cell_type": "code",
   "execution_count": 22,
   "metadata": {},
   "outputs": [],
   "source": [
    "\n",
    "tf.disable_eager_execution()\n",
    "def multipleLinearModel(epochs, lr, data, ydata, strid):\n",
    "    tf.reset_default_graph()\n",
    "    m, n = data.shape\n",
    "    xdata_mas_uno = np.c_[np.ones((m, 1)), data]\n",
    "    X = tf.constant(xdata_mas_uno, dtype = tf.float32, name = 'X')\n",
    "    Y = tf.constant(ydata.reshape(-1, 1), dtype = tf.float32, name = 'y')\n",
    "    mb = tf.Variable(tf.random_uniform([n+1, 1], -1.0, 1.0), name = 'mb')\n",
    "    yhat = tf.matmul(X, mb, name = 'yhat')\n",
    "    error = 1/2*tf.reduce_mean(tf.square(tf.math.subtract(yhat , Y)), name = 'mse')\n",
    "    grads = tf.gradients(error, mb)\n",
    "    error_summary = tf.summary.scalar(name=\"MSE\", tensor=error)\n",
    "    newmb =  tf.subtract(mb ,tf.multiply(lr , grads[0] ))\n",
    "    updatemb = tf.assign(mb, newmb)\n",
    "    init = tf.global_variables_initializer()\n",
    "    with tf.Session() as sess:\n",
    "        writer = tf.summary.FileWriter(('.graphs/graphs_'+str(lr)+str(epochs)+strid), sess.graph)\n",
    "        sess.run(init)\n",
    "        for epoch in range(epochs):\n",
    "            e_summary = sess.run(error_summary)\n",
    "            if epoch % 10000 == 0:\n",
    "                print('Epoch', epoch , 'MSE = ', error.eval())\n",
    "            sess.run(updatemb)\n",
    "            writer.add_summary(e_summary,epoch)\n",
    "        print(mb.eval())"
   ]
  },
  {
   "cell_type": "code",
   "execution_count": 11,
   "metadata": {},
   "outputs": [
    {
     "name": "stdout",
     "output_type": "stream",
     "text": [
      "fixed acidity           0.124052\n",
      "volatile acidity       -0.390558\n",
      "citric acid             0.226373\n",
      "residual sugar          0.013732\n",
      "chlorides              -0.128907\n",
      "free sulfur dioxide    -0.050656\n",
      "total sulfur dioxide   -0.185100\n",
      "density                -0.174919\n",
      "pH                     -0.057731\n",
      "sulphates               0.251397\n",
      "alcohol                 0.476166\n",
      "Name: quality, dtype: float64\n"
     ]
    }
   ],
   "source": [
    "correlations = dataVinos.corr()['quality'].drop('quality')\n",
    "print(correlations)"
   ]
  },
  {
   "cell_type": "code",
   "execution_count": 12,
   "metadata": {},
   "outputs": [
    {
     "data": {
      "image/png": "[encoded data removed]",
      "text/plain": [
       "<Figure size 432x288 with 2 Axes>"
      ]
     },
     "metadata": {
      "needs_background": "light"
     },
     "output_type": "display_data"
    }
   ],
   "source": [
    "sns.heatmap(dataVinos.corr())\n",
    "plt.show()"
   ]
  },
  {
   "cell_type": "code",
   "execution_count": 13,
   "metadata": {},
   "outputs": [],
   "source": [
    "def obtenerFeatsAUsar(minimo):\n",
    "    abs_corrs = correlations.abs()\n",
    "    corr_altas = abs_corrs[abs_corrs > minimo].index.values.tolist()\n",
    "    return corr_altas"
   ]
  },
  {
   "cell_type": "markdown",
   "metadata": {},
   "source": [
    "# Unicamente utilizaremos las variables que tengan una correlacion mayor a 0.15"
   ]
  },
  {
   "cell_type": "code",
   "execution_count": 32,
   "metadata": {},
   "outputs": [
    {
     "name": "stdout",
     "output_type": "stream",
     "text": [
      "Epoch 0 MSE =  1029.5426\n",
      "Epoch 10000 MSE =  0.52150047\n",
      "Epoch 20000 MSE =  0.36513835\n",
      "Epoch 30000 MSE =  0.2906574\n",
      "Epoch 40000 MSE =  0.25517794\n",
      "Epoch 50000 MSE =  0.23827581\n",
      "Epoch 60000 MSE =  0.23022375\n",
      "Epoch 70000 MSE =  0.22638634\n",
      "Epoch 80000 MSE =  0.22455679\n",
      "Epoch 90000 MSE =  0.22368442\n",
      "[[ 0.27834302]\n",
      " [-0.6924668 ]\n",
      " [ 0.7850222 ]\n",
      " [ 0.56886965]\n",
      " [-0.01801348]\n",
      " [-0.12135362]]\n"
     ]
    }
   ],
   "source": [
    "features = obtenerFeatsAUsar(0.35) \n",
    "x = dataVinos[features].copy() \n",
    "y = dataVinos['quality'].copy()\n",
    "x['a2'] = x['volatile acidity'] * x['volatile acidity']\n",
    "x['b2'] = x['alcohol'] * x['alcohol']\n",
    "x['ab'] = x['volatile acidity'] * x['alcohol']\n",
    "np.array(x)\n",
    "np.array(y)\n",
    "multipleLinearModel(100000,0.00004,np.array(x),np.array(y),'a2b2ab')\n"
   ]
  },
  {
   "cell_type": "code",
   "execution_count": 33,
   "metadata": {},
   "outputs": [
    {
     "name": "stdout",
     "output_type": "stream",
     "text": [
      "Epoch 0 MSE =  1731.3926\n",
      "Epoch 10000 MSE =  0.40578008\n",
      "Epoch 20000 MSE =  0.31630346\n",
      "Epoch 30000 MSE =  0.28333473\n",
      "Epoch 40000 MSE =  0.2701951\n",
      "Epoch 50000 MSE =  0.26407275\n",
      "Epoch 60000 MSE =  0.2604867\n",
      "Epoch 70000 MSE =  0.25786802\n",
      "Epoch 80000 MSE =  0.25567\n",
      "Epoch 90000 MSE =  0.25368845\n",
      "[[ 0.8247815 ]\n",
      " [-0.37131903]\n",
      " [ 0.56634694]\n",
      " [ 0.30720863]\n",
      " [-0.00905392]]\n"
     ]
    }
   ],
   "source": [
    "\n",
    "multipleLinearModel(100000,0.00004,np.array(x)[:,0:4],np.array(y),'a2b2')"
   ]
  },
  {
   "cell_type": "code",
   "execution_count": 34,
   "metadata": {},
   "outputs": [
    {
     "name": "stdout",
     "output_type": "stream",
     "text": [
      "Epoch 0 MSE =  1.4750288\n",
      "Epoch 10000 MSE =  0.2862833\n",
      "Epoch 20000 MSE =  0.28453472\n",
      "Epoch 30000 MSE =  0.2828884\n",
      "Epoch 40000 MSE =  0.28133723\n",
      "Epoch 50000 MSE =  0.27987543\n",
      "Epoch 60000 MSE =  0.2784899\n",
      "Epoch 70000 MSE =  0.2771821\n",
      "Epoch 80000 MSE =  0.2759404\n",
      "Epoch 90000 MSE =  0.27477106\n",
      "[[-0.26808384]\n",
      " [-0.5158454 ]\n",
      " [ 0.6138117 ]\n",
      " [-0.81517726]]\n"
     ]
    }
   ],
   "source": [
    "\n",
    "multipleLinearModel(100000,0.00004,np.array(x)[:,0:3],np.array(y),'a2')"
   ]
  },
  {
   "cell_type": "code",
   "execution_count": 35,
   "metadata": {},
   "outputs": [
    {
     "name": "stdout",
     "output_type": "stream",
     "text": [
      "Epoch 0 MSE =  99.70727\n",
      "Epoch 10000 MSE =  0.26849288\n",
      "Epoch 20000 MSE =  0.26817414\n",
      "Epoch 30000 MSE =  0.26785764\n",
      "Epoch 40000 MSE =  0.26754636\n",
      "Epoch 50000 MSE =  0.26723656\n",
      "Epoch 60000 MSE =  0.26692894\n",
      "Epoch 70000 MSE =  0.2666264\n",
      "Epoch 80000 MSE =  0.26632547\n",
      "Epoch 90000 MSE =  0.2660266\n",
      "[[-0.14781569]\n",
      " [-0.67769164]\n",
      " [ 0.58665127]]\n"
     ]
    }
   ],
   "source": [
    "\n",
    "multipleLinearModel(100000,0.00004,np.array(x)[:,0:2],np.array(y),'lin')"
   ]
  },
  {
   "cell_type": "markdown",
   "metadata": {},
   "source": [
    "# Tensorboard MSE scalar\n",
    "![image info](./ScalarsMSE.png)"
   ]
  },
  {
   "cell_type": "markdown",
   "metadata": {},
   "source": [
    "## Como podemos ver la grafica naranja es la que mas reduce el error la cual representa el modelo de grado 2\n",
    "\n",
    "Y = a1 + a2*x + a3*z + a4*x^2 + a5*z^2 + a6*xz\n",
    "\n",
    "Siendo X = Volatile Acidity\n",
    "Siendo Z = Alcohol\n",
    "\n",
    "# Con el siguiente resultado:\n",
    "\n",
    "## Y = 0.27834302 - 0.6924668 x + 0.7850222 z + 0.56886965 x^2 -0.01801348 z^2 - 0.12135362 xz\n"
   ]
  },
  {
   "cell_type": "markdown",
   "metadata": {},
   "source": [
    "# Grafo de TensorBoard\n",
    "![image info](./grafo.png)"
   ]
  },
  {
   "cell_type": "code",
   "execution_count": null,
   "metadata": {},
   "outputs": [],
   "source": []
  }
 ],
 "metadata": {
  "kernelspec": {
   "display_name": "Python 3",
   "language": "python",
   "name": "python3"
  },
  "language_info": {
   "codemirror_mode": {
    "name": "ipython",
    "version": 3
   },
   "file_extension": ".py",
   "mimetype": "text/x-python",
   "name": "python",
   "nbconvert_exporter": "python",
   "pygments_lexer": "ipython3",
   "version": "3.7.7"
  }
 },
 "nbformat": 4,
 "nbformat_minor": 4
}
