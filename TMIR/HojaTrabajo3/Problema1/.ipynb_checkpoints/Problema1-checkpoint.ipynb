{
 "cells": [
  {
   "cell_type": "markdown",
   "metadata": {},
   "source": [
    "# Problema 1\n",
    "Expresiones regulares"
   ]
  },
  {
   "cell_type": "code",
   "execution_count": 1,
   "metadata": {},
   "outputs": [],
   "source": [
    "import re"
   ]
  },
  {
   "cell_type": "code",
   "execution_count": 7,
   "metadata": {},
   "outputs": [
    {
     "name": "stdout",
     "output_type": "stream",
     "text": [
      "1\n",
      "1\n",
      "1\n",
      "0\n"
     ]
    }
   ],
   "source": [
    "def validarCorreo(correo):\n",
    "    pattern = re.compile(\"[^@]+@[^@]+\\.[^@]+\")\n",
    "    if pattern.match(correo) == None:\n",
    "        return 0\n",
    "    else:\n",
    "        return 1\n",
    "print(validarCorreo('Guate.360-porelmundo@miguate.com'))\n",
    "print(validarCorreo('Miercoles3@hotmail.com'))\n",
    "print(validarCorreo('Progra3.galileo@galileo.edu'))\n",
    "print(validarCorreo('Progra3.galileo@galileo.'))"
   ]
  },
  {
   "cell_type": "code",
   "execution_count": 23,
   "metadata": {},
   "outputs": [
    {
     "name": "stdout",
     "output_type": "stream",
     "text": [
      "1\n",
      "1\n",
      "1\n",
      "0\n"
     ]
    }
   ],
   "source": [
    "def validarUrl(url):\n",
    "    pattern = re.compile(\"^http[S-s]*\\://www.[A-Za-z.\\s_-]+(?:[A-Za-z.\\s_-]|[0-9])*.(?:com|edu|org|net)\")\n",
    "    if pattern.match(url) == None:\n",
    "        return 0\n",
    "    else:\n",
    "        return 1\n",
    "print(validarUrl('https://www.guate360-porelmundo.com'))\n",
    "print(validarUrl('http://www.a2.net'))\n",
    "print(validarUrl('https://www.galileo.edu'))\n",
    "print(validarUrl('http://www.8.org'))"
   ]
  },
  {
   "cell_type": "code",
   "execution_count": 28,
   "metadata": {},
   "outputs": [
    {
     "name": "stdout",
     "output_type": "stream",
     "text": [
      "1\n",
      "1\n",
      "0\n"
     ]
    }
   ],
   "source": [
    "def validarMAC(add):\n",
    "    pattern = re.compile(\"([0-9a-fA-F]:?\\s?){12}\")\n",
    "    if pattern.match(add) == None:\n",
    "        return 0\n",
    "    else:\n",
    "        return 1\n",
    "print(validarMAC('5A 6F AF 8C 9B 1D'))\n",
    "print(validarMAC('6D 6C 4D 3A EB 3F'))\n",
    "print(validarMAC('3A 7C FA C8 6D 4J'))"
   ]
  },
  {
   "cell_type": "code",
   "execution_count": 32,
   "metadata": {},
   "outputs": [
    {
     "name": "stdout",
     "output_type": "stream",
     "text": [
      "1\n",
      "1\n",
      "1\n",
      "0\n"
     ]
    }
   ],
   "source": [
    "def validaripv4(add):\n",
    "    pattern = re.compile(\"^((25[0-5]|2[0-4][0-9]|[01]?[0-9][0-9]?)\\\\.){3}(25[0-5]|2[0-4][0-9]|[01]?[0-9][0-9]?)$\")\n",
    "    if pattern.match(add) == None:\n",
    "        return 0\n",
    "    else:\n",
    "        return 1\n",
    "print(validaripv4('192.16.8.1'))\n",
    "print(validaripv4('234.56.78.91'))\n",
    "print(validaripv4('1.2.3.4'))\n",
    "print(validaripv4('192.168.45.345'))"
   ]
  },
  {
   "cell_type": "code",
   "execution_count": 66,
   "metadata": {},
   "outputs": [
    {
     "name": "stdout",
     "output_type": "stream",
     "text": [
      "1\n",
      "1\n",
      "1\n",
      "1\n",
      "0\n"
     ]
    }
   ],
   "source": [
    "def validarFecha(date):\n",
    "    pattern = re.compile(\"^(?:[3][0-1]|[0-2][0-9]|[1-9]){1}(?:\\.|\\/|\\-){1}(?:[1][1-2]|[0][1-9]|[1-9]){1}(?:\\.|\\/|\\-){1}(?:20|)([0-1][0-9])\")\n",
    "    if pattern.match(date) == None:\n",
    "        return 0\n",
    "    else:\n",
    "        return 1\n",
    "print(validarFecha('20/1/2019'))\n",
    "print(validarFecha('12.03.2005'))\n",
    "print(validarFecha('31-11-08'))\n",
    "print(validarFecha('1-1-2012'))\n",
    "print(validarFecha('12-12-22'))"
   ]
  },
  {
   "cell_type": "code",
   "execution_count": null,
   "metadata": {},
   "outputs": [],
   "source": []
  }
 ],
 "metadata": {
  "kernelspec": {
   "display_name": "Python 3",
   "language": "python",
   "name": "python3"
  },
  "language_info": {
   "codemirror_mode": {
    "name": "ipython",
    "version": 3
   },
   "file_extension": ".py",
   "mimetype": "text/x-python",
   "name": "python",
   "nbconvert_exporter": "python",
   "pygments_lexer": "ipython3",
   "version": "3.7.7"
  }
 },
 "nbformat": 4,
 "nbformat_minor": 4
}
