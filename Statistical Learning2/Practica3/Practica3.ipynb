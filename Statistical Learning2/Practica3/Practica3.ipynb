{
 "cells": [
  {
   "cell_type": "markdown",
   "metadata": {},
   "source": [
    "# Operacion XOR con composicion"
   ]
  },
  {
   "cell_type": "code",
   "execution_count": 130,
   "metadata": {},
   "outputs": [],
   "source": [
    "import numpy as np\n",
    "import random"
   ]
  },
  {
   "cell_type": "code",
   "execution_count": 10,
   "metadata": {},
   "outputs": [
    {
     "name": "stdout",
     "output_type": "stream",
     "text": [
      "0\n",
      "1\n"
     ]
    }
   ],
   "source": [
    "def negate(x):\n",
    "    w = [ -1, 1 ]\n",
    "    return x*w[0] + w[1]\n",
    "print(negate(1))\n",
    "print(negate(0))"
   ]
  },
  {
   "cell_type": "code",
   "execution_count": 11,
   "metadata": {},
   "outputs": [],
   "source": [
    "def or_operator(x):\n",
    "    w = [1,1]\n",
    "    return int(np.dot(x , w) > 0)"
   ]
  },
  {
   "cell_type": "code",
   "execution_count": 12,
   "metadata": {},
   "outputs": [
    {
     "name": "stdout",
     "output_type": "stream",
     "text": [
      "0\n",
      "1\n",
      "1\n",
      "1\n"
     ]
    }
   ],
   "source": [
    "print(or_operator([0,0]))\n",
    "print(or_operator([0,1]))\n",
    "print(or_operator([1,0]))\n",
    "print(or_operator([1,1]))"
   ]
  },
  {
   "cell_type": "code",
   "execution_count": 13,
   "metadata": {},
   "outputs": [],
   "source": [
    "def and_operator(x):\n",
    "    w = [1,1]\n",
    "    return int(np.dot(x , w) == 2 )"
   ]
  },
  {
   "cell_type": "code",
   "execution_count": 14,
   "metadata": {},
   "outputs": [
    {
     "name": "stdout",
     "output_type": "stream",
     "text": [
      "0\n",
      "0\n",
      "0\n",
      "1\n"
     ]
    }
   ],
   "source": [
    "print(and_operator([0,0]))\n",
    "print(and_operator([0,1]))\n",
    "print(and_operator([1,0]))\n",
    "print(and_operator([1,1]))"
   ]
  },
  {
   "cell_type": "code",
   "execution_count": 15,
   "metadata": {},
   "outputs": [],
   "source": [
    "def xor_operator(x):\n",
    "    return and_operator( [ negate(and_operator(x)) ,or_operator(x) ] )"
   ]
  },
  {
   "cell_type": "code",
   "execution_count": 16,
   "metadata": {},
   "outputs": [
    {
     "name": "stdout",
     "output_type": "stream",
     "text": [
      "0\n",
      "1\n",
      "1\n",
      "0\n"
     ]
    }
   ],
   "source": [
    "print(xor_operator([0,0]))\n",
    "print(xor_operator([0,1]))\n",
    "print(xor_operator([1,0]))\n",
    "print(xor_operator([1,1]))"
   ]
  },
  {
   "cell_type": "markdown",
   "metadata": {},
   "source": [
    "# XOR con neural network"
   ]
  },
  {
   "cell_type": "code",
   "execution_count": 131,
   "metadata": {},
   "outputs": [
    {
     "name": "stdout",
     "output_type": "stream",
     "text": [
      "Pesos para And\n",
      "[ 0.1  0.1 -0.2]\n",
      "Pesos para Or\n",
      "[ 0.1  0.1 -0.1]\n",
      "Pruebas OR\n",
      "0\n",
      "1\n",
      "1\n",
      "1\n",
      "Pruebas AND\n",
      "0\n",
      "0\n",
      "0\n",
      "1\n"
     ]
    }
   ],
   "source": [
    "anddata = np.array([\n",
    "    [1,1,1,1],\n",
    "    [1,0,1,0],\n",
    "    [0,1,1,0],\n",
    "    [0,0,1,0]\n",
    "])\n",
    "\n",
    "ordata = np.array([\n",
    "    [1,1,1,1],\n",
    "    [1,0,1,1],\n",
    "    [0,1,1,1],\n",
    "    [0,0,1,0]\n",
    "])\n",
    "random.seed(4)\n",
    "wand = np.array([random.randint(0,1),random.randint(0,1),random.randint(0,1)])\n",
    "wor = np.array([random.randint(0,1),random.randint(0,1),random.randint(0,1)])\n",
    "lr = 0.1\n",
    "#trainin wand\n",
    "error = 1\n",
    "pand = anddata[0:1]\n",
    "nand = anddata[1:4]\n",
    "while error > 0:\n",
    "    x = anddata[random.randint(0, len(anddata) - 1),:]\n",
    "    res = np.dot(wand, x[0:3])\n",
    "    if (pand == x).all(1).any() and res < 0:\n",
    "        wand = wand + lr * x[0:3]\n",
    "    if (nand == x).all(1).any() and res >= 0:\n",
    "        wand = wand - lr * x[0:3]\n",
    "    total = np.matmul(anddata[:,0:3], wand )\n",
    "    error = 0\n",
    "    for i in range(len(total)):\n",
    "        if total[i] >= 0 and anddata[i][3] == 0:\n",
    "            error+=1\n",
    "        if total[i] < 0 and anddata[i][3] == 1:\n",
    "            error+=1\n",
    "print('Pesos para And')\n",
    "print(wand)\n",
    "error = 1\n",
    "pand = ordata[0:3]\n",
    "nand = ordata[3:4]\n",
    "while error > 0:\n",
    "    x = ordata[random.randint(0, len(ordata) - 1),:]\n",
    "    res = np.dot(wor, x[0:3])\n",
    "    if (pand == x).all(1).any() and res < 0:\n",
    "        wor = wor + lr * x[0:3]\n",
    "    if (nand == x).all(1).any() and res >= 0:\n",
    "        wor = wor - lr * x[0:3]\n",
    "    total = np.matmul(ordata[:,0:3], wor )\n",
    "    error = 0\n",
    "    for i in range(len(total)):\n",
    "        if total[i] >= 0 and ordata[i][3] == 0:\n",
    "            error+=1\n",
    "        if total[i] < 0 and ordata[i][3] == 1:\n",
    "            error+=1\n",
    "print('Pesos para Or')\n",
    "print(wor)\n",
    "\n",
    "def per_or(x):\n",
    "    res = np.dot(wor, x)\n",
    "    return int(res>=0)\n",
    "def per_and(x):\n",
    "    res = np.dot(wand, x)\n",
    "    return int(res>=0)\n",
    "print('Pruebas OR')\n",
    "print(per_or([0,0,1]))\n",
    "print(per_or([0,1,1]))\n",
    "print(per_or([1,0,1]))\n",
    "print(per_or([1,1,1]))\n",
    "print('Pruebas AND')\n",
    "print(per_and([0,0,1]))\n",
    "print(per_and([0,1,1]))\n",
    "print(per_and([1,0,1]))\n",
    "print(per_and([1,1,1]))"
   ]
  },
  {
   "cell_type": "code",
   "execution_count": 129,
   "metadata": {},
   "outputs": [
    {
     "name": "stdout",
     "output_type": "stream",
     "text": [
      "0\n",
      "1\n",
      "1\n",
      "0\n"
     ]
    }
   ],
   "source": [
    "def xor_operator_with_per(x):\n",
    "    return per_and( [ negate(per_and(x)) ,per_or(x) , 1 ] )\n",
    "print(xor_operator_with_per([0,0,1]))\n",
    "print(xor_operator_with_per([0,1,1]))\n",
    "print(xor_operator_with_per([1,0,1]))\n",
    "print(xor_operator_with_per([1,1,1]))"
   ]
  }
 ],
 "metadata": {
  "kernelspec": {
   "display_name": "Python 2",
   "language": "python",
   "name": "python2"
  },
  "language_info": {
   "codemirror_mode": {
    "name": "ipython",
    "version": 2
   },
   "file_extension": ".py",
   "mimetype": "text/x-python",
   "name": "python",
   "nbconvert_exporter": "python",
   "pygments_lexer": "ipython2",
   "version": "2.7.18"
  }
 },
 "nbformat": 4,
 "nbformat_minor": 2
}
