{
 "cells": [
  {
   "cell_type": "code",
   "execution_count": 3,
   "metadata": {},
   "outputs": [],
   "source": [
    "import numpy as np\n",
    "import matplotlib.pyplot as plt"
   ]
  },
  {
   "cell_type": "code",
   "execution_count": 4,
   "metadata": {},
   "outputs": [
    {
     "data": {
      "text/plain": [
       "array([0.88079708, 0.95257413, 0.98201379])"
      ]
     },
     "execution_count": 4,
     "metadata": {},
     "output_type": "execute_result"
    }
   ],
   "source": [
    "def sigFunc(X):\n",
    "    return 1/(1+np.exp(-X))\n",
    "sigFunc(np.array([2,3,4]))"
   ]
  },
  {
   "cell_type": "code",
   "execution_count": 5,
   "metadata": {},
   "outputs": [],
   "source": [
    "# 10 observaciones, 2 variables\n",
    "X = np.array([\n",
    "      [1,0],\n",
    "      [1,2],\n",
    "      [4,5],\n",
    "      [6,7],\n",
    "      [2,1],\n",
    "      [4,3],\n",
    "      [4,8],\n",
    "      [6,1],\n",
    "      [1,7],\n",
    "      [3,9],\n",
    "])"
   ]
  },
  {
   "cell_type": "markdown",
   "metadata": {},
   "source": [
    "# Forward Propagation\n",
    "# Diagrama 1"
   ]
  },
  {
   "cell_type": "markdown",
   "metadata": {},
   "source": [
    "![Diagrama 1](Diagrama1.png)"
   ]
  },
  {
   "cell_type": "code",
   "execution_count": 6,
   "metadata": {},
   "outputs": [
    {
     "data": {
      "text/plain": [
       "array([[0.338565  ],\n",
       "       [0.16943494],\n",
       "       [0.99432264],\n",
       "       [0.99752158],\n",
       "       [0.92413967],\n",
       "       [0.99748432],\n",
       "       [0.28749924],\n",
       "       [0.99752738],\n",
       "       [0.00247265],\n",
       "       [0.00255685]])"
      ]
     },
     "execution_count": 6,
     "metadata": {},
     "output_type": "execute_result"
    }
   ],
   "source": [
    "class RedNeuronalD1:\n",
    "  def __init__(self):\n",
    "    self.weightCapa1 = np.array([\n",
    "        [5,-2,-8],\n",
    "        [7,-3,1],\n",
    "        [0,0,0]\n",
    "    ])\n",
    "    self.weightCapa2 = np.array([\n",
    "      [7,5,-6],   \n",
    "    ])\n",
    "\n",
    "  def forward_propagation(self,X):\n",
    "    A = sigFunc(np.matmul(\n",
    "                  np.hstack((X,np.ones((X.shape[0],1)))),\n",
    "                  self.weightCapa1.T))\n",
    "    y_aprox = sigFunc(np.matmul( \n",
    "                                np.hstack((A[:,0:2],np.ones((A.shape[0],1)))) ,\n",
    "                                self.weightCapa2.T))\n",
    "\n",
    "    return y_aprox\n",
    "red1 = RedNeuronalD1()\n",
    "red1.forward_propagation(X)"
   ]
  },
  {
   "cell_type": "markdown",
   "metadata": {},
   "source": [
    "# Diagrama 2\n",
    "![Diagrama 2](Diagrama2.png)"
   ]
  },
  {
   "cell_type": "code",
   "execution_count": 7,
   "metadata": {},
   "outputs": [
    {
     "data": {
      "text/plain": [
       "array([[ 0.71],\n",
       "       [ 2.63],\n",
       "       [ 7.64],\n",
       "       [10.98],\n",
       "       [ 2.38],\n",
       "       [ 5.72],\n",
       "       [10.52],\n",
       "       [ 5.22],\n",
       "       [ 7.43],\n",
       "       [10.77]])"
      ]
     },
     "execution_count": 7,
     "metadata": {},
     "output_type": "execute_result"
    }
   ],
   "source": [
    "class RedNeuronalD2:\n",
    "  def __init__(self):\n",
    "    self.weightCapa1 = np.array([\n",
    "        [0.8,0.2],\n",
    "        [0.4,0.9],\n",
    "        [0.3,0.5]\n",
    "    ])\n",
    "    self.weightCapa2 = np.array([\n",
    "      [0.3,0.5,0.9],   \n",
    "    ])\n",
    "\n",
    "  def forward_propagation(self,X):\n",
    "    A = np.matmul(\n",
    "                  X,\n",
    "                  self.weightCapa1.T)\n",
    "    y_aprox = np.matmul( \n",
    "                                A ,\n",
    "                                self.weightCapa2.T)\n",
    "\n",
    "    return y_aprox\n",
    "red1 = RedNeuronalD2()\n",
    "red1.forward_propagation(X)"
   ]
  },
  {
   "cell_type": "markdown",
   "metadata": {},
   "source": [
    "# Diagrama 3\n",
    "![Diagrama 3](Diagrama3.png)"
   ]
  },
  {
   "cell_type": "code",
   "execution_count": 27,
   "metadata": {},
   "outputs": [
    {
     "name": "stdout",
     "output_type": "stream",
     "text": [
      "Matriz Resultante Capa Intermedia\n",
      "[[1.00000000e+00 4.53978687e-05]\n",
      " [9.99954602e-01 9.99954602e-01]\n",
      " [9.99954602e-01 9.99954602e-01]\n",
      " [4.53978687e-05 1.00000000e+00]]\n"
     ]
    },
    {
     "data": {
      "image/png": "[encoded data removed]",
      "text/plain": [
       "<Figure size 432x288 with 1 Axes>"
      ]
     },
     "metadata": {
      "needs_background": "light"
     },
     "output_type": "display_data"
    },
    {
     "data": {
      "text/plain": [
       "array([[4.54391049e-05],\n",
       "       [9.99954520e-01],\n",
       "       [9.99954520e-01],\n",
       "       [4.54391049e-05]])"
      ]
     },
     "execution_count": 27,
     "metadata": {},
     "output_type": "execute_result"
    }
   ],
   "source": [
    "class RedNeuronalD3:\n",
    "  def __init__(self):\n",
    "    self.weightCapa1 = np.array([\n",
    "        [20,20,-10],\n",
    "        [-20,-20,30]\n",
    "    ])\n",
    "    self.weightCapa2 = np.array([\n",
    "      [20,20,-30],   \n",
    "    ])\n",
    "\n",
    "  def forward_propagation(self,X):\n",
    "    A = sigFunc(np.matmul(\n",
    "                  np.hstack((X,np.ones((X.shape[0],1)))),\n",
    "                  self.weightCapa1.T))\n",
    "    print('Matriz Resultante Capa Intermedia')\n",
    "    print(A)\n",
    "    plt.scatter(X[0,0], A[0,0], c=('blue'), s=75)\n",
    "    plt.scatter(X[0,1], A[0,1], c=('orange'))\n",
    "    \n",
    "    plt.scatter(X[1,0], A[1,0], c=('blue'), s=75)\n",
    "    plt.scatter(X[1,1], A[1,1], c=('orange'))\n",
    "    \n",
    "    plt.scatter(X[2,0], A[2,0], c=('blue'), s=75)\n",
    "    plt.scatter(X[2,1], A[2,1], c=('orange'))\n",
    "    \n",
    "    plt.scatter(X[3,0], A[3,0], c=('blue'), s=75)\n",
    "    plt.scatter(X[3,1], A[3,1], c=('orange'))\n",
    "    \n",
    "    plt.title('Scatter plot intermedio')\n",
    "    plt.xlabel('X1')\n",
    "    plt.ylabel('X2')\n",
    "    plt.axis([-0.5, 1.5, -0.5, 1.5])\n",
    "    plt.show()\n",
    "    \n",
    "    y_aprox = sigFunc(np.matmul( \n",
    "                                np.hstack((A[:,0:2],np.ones((A.shape[0],1)))) ,\n",
    "                                self.weightCapa2.T))\n",
    "\n",
    "    return y_aprox\n",
    "red1 = RedNeuronalD3()\n",
    "red1.forward_propagation(np.array([\n",
    "      [1,1],\n",
    "      [1,0],\n",
    "      [0,1],\n",
    "      [0,0]]))"
   ]
  },
  {
   "cell_type": "markdown",
   "metadata": {},
   "source": [
    "# Comentarios de Representacion Intermedia\n",
    "Es muy interesante ver como la representacion intermedia tiene el mismo valor cuando los valores son iguales y opuestos cuando los valores son diferentes lo cual nos esta ayudando a inferir de cierta forma en la siguiente capa."
   ]
  },
  {
   "cell_type": "code",
   "execution_count": null,
   "metadata": {},
   "outputs": [],
   "source": []
  }
 ],
 "metadata": {
  "kernelspec": {
   "display_name": "Python 3",
   "language": "python",
   "name": "python3"
  },
  "language_info": {
   "codemirror_mode": {
    "name": "ipython",
    "version": 3
   },
   "file_extension": ".py",
   "mimetype": "text/x-python",
   "name": "python",
   "nbconvert_exporter": "python",
   "pygments_lexer": "ipython3",
   "version": "3.7.7"
  }
 },
 "nbformat": 4,
 "nbformat_minor": 4
}
